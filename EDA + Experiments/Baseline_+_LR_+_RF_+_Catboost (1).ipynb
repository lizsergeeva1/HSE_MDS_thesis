{
  "nbformat": 4,
  "nbformat_minor": 0,
  "metadata": {
    "colab": {
      "provenance": [],
      "gpuType": "T4"
    },
    "kernelspec": {
      "name": "python3",
      "display_name": "Python 3"
    },
    "language_info": {
      "name": "python"
    },
    "accelerator": "GPU",
    "widgets": {
      "application/vnd.jupyter.widget-state+json": {
        "243a0b2210fd4e75ae4d7d6a490da945": {
          "model_module": "@jupyter-widgets/controls",
          "model_name": "HBoxModel",
          "model_module_version": "1.5.0",
          "state": {
            "_dom_classes": [],
            "_model_module": "@jupyter-widgets/controls",
            "_model_module_version": "1.5.0",
            "_model_name": "HBoxModel",
            "_view_count": null,
            "_view_module": "@jupyter-widgets/controls",
            "_view_module_version": "1.5.0",
            "_view_name": "HBoxView",
            "box_style": "",
            "children": [
              "IPY_MODEL_29be5d834bae41df889a30cd39e1d2fd",
              "IPY_MODEL_006e3c96a1474a9a95e05a53b8dd9cb7",
              "IPY_MODEL_0fc7e0260bfe4878ac7d795e44211dd0"
            ],
            "layout": "IPY_MODEL_cef7c9f69cd540678cdb525de3f0091a"
          }
        },
        "29be5d834bae41df889a30cd39e1d2fd": {
          "model_module": "@jupyter-widgets/controls",
          "model_name": "HTMLModel",
          "model_module_version": "1.5.0",
          "state": {
            "_dom_classes": [],
            "_model_module": "@jupyter-widgets/controls",
            "_model_module_version": "1.5.0",
            "_model_name": "HTMLModel",
            "_view_count": null,
            "_view_module": "@jupyter-widgets/controls",
            "_view_module_version": "1.5.0",
            "_view_name": "HTMLView",
            "description": "",
            "description_tooltip": null,
            "layout": "IPY_MODEL_b371ccdaee044edebc681c09f840039b",
            "placeholder": "​",
            "style": "IPY_MODEL_de0b502907ee4aa4ae1279a83b52ee45",
            "value": "100%"
          }
        },
        "006e3c96a1474a9a95e05a53b8dd9cb7": {
          "model_module": "@jupyter-widgets/controls",
          "model_name": "FloatProgressModel",
          "model_module_version": "1.5.0",
          "state": {
            "_dom_classes": [],
            "_model_module": "@jupyter-widgets/controls",
            "_model_module_version": "1.5.0",
            "_model_name": "FloatProgressModel",
            "_view_count": null,
            "_view_module": "@jupyter-widgets/controls",
            "_view_module_version": "1.5.0",
            "_view_name": "ProgressView",
            "bar_style": "success",
            "description": "",
            "description_tooltip": null,
            "layout": "IPY_MODEL_4297a43e16c345d1915d5066018b7e74",
            "max": 14516,
            "min": 0,
            "orientation": "horizontal",
            "style": "IPY_MODEL_d2608968c5304bfdbf244a171436ba75",
            "value": 14516
          }
        },
        "0fc7e0260bfe4878ac7d795e44211dd0": {
          "model_module": "@jupyter-widgets/controls",
          "model_name": "HTMLModel",
          "model_module_version": "1.5.0",
          "state": {
            "_dom_classes": [],
            "_model_module": "@jupyter-widgets/controls",
            "_model_module_version": "1.5.0",
            "_model_name": "HTMLModel",
            "_view_count": null,
            "_view_module": "@jupyter-widgets/controls",
            "_view_module_version": "1.5.0",
            "_view_name": "HTMLView",
            "description": "",
            "description_tooltip": null,
            "layout": "IPY_MODEL_90ed5c913f414234872287bc50c6f30d",
            "placeholder": "​",
            "style": "IPY_MODEL_9841a8f751ba4b0cb4ff909ec729ba92",
            "value": " 14516/14516 [03:28&lt;00:00, 54.89it/s]"
          }
        },
        "cef7c9f69cd540678cdb525de3f0091a": {
          "model_module": "@jupyter-widgets/base",
          "model_name": "LayoutModel",
          "model_module_version": "1.2.0",
          "state": {
            "_model_module": "@jupyter-widgets/base",
            "_model_module_version": "1.2.0",
            "_model_name": "LayoutModel",
            "_view_count": null,
            "_view_module": "@jupyter-widgets/base",
            "_view_module_version": "1.2.0",
            "_view_name": "LayoutView",
            "align_content": null,
            "align_items": null,
            "align_self": null,
            "border": null,
            "bottom": null,
            "display": null,
            "flex": null,
            "flex_flow": null,
            "grid_area": null,
            "grid_auto_columns": null,
            "grid_auto_flow": null,
            "grid_auto_rows": null,
            "grid_column": null,
            "grid_gap": null,
            "grid_row": null,
            "grid_template_areas": null,
            "grid_template_columns": null,
            "grid_template_rows": null,
            "height": null,
            "justify_content": null,
            "justify_items": null,
            "left": null,
            "margin": null,
            "max_height": null,
            "max_width": null,
            "min_height": null,
            "min_width": null,
            "object_fit": null,
            "object_position": null,
            "order": null,
            "overflow": null,
            "overflow_x": null,
            "overflow_y": null,
            "padding": null,
            "right": null,
            "top": null,
            "visibility": null,
            "width": null
          }
        },
        "b371ccdaee044edebc681c09f840039b": {
          "model_module": "@jupyter-widgets/base",
          "model_name": "LayoutModel",
          "model_module_version": "1.2.0",
          "state": {
            "_model_module": "@jupyter-widgets/base",
            "_model_module_version": "1.2.0",
            "_model_name": "LayoutModel",
            "_view_count": null,
            "_view_module": "@jupyter-widgets/base",
            "_view_module_version": "1.2.0",
            "_view_name": "LayoutView",
            "align_content": null,
            "align_items": null,
            "align_self": null,
            "border": null,
            "bottom": null,
            "display": null,
            "flex": null,
            "flex_flow": null,
            "grid_area": null,
            "grid_auto_columns": null,
            "grid_auto_flow": null,
            "grid_auto_rows": null,
            "grid_column": null,
            "grid_gap": null,
            "grid_row": null,
            "grid_template_areas": null,
            "grid_template_columns": null,
            "grid_template_rows": null,
            "height": null,
            "justify_content": null,
            "justify_items": null,
            "left": null,
            "margin": null,
            "max_height": null,
            "max_width": null,
            "min_height": null,
            "min_width": null,
            "object_fit": null,
            "object_position": null,
            "order": null,
            "overflow": null,
            "overflow_x": null,
            "overflow_y": null,
            "padding": null,
            "right": null,
            "top": null,
            "visibility": null,
            "width": null
          }
        },
        "de0b502907ee4aa4ae1279a83b52ee45": {
          "model_module": "@jupyter-widgets/controls",
          "model_name": "DescriptionStyleModel",
          "model_module_version": "1.5.0",
          "state": {
            "_model_module": "@jupyter-widgets/controls",
            "_model_module_version": "1.5.0",
            "_model_name": "DescriptionStyleModel",
            "_view_count": null,
            "_view_module": "@jupyter-widgets/base",
            "_view_module_version": "1.2.0",
            "_view_name": "StyleView",
            "description_width": ""
          }
        },
        "4297a43e16c345d1915d5066018b7e74": {
          "model_module": "@jupyter-widgets/base",
          "model_name": "LayoutModel",
          "model_module_version": "1.2.0",
          "state": {
            "_model_module": "@jupyter-widgets/base",
            "_model_module_version": "1.2.0",
            "_model_name": "LayoutModel",
            "_view_count": null,
            "_view_module": "@jupyter-widgets/base",
            "_view_module_version": "1.2.0",
            "_view_name": "LayoutView",
            "align_content": null,
            "align_items": null,
            "align_self": null,
            "border": null,
            "bottom": null,
            "display": null,
            "flex": null,
            "flex_flow": null,
            "grid_area": null,
            "grid_auto_columns": null,
            "grid_auto_flow": null,
            "grid_auto_rows": null,
            "grid_column": null,
            "grid_gap": null,
            "grid_row": null,
            "grid_template_areas": null,
            "grid_template_columns": null,
            "grid_template_rows": null,
            "height": null,
            "justify_content": null,
            "justify_items": null,
            "left": null,
            "margin": null,
            "max_height": null,
            "max_width": null,
            "min_height": null,
            "min_width": null,
            "object_fit": null,
            "object_position": null,
            "order": null,
            "overflow": null,
            "overflow_x": null,
            "overflow_y": null,
            "padding": null,
            "right": null,
            "top": null,
            "visibility": null,
            "width": null
          }
        },
        "d2608968c5304bfdbf244a171436ba75": {
          "model_module": "@jupyter-widgets/controls",
          "model_name": "ProgressStyleModel",
          "model_module_version": "1.5.0",
          "state": {
            "_model_module": "@jupyter-widgets/controls",
            "_model_module_version": "1.5.0",
            "_model_name": "ProgressStyleModel",
            "_view_count": null,
            "_view_module": "@jupyter-widgets/base",
            "_view_module_version": "1.2.0",
            "_view_name": "StyleView",
            "bar_color": null,
            "description_width": ""
          }
        },
        "90ed5c913f414234872287bc50c6f30d": {
          "model_module": "@jupyter-widgets/base",
          "model_name": "LayoutModel",
          "model_module_version": "1.2.0",
          "state": {
            "_model_module": "@jupyter-widgets/base",
            "_model_module_version": "1.2.0",
            "_model_name": "LayoutModel",
            "_view_count": null,
            "_view_module": "@jupyter-widgets/base",
            "_view_module_version": "1.2.0",
            "_view_name": "LayoutView",
            "align_content": null,
            "align_items": null,
            "align_self": null,
            "border": null,
            "bottom": null,
            "display": null,
            "flex": null,
            "flex_flow": null,
            "grid_area": null,
            "grid_auto_columns": null,
            "grid_auto_flow": null,
            "grid_auto_rows": null,
            "grid_column": null,
            "grid_gap": null,
            "grid_row": null,
            "grid_template_areas": null,
            "grid_template_columns": null,
            "grid_template_rows": null,
            "height": null,
            "justify_content": null,
            "justify_items": null,
            "left": null,
            "margin": null,
            "max_height": null,
            "max_width": null,
            "min_height": null,
            "min_width": null,
            "object_fit": null,
            "object_position": null,
            "order": null,
            "overflow": null,
            "overflow_x": null,
            "overflow_y": null,
            "padding": null,
            "right": null,
            "top": null,
            "visibility": null,
            "width": null
          }
        },
        "9841a8f751ba4b0cb4ff909ec729ba92": {
          "model_module": "@jupyter-widgets/controls",
          "model_name": "DescriptionStyleModel",
          "model_module_version": "1.5.0",
          "state": {
            "_model_module": "@jupyter-widgets/controls",
            "_model_module_version": "1.5.0",
            "_model_name": "DescriptionStyleModel",
            "_view_count": null,
            "_view_module": "@jupyter-widgets/base",
            "_view_module_version": "1.2.0",
            "_view_name": "StyleView",
            "description_width": ""
          }
        },
        "91605fa9774b49a498fa3a896cd4fdae": {
          "model_module": "@jupyter-widgets/controls",
          "model_name": "HBoxModel",
          "model_module_version": "1.5.0",
          "state": {
            "_dom_classes": [],
            "_model_module": "@jupyter-widgets/controls",
            "_model_module_version": "1.5.0",
            "_model_name": "HBoxModel",
            "_view_count": null,
            "_view_module": "@jupyter-widgets/controls",
            "_view_module_version": "1.5.0",
            "_view_name": "HBoxView",
            "box_style": "",
            "children": [
              "IPY_MODEL_836a6290e0904922a1d3b09cd375bb50",
              "IPY_MODEL_2c9be6f0dba74232a6341bb81b07895e",
              "IPY_MODEL_5973052f84db4f148b7b7ae4cf4a0e09"
            ],
            "layout": "IPY_MODEL_e472c9569cdb47b6ae2fea80f193f998"
          }
        },
        "836a6290e0904922a1d3b09cd375bb50": {
          "model_module": "@jupyter-widgets/controls",
          "model_name": "HTMLModel",
          "model_module_version": "1.5.0",
          "state": {
            "_dom_classes": [],
            "_model_module": "@jupyter-widgets/controls",
            "_model_module_version": "1.5.0",
            "_model_name": "HTMLModel",
            "_view_count": null,
            "_view_module": "@jupyter-widgets/controls",
            "_view_module_version": "1.5.0",
            "_view_name": "HTMLView",
            "description": "",
            "description_tooltip": null,
            "layout": "IPY_MODEL_d07ec601b607475fbf6b06e91e320085",
            "placeholder": "​",
            "style": "IPY_MODEL_2c1764db714042b881e4e844edd4fe7b",
            "value": "100%"
          }
        },
        "2c9be6f0dba74232a6341bb81b07895e": {
          "model_module": "@jupyter-widgets/controls",
          "model_name": "FloatProgressModel",
          "model_module_version": "1.5.0",
          "state": {
            "_dom_classes": [],
            "_model_module": "@jupyter-widgets/controls",
            "_model_module_version": "1.5.0",
            "_model_name": "FloatProgressModel",
            "_view_count": null,
            "_view_module": "@jupyter-widgets/controls",
            "_view_module_version": "1.5.0",
            "_view_name": "ProgressView",
            "bar_style": "success",
            "description": "",
            "description_tooltip": null,
            "layout": "IPY_MODEL_dec907b0960d40c8b44e2c6001e0163c",
            "max": 14516,
            "min": 0,
            "orientation": "horizontal",
            "style": "IPY_MODEL_959221bafea04a74bed2b0258b8e03bb",
            "value": 14516
          }
        },
        "5973052f84db4f148b7b7ae4cf4a0e09": {
          "model_module": "@jupyter-widgets/controls",
          "model_name": "HTMLModel",
          "model_module_version": "1.5.0",
          "state": {
            "_dom_classes": [],
            "_model_module": "@jupyter-widgets/controls",
            "_model_module_version": "1.5.0",
            "_model_name": "HTMLModel",
            "_view_count": null,
            "_view_module": "@jupyter-widgets/controls",
            "_view_module_version": "1.5.0",
            "_view_name": "HTMLView",
            "description": "",
            "description_tooltip": null,
            "layout": "IPY_MODEL_e48aa484d1904e9784b139dab6095598",
            "placeholder": "​",
            "style": "IPY_MODEL_9db607ca34894fbfad252d9e969e42d4",
            "value": " 14516/14516 [03:52&lt;00:00, 48.75it/s]"
          }
        },
        "e472c9569cdb47b6ae2fea80f193f998": {
          "model_module": "@jupyter-widgets/base",
          "model_name": "LayoutModel",
          "model_module_version": "1.2.0",
          "state": {
            "_model_module": "@jupyter-widgets/base",
            "_model_module_version": "1.2.0",
            "_model_name": "LayoutModel",
            "_view_count": null,
            "_view_module": "@jupyter-widgets/base",
            "_view_module_version": "1.2.0",
            "_view_name": "LayoutView",
            "align_content": null,
            "align_items": null,
            "align_self": null,
            "border": null,
            "bottom": null,
            "display": null,
            "flex": null,
            "flex_flow": null,
            "grid_area": null,
            "grid_auto_columns": null,
            "grid_auto_flow": null,
            "grid_auto_rows": null,
            "grid_column": null,
            "grid_gap": null,
            "grid_row": null,
            "grid_template_areas": null,
            "grid_template_columns": null,
            "grid_template_rows": null,
            "height": null,
            "justify_content": null,
            "justify_items": null,
            "left": null,
            "margin": null,
            "max_height": null,
            "max_width": null,
            "min_height": null,
            "min_width": null,
            "object_fit": null,
            "object_position": null,
            "order": null,
            "overflow": null,
            "overflow_x": null,
            "overflow_y": null,
            "padding": null,
            "right": null,
            "top": null,
            "visibility": null,
            "width": null
          }
        },
        "d07ec601b607475fbf6b06e91e320085": {
          "model_module": "@jupyter-widgets/base",
          "model_name": "LayoutModel",
          "model_module_version": "1.2.0",
          "state": {
            "_model_module": "@jupyter-widgets/base",
            "_model_module_version": "1.2.0",
            "_model_name": "LayoutModel",
            "_view_count": null,
            "_view_module": "@jupyter-widgets/base",
            "_view_module_version": "1.2.0",
            "_view_name": "LayoutView",
            "align_content": null,
            "align_items": null,
            "align_self": null,
            "border": null,
            "bottom": null,
            "display": null,
            "flex": null,
            "flex_flow": null,
            "grid_area": null,
            "grid_auto_columns": null,
            "grid_auto_flow": null,
            "grid_auto_rows": null,
            "grid_column": null,
            "grid_gap": null,
            "grid_row": null,
            "grid_template_areas": null,
            "grid_template_columns": null,
            "grid_template_rows": null,
            "height": null,
            "justify_content": null,
            "justify_items": null,
            "left": null,
            "margin": null,
            "max_height": null,
            "max_width": null,
            "min_height": null,
            "min_width": null,
            "object_fit": null,
            "object_position": null,
            "order": null,
            "overflow": null,
            "overflow_x": null,
            "overflow_y": null,
            "padding": null,
            "right": null,
            "top": null,
            "visibility": null,
            "width": null
          }
        },
        "2c1764db714042b881e4e844edd4fe7b": {
          "model_module": "@jupyter-widgets/controls",
          "model_name": "DescriptionStyleModel",
          "model_module_version": "1.5.0",
          "state": {
            "_model_module": "@jupyter-widgets/controls",
            "_model_module_version": "1.5.0",
            "_model_name": "DescriptionStyleModel",
            "_view_count": null,
            "_view_module": "@jupyter-widgets/base",
            "_view_module_version": "1.2.0",
            "_view_name": "StyleView",
            "description_width": ""
          }
        },
        "dec907b0960d40c8b44e2c6001e0163c": {
          "model_module": "@jupyter-widgets/base",
          "model_name": "LayoutModel",
          "model_module_version": "1.2.0",
          "state": {
            "_model_module": "@jupyter-widgets/base",
            "_model_module_version": "1.2.0",
            "_model_name": "LayoutModel",
            "_view_count": null,
            "_view_module": "@jupyter-widgets/base",
            "_view_module_version": "1.2.0",
            "_view_name": "LayoutView",
            "align_content": null,
            "align_items": null,
            "align_self": null,
            "border": null,
            "bottom": null,
            "display": null,
            "flex": null,
            "flex_flow": null,
            "grid_area": null,
            "grid_auto_columns": null,
            "grid_auto_flow": null,
            "grid_auto_rows": null,
            "grid_column": null,
            "grid_gap": null,
            "grid_row": null,
            "grid_template_areas": null,
            "grid_template_columns": null,
            "grid_template_rows": null,
            "height": null,
            "justify_content": null,
            "justify_items": null,
            "left": null,
            "margin": null,
            "max_height": null,
            "max_width": null,
            "min_height": null,
            "min_width": null,
            "object_fit": null,
            "object_position": null,
            "order": null,
            "overflow": null,
            "overflow_x": null,
            "overflow_y": null,
            "padding": null,
            "right": null,
            "top": null,
            "visibility": null,
            "width": null
          }
        },
        "959221bafea04a74bed2b0258b8e03bb": {
          "model_module": "@jupyter-widgets/controls",
          "model_name": "ProgressStyleModel",
          "model_module_version": "1.5.0",
          "state": {
            "_model_module": "@jupyter-widgets/controls",
            "_model_module_version": "1.5.0",
            "_model_name": "ProgressStyleModel",
            "_view_count": null,
            "_view_module": "@jupyter-widgets/base",
            "_view_module_version": "1.2.0",
            "_view_name": "StyleView",
            "bar_color": null,
            "description_width": ""
          }
        },
        "e48aa484d1904e9784b139dab6095598": {
          "model_module": "@jupyter-widgets/base",
          "model_name": "LayoutModel",
          "model_module_version": "1.2.0",
          "state": {
            "_model_module": "@jupyter-widgets/base",
            "_model_module_version": "1.2.0",
            "_model_name": "LayoutModel",
            "_view_count": null,
            "_view_module": "@jupyter-widgets/base",
            "_view_module_version": "1.2.0",
            "_view_name": "LayoutView",
            "align_content": null,
            "align_items": null,
            "align_self": null,
            "border": null,
            "bottom": null,
            "display": null,
            "flex": null,
            "flex_flow": null,
            "grid_area": null,
            "grid_auto_columns": null,
            "grid_auto_flow": null,
            "grid_auto_rows": null,
            "grid_column": null,
            "grid_gap": null,
            "grid_row": null,
            "grid_template_areas": null,
            "grid_template_columns": null,
            "grid_template_rows": null,
            "height": null,
            "justify_content": null,
            "justify_items": null,
            "left": null,
            "margin": null,
            "max_height": null,
            "max_width": null,
            "min_height": null,
            "min_width": null,
            "object_fit": null,
            "object_position": null,
            "order": null,
            "overflow": null,
            "overflow_x": null,
            "overflow_y": null,
            "padding": null,
            "right": null,
            "top": null,
            "visibility": null,
            "width": null
          }
        },
        "9db607ca34894fbfad252d9e969e42d4": {
          "model_module": "@jupyter-widgets/controls",
          "model_name": "DescriptionStyleModel",
          "model_module_version": "1.5.0",
          "state": {
            "_model_module": "@jupyter-widgets/controls",
            "_model_module_version": "1.5.0",
            "_model_name": "DescriptionStyleModel",
            "_view_count": null,
            "_view_module": "@jupyter-widgets/base",
            "_view_module_version": "1.2.0",
            "_view_name": "StyleView",
            "description_width": ""
          }
        },
        "4209785407234998b4f38af7311030f5": {
          "model_module": "@jupyter-widgets/controls",
          "model_name": "HBoxModel",
          "model_module_version": "1.5.0",
          "state": {
            "_dom_classes": [],
            "_model_module": "@jupyter-widgets/controls",
            "_model_module_version": "1.5.0",
            "_model_name": "HBoxModel",
            "_view_count": null,
            "_view_module": "@jupyter-widgets/controls",
            "_view_module_version": "1.5.0",
            "_view_name": "HBoxView",
            "box_style": "",
            "children": [
              "IPY_MODEL_58a3a30875c245bcb7466b2278291c7f",
              "IPY_MODEL_ae3dc2511949461dab68361a8f0a772f",
              "IPY_MODEL_c87a79bc560547f083883238981aa728"
            ],
            "layout": "IPY_MODEL_ce098ac2bdff43759ae5f228dda37299"
          }
        },
        "58a3a30875c245bcb7466b2278291c7f": {
          "model_module": "@jupyter-widgets/controls",
          "model_name": "HTMLModel",
          "model_module_version": "1.5.0",
          "state": {
            "_dom_classes": [],
            "_model_module": "@jupyter-widgets/controls",
            "_model_module_version": "1.5.0",
            "_model_name": "HTMLModel",
            "_view_count": null,
            "_view_module": "@jupyter-widgets/controls",
            "_view_module_version": "1.5.0",
            "_view_name": "HTMLView",
            "description": "",
            "description_tooltip": null,
            "layout": "IPY_MODEL_c96267e1a245404c97988108113ebafe",
            "placeholder": "​",
            "style": "IPY_MODEL_d5812c5b21e441a1b8f544feb3fe9afa",
            "value": "tokenizer_config.json: 100%"
          }
        },
        "ae3dc2511949461dab68361a8f0a772f": {
          "model_module": "@jupyter-widgets/controls",
          "model_name": "FloatProgressModel",
          "model_module_version": "1.5.0",
          "state": {
            "_dom_classes": [],
            "_model_module": "@jupyter-widgets/controls",
            "_model_module_version": "1.5.0",
            "_model_name": "FloatProgressModel",
            "_view_count": null,
            "_view_module": "@jupyter-widgets/controls",
            "_view_module_version": "1.5.0",
            "_view_name": "ProgressView",
            "bar_style": "success",
            "description": "",
            "description_tooltip": null,
            "layout": "IPY_MODEL_2669ed32ac054722bcd507d7e016a4b3",
            "max": 401,
            "min": 0,
            "orientation": "horizontal",
            "style": "IPY_MODEL_a55671de657543669bc31b87ce1cc50a",
            "value": 401
          }
        },
        "c87a79bc560547f083883238981aa728": {
          "model_module": "@jupyter-widgets/controls",
          "model_name": "HTMLModel",
          "model_module_version": "1.5.0",
          "state": {
            "_dom_classes": [],
            "_model_module": "@jupyter-widgets/controls",
            "_model_module_version": "1.5.0",
            "_model_name": "HTMLModel",
            "_view_count": null,
            "_view_module": "@jupyter-widgets/controls",
            "_view_module_version": "1.5.0",
            "_view_name": "HTMLView",
            "description": "",
            "description_tooltip": null,
            "layout": "IPY_MODEL_93dd67d30b154b32967f86c3e4be2331",
            "placeholder": "​",
            "style": "IPY_MODEL_3f8d04497bc94072acc139599bddcfcc",
            "value": " 401/401 [00:00&lt;00:00, 27.3kB/s]"
          }
        },
        "ce098ac2bdff43759ae5f228dda37299": {
          "model_module": "@jupyter-widgets/base",
          "model_name": "LayoutModel",
          "model_module_version": "1.2.0",
          "state": {
            "_model_module": "@jupyter-widgets/base",
            "_model_module_version": "1.2.0",
            "_model_name": "LayoutModel",
            "_view_count": null,
            "_view_module": "@jupyter-widgets/base",
            "_view_module_version": "1.2.0",
            "_view_name": "LayoutView",
            "align_content": null,
            "align_items": null,
            "align_self": null,
            "border": null,
            "bottom": null,
            "display": null,
            "flex": null,
            "flex_flow": null,
            "grid_area": null,
            "grid_auto_columns": null,
            "grid_auto_flow": null,
            "grid_auto_rows": null,
            "grid_column": null,
            "grid_gap": null,
            "grid_row": null,
            "grid_template_areas": null,
            "grid_template_columns": null,
            "grid_template_rows": null,
            "height": null,
            "justify_content": null,
            "justify_items": null,
            "left": null,
            "margin": null,
            "max_height": null,
            "max_width": null,
            "min_height": null,
            "min_width": null,
            "object_fit": null,
            "object_position": null,
            "order": null,
            "overflow": null,
            "overflow_x": null,
            "overflow_y": null,
            "padding": null,
            "right": null,
            "top": null,
            "visibility": null,
            "width": null
          }
        },
        "c96267e1a245404c97988108113ebafe": {
          "model_module": "@jupyter-widgets/base",
          "model_name": "LayoutModel",
          "model_module_version": "1.2.0",
          "state": {
            "_model_module": "@jupyter-widgets/base",
            "_model_module_version": "1.2.0",
            "_model_name": "LayoutModel",
            "_view_count": null,
            "_view_module": "@jupyter-widgets/base",
            "_view_module_version": "1.2.0",
            "_view_name": "LayoutView",
            "align_content": null,
            "align_items": null,
            "align_self": null,
            "border": null,
            "bottom": null,
            "display": null,
            "flex": null,
            "flex_flow": null,
            "grid_area": null,
            "grid_auto_columns": null,
            "grid_auto_flow": null,
            "grid_auto_rows": null,
            "grid_column": null,
            "grid_gap": null,
            "grid_row": null,
            "grid_template_areas": null,
            "grid_template_columns": null,
            "grid_template_rows": null,
            "height": null,
            "justify_content": null,
            "justify_items": null,
            "left": null,
            "margin": null,
            "max_height": null,
            "max_width": null,
            "min_height": null,
            "min_width": null,
            "object_fit": null,
            "object_position": null,
            "order": null,
            "overflow": null,
            "overflow_x": null,
            "overflow_y": null,
            "padding": null,
            "right": null,
            "top": null,
            "visibility": null,
            "width": null
          }
        },
        "d5812c5b21e441a1b8f544feb3fe9afa": {
          "model_module": "@jupyter-widgets/controls",
          "model_name": "DescriptionStyleModel",
          "model_module_version": "1.5.0",
          "state": {
            "_model_module": "@jupyter-widgets/controls",
            "_model_module_version": "1.5.0",
            "_model_name": "DescriptionStyleModel",
            "_view_count": null,
            "_view_module": "@jupyter-widgets/base",
            "_view_module_version": "1.2.0",
            "_view_name": "StyleView",
            "description_width": ""
          }
        },
        "2669ed32ac054722bcd507d7e016a4b3": {
          "model_module": "@jupyter-widgets/base",
          "model_name": "LayoutModel",
          "model_module_version": "1.2.0",
          "state": {
            "_model_module": "@jupyter-widgets/base",
            "_model_module_version": "1.2.0",
            "_model_name": "LayoutModel",
            "_view_count": null,
            "_view_module": "@jupyter-widgets/base",
            "_view_module_version": "1.2.0",
            "_view_name": "LayoutView",
            "align_content": null,
            "align_items": null,
            "align_self": null,
            "border": null,
            "bottom": null,
            "display": null,
            "flex": null,
            "flex_flow": null,
            "grid_area": null,
            "grid_auto_columns": null,
            "grid_auto_flow": null,
            "grid_auto_rows": null,
            "grid_column": null,
            "grid_gap": null,
            "grid_row": null,
            "grid_template_areas": null,
            "grid_template_columns": null,
            "grid_template_rows": null,
            "height": null,
            "justify_content": null,
            "justify_items": null,
            "left": null,
            "margin": null,
            "max_height": null,
            "max_width": null,
            "min_height": null,
            "min_width": null,
            "object_fit": null,
            "object_position": null,
            "order": null,
            "overflow": null,
            "overflow_x": null,
            "overflow_y": null,
            "padding": null,
            "right": null,
            "top": null,
            "visibility": null,
            "width": null
          }
        },
        "a55671de657543669bc31b87ce1cc50a": {
          "model_module": "@jupyter-widgets/controls",
          "model_name": "ProgressStyleModel",
          "model_module_version": "1.5.0",
          "state": {
            "_model_module": "@jupyter-widgets/controls",
            "_model_module_version": "1.5.0",
            "_model_name": "ProgressStyleModel",
            "_view_count": null,
            "_view_module": "@jupyter-widgets/base",
            "_view_module_version": "1.2.0",
            "_view_name": "StyleView",
            "bar_color": null,
            "description_width": ""
          }
        },
        "93dd67d30b154b32967f86c3e4be2331": {
          "model_module": "@jupyter-widgets/base",
          "model_name": "LayoutModel",
          "model_module_version": "1.2.0",
          "state": {
            "_model_module": "@jupyter-widgets/base",
            "_model_module_version": "1.2.0",
            "_model_name": "LayoutModel",
            "_view_count": null,
            "_view_module": "@jupyter-widgets/base",
            "_view_module_version": "1.2.0",
            "_view_name": "LayoutView",
            "align_content": null,
            "align_items": null,
            "align_self": null,
            "border": null,
            "bottom": null,
            "display": null,
            "flex": null,
            "flex_flow": null,
            "grid_area": null,
            "grid_auto_columns": null,
            "grid_auto_flow": null,
            "grid_auto_rows": null,
            "grid_column": null,
            "grid_gap": null,
            "grid_row": null,
            "grid_template_areas": null,
            "grid_template_columns": null,
            "grid_template_rows": null,
            "height": null,
            "justify_content": null,
            "justify_items": null,
            "left": null,
            "margin": null,
            "max_height": null,
            "max_width": null,
            "min_height": null,
            "min_width": null,
            "object_fit": null,
            "object_position": null,
            "order": null,
            "overflow": null,
            "overflow_x": null,
            "overflow_y": null,
            "padding": null,
            "right": null,
            "top": null,
            "visibility": null,
            "width": null
          }
        },
        "3f8d04497bc94072acc139599bddcfcc": {
          "model_module": "@jupyter-widgets/controls",
          "model_name": "DescriptionStyleModel",
          "model_module_version": "1.5.0",
          "state": {
            "_model_module": "@jupyter-widgets/controls",
            "_model_module_version": "1.5.0",
            "_model_name": "DescriptionStyleModel",
            "_view_count": null,
            "_view_module": "@jupyter-widgets/base",
            "_view_module_version": "1.2.0",
            "_view_name": "StyleView",
            "description_width": ""
          }
        },
        "538f7ed97cbf44369a0d526094be5f86": {
          "model_module": "@jupyter-widgets/controls",
          "model_name": "HBoxModel",
          "model_module_version": "1.5.0",
          "state": {
            "_dom_classes": [],
            "_model_module": "@jupyter-widgets/controls",
            "_model_module_version": "1.5.0",
            "_model_name": "HBoxModel",
            "_view_count": null,
            "_view_module": "@jupyter-widgets/controls",
            "_view_module_version": "1.5.0",
            "_view_name": "HBoxView",
            "box_style": "",
            "children": [
              "IPY_MODEL_dcaccc4f13514033950789bd4f176644",
              "IPY_MODEL_300b319493774c209f371ae49b2639b8",
              "IPY_MODEL_c732f364f06a47cca3214bce80afb9c9"
            ],
            "layout": "IPY_MODEL_ea7eea9f5455403591578586f9ca7e58"
          }
        },
        "dcaccc4f13514033950789bd4f176644": {
          "model_module": "@jupyter-widgets/controls",
          "model_name": "HTMLModel",
          "model_module_version": "1.5.0",
          "state": {
            "_dom_classes": [],
            "_model_module": "@jupyter-widgets/controls",
            "_model_module_version": "1.5.0",
            "_model_name": "HTMLModel",
            "_view_count": null,
            "_view_module": "@jupyter-widgets/controls",
            "_view_module_version": "1.5.0",
            "_view_name": "HTMLView",
            "description": "",
            "description_tooltip": null,
            "layout": "IPY_MODEL_c9c9052c2f7d4c788abad47d50a67458",
            "placeholder": "​",
            "style": "IPY_MODEL_efef38ba5baa43268e2b690a8f466fb6",
            "value": "vocab.txt: 100%"
          }
        },
        "300b319493774c209f371ae49b2639b8": {
          "model_module": "@jupyter-widgets/controls",
          "model_name": "FloatProgressModel",
          "model_module_version": "1.5.0",
          "state": {
            "_dom_classes": [],
            "_model_module": "@jupyter-widgets/controls",
            "_model_module_version": "1.5.0",
            "_model_name": "FloatProgressModel",
            "_view_count": null,
            "_view_module": "@jupyter-widgets/controls",
            "_view_module_version": "1.5.0",
            "_view_name": "ProgressView",
            "bar_style": "success",
            "description": "",
            "description_tooltip": null,
            "layout": "IPY_MODEL_ca5ea967bbc541358f834ef0771cba61",
            "max": 1080667,
            "min": 0,
            "orientation": "horizontal",
            "style": "IPY_MODEL_64b8d70285754636b20267a9b3a95410",
            "value": 1080667
          }
        },
        "c732f364f06a47cca3214bce80afb9c9": {
          "model_module": "@jupyter-widgets/controls",
          "model_name": "HTMLModel",
          "model_module_version": "1.5.0",
          "state": {
            "_dom_classes": [],
            "_model_module": "@jupyter-widgets/controls",
            "_model_module_version": "1.5.0",
            "_model_name": "HTMLModel",
            "_view_count": null,
            "_view_module": "@jupyter-widgets/controls",
            "_view_module_version": "1.5.0",
            "_view_name": "HTMLView",
            "description": "",
            "description_tooltip": null,
            "layout": "IPY_MODEL_eb663cc0b7574ad383eae6f4d2edae3b",
            "placeholder": "​",
            "style": "IPY_MODEL_90dfafea855c45eaadbe060adc433b0d",
            "value": " 1.08M/1.08M [00:00&lt;00:00, 4.22MB/s]"
          }
        },
        "ea7eea9f5455403591578586f9ca7e58": {
          "model_module": "@jupyter-widgets/base",
          "model_name": "LayoutModel",
          "model_module_version": "1.2.0",
          "state": {
            "_model_module": "@jupyter-widgets/base",
            "_model_module_version": "1.2.0",
            "_model_name": "LayoutModel",
            "_view_count": null,
            "_view_module": "@jupyter-widgets/base",
            "_view_module_version": "1.2.0",
            "_view_name": "LayoutView",
            "align_content": null,
            "align_items": null,
            "align_self": null,
            "border": null,
            "bottom": null,
            "display": null,
            "flex": null,
            "flex_flow": null,
            "grid_area": null,
            "grid_auto_columns": null,
            "grid_auto_flow": null,
            "grid_auto_rows": null,
            "grid_column": null,
            "grid_gap": null,
            "grid_row": null,
            "grid_template_areas": null,
            "grid_template_columns": null,
            "grid_template_rows": null,
            "height": null,
            "justify_content": null,
            "justify_items": null,
            "left": null,
            "margin": null,
            "max_height": null,
            "max_width": null,
            "min_height": null,
            "min_width": null,
            "object_fit": null,
            "object_position": null,
            "order": null,
            "overflow": null,
            "overflow_x": null,
            "overflow_y": null,
            "padding": null,
            "right": null,
            "top": null,
            "visibility": null,
            "width": null
          }
        },
        "c9c9052c2f7d4c788abad47d50a67458": {
          "model_module": "@jupyter-widgets/base",
          "model_name": "LayoutModel",
          "model_module_version": "1.2.0",
          "state": {
            "_model_module": "@jupyter-widgets/base",
            "_model_module_version": "1.2.0",
            "_model_name": "LayoutModel",
            "_view_count": null,
            "_view_module": "@jupyter-widgets/base",
            "_view_module_version": "1.2.0",
            "_view_name": "LayoutView",
            "align_content": null,
            "align_items": null,
            "align_self": null,
            "border": null,
            "bottom": null,
            "display": null,
            "flex": null,
            "flex_flow": null,
            "grid_area": null,
            "grid_auto_columns": null,
            "grid_auto_flow": null,
            "grid_auto_rows": null,
            "grid_column": null,
            "grid_gap": null,
            "grid_row": null,
            "grid_template_areas": null,
            "grid_template_columns": null,
            "grid_template_rows": null,
            "height": null,
            "justify_content": null,
            "justify_items": null,
            "left": null,
            "margin": null,
            "max_height": null,
            "max_width": null,
            "min_height": null,
            "min_width": null,
            "object_fit": null,
            "object_position": null,
            "order": null,
            "overflow": null,
            "overflow_x": null,
            "overflow_y": null,
            "padding": null,
            "right": null,
            "top": null,
            "visibility": null,
            "width": null
          }
        },
        "efef38ba5baa43268e2b690a8f466fb6": {
          "model_module": "@jupyter-widgets/controls",
          "model_name": "DescriptionStyleModel",
          "model_module_version": "1.5.0",
          "state": {
            "_model_module": "@jupyter-widgets/controls",
            "_model_module_version": "1.5.0",
            "_model_name": "DescriptionStyleModel",
            "_view_count": null,
            "_view_module": "@jupyter-widgets/base",
            "_view_module_version": "1.2.0",
            "_view_name": "StyleView",
            "description_width": ""
          }
        },
        "ca5ea967bbc541358f834ef0771cba61": {
          "model_module": "@jupyter-widgets/base",
          "model_name": "LayoutModel",
          "model_module_version": "1.2.0",
          "state": {
            "_model_module": "@jupyter-widgets/base",
            "_model_module_version": "1.2.0",
            "_model_name": "LayoutModel",
            "_view_count": null,
            "_view_module": "@jupyter-widgets/base",
            "_view_module_version": "1.2.0",
            "_view_name": "LayoutView",
            "align_content": null,
            "align_items": null,
            "align_self": null,
            "border": null,
            "bottom": null,
            "display": null,
            "flex": null,
            "flex_flow": null,
            "grid_area": null,
            "grid_auto_columns": null,
            "grid_auto_flow": null,
            "grid_auto_rows": null,
            "grid_column": null,
            "grid_gap": null,
            "grid_row": null,
            "grid_template_areas": null,
            "grid_template_columns": null,
            "grid_template_rows": null,
            "height": null,
            "justify_content": null,
            "justify_items": null,
            "left": null,
            "margin": null,
            "max_height": null,
            "max_width": null,
            "min_height": null,
            "min_width": null,
            "object_fit": null,
            "object_position": null,
            "order": null,
            "overflow": null,
            "overflow_x": null,
            "overflow_y": null,
            "padding": null,
            "right": null,
            "top": null,
            "visibility": null,
            "width": null
          }
        },
        "64b8d70285754636b20267a9b3a95410": {
          "model_module": "@jupyter-widgets/controls",
          "model_name": "ProgressStyleModel",
          "model_module_version": "1.5.0",
          "state": {
            "_model_module": "@jupyter-widgets/controls",
            "_model_module_version": "1.5.0",
            "_model_name": "ProgressStyleModel",
            "_view_count": null,
            "_view_module": "@jupyter-widgets/base",
            "_view_module_version": "1.2.0",
            "_view_name": "StyleView",
            "bar_color": null,
            "description_width": ""
          }
        },
        "eb663cc0b7574ad383eae6f4d2edae3b": {
          "model_module": "@jupyter-widgets/base",
          "model_name": "LayoutModel",
          "model_module_version": "1.2.0",
          "state": {
            "_model_module": "@jupyter-widgets/base",
            "_model_module_version": "1.2.0",
            "_model_name": "LayoutModel",
            "_view_count": null,
            "_view_module": "@jupyter-widgets/base",
            "_view_module_version": "1.2.0",
            "_view_name": "LayoutView",
            "align_content": null,
            "align_items": null,
            "align_self": null,
            "border": null,
            "bottom": null,
            "display": null,
            "flex": null,
            "flex_flow": null,
            "grid_area": null,
            "grid_auto_columns": null,
            "grid_auto_flow": null,
            "grid_auto_rows": null,
            "grid_column": null,
            "grid_gap": null,
            "grid_row": null,
            "grid_template_areas": null,
            "grid_template_columns": null,
            "grid_template_rows": null,
            "height": null,
            "justify_content": null,
            "justify_items": null,
            "left": null,
            "margin": null,
            "max_height": null,
            "max_width": null,
            "min_height": null,
            "min_width": null,
            "object_fit": null,
            "object_position": null,
            "order": null,
            "overflow": null,
            "overflow_x": null,
            "overflow_y": null,
            "padding": null,
            "right": null,
            "top": null,
            "visibility": null,
            "width": null
          }
        },
        "90dfafea855c45eaadbe060adc433b0d": {
          "model_module": "@jupyter-widgets/controls",
          "model_name": "DescriptionStyleModel",
          "model_module_version": "1.5.0",
          "state": {
            "_model_module": "@jupyter-widgets/controls",
            "_model_module_version": "1.5.0",
            "_model_name": "DescriptionStyleModel",
            "_view_count": null,
            "_view_module": "@jupyter-widgets/base",
            "_view_module_version": "1.2.0",
            "_view_name": "StyleView",
            "description_width": ""
          }
        },
        "a337dcb899ee45b1bdc039d538577acd": {
          "model_module": "@jupyter-widgets/controls",
          "model_name": "HBoxModel",
          "model_module_version": "1.5.0",
          "state": {
            "_dom_classes": [],
            "_model_module": "@jupyter-widgets/controls",
            "_model_module_version": "1.5.0",
            "_model_name": "HBoxModel",
            "_view_count": null,
            "_view_module": "@jupyter-widgets/controls",
            "_view_module_version": "1.5.0",
            "_view_name": "HBoxView",
            "box_style": "",
            "children": [
              "IPY_MODEL_43976309099f494f86d8cdc466d160ed",
              "IPY_MODEL_e63321fee76e465a8c253b0bca3638cd",
              "IPY_MODEL_45a4617a51e04d6ba4c27b5c360b4fdc"
            ],
            "layout": "IPY_MODEL_97c83d55fcf14399b203f9e04fdf213a"
          }
        },
        "43976309099f494f86d8cdc466d160ed": {
          "model_module": "@jupyter-widgets/controls",
          "model_name": "HTMLModel",
          "model_module_version": "1.5.0",
          "state": {
            "_dom_classes": [],
            "_model_module": "@jupyter-widgets/controls",
            "_model_module_version": "1.5.0",
            "_model_name": "HTMLModel",
            "_view_count": null,
            "_view_module": "@jupyter-widgets/controls",
            "_view_module_version": "1.5.0",
            "_view_name": "HTMLView",
            "description": "",
            "description_tooltip": null,
            "layout": "IPY_MODEL_523b10b013464f388fc64205127295a8",
            "placeholder": "​",
            "style": "IPY_MODEL_d63a6ee00b79414489d6dabe52d4fb22",
            "value": "tokenizer.json: 100%"
          }
        },
        "e63321fee76e465a8c253b0bca3638cd": {
          "model_module": "@jupyter-widgets/controls",
          "model_name": "FloatProgressModel",
          "model_module_version": "1.5.0",
          "state": {
            "_dom_classes": [],
            "_model_module": "@jupyter-widgets/controls",
            "_model_module_version": "1.5.0",
            "_model_name": "FloatProgressModel",
            "_view_count": null,
            "_view_module": "@jupyter-widgets/controls",
            "_view_module_version": "1.5.0",
            "_view_name": "ProgressView",
            "bar_style": "success",
            "description": "",
            "description_tooltip": null,
            "layout": "IPY_MODEL_8153824c7d5a4cfd8fcfb6b1d66e0b28",
            "max": 1741842,
            "min": 0,
            "orientation": "horizontal",
            "style": "IPY_MODEL_28e47e8236ef497c8451e6da9a6ba77b",
            "value": 1741842
          }
        },
        "45a4617a51e04d6ba4c27b5c360b4fdc": {
          "model_module": "@jupyter-widgets/controls",
          "model_name": "HTMLModel",
          "model_module_version": "1.5.0",
          "state": {
            "_dom_classes": [],
            "_model_module": "@jupyter-widgets/controls",
            "_model_module_version": "1.5.0",
            "_model_name": "HTMLModel",
            "_view_count": null,
            "_view_module": "@jupyter-widgets/controls",
            "_view_module_version": "1.5.0",
            "_view_name": "HTMLView",
            "description": "",
            "description_tooltip": null,
            "layout": "IPY_MODEL_c20a87e2f03548198ece0cdd6178a698",
            "placeholder": "​",
            "style": "IPY_MODEL_05aa3afde4cd4f269e6ffdbae265a201",
            "value": " 1.74M/1.74M [00:01&lt;00:00, 1.59MB/s]"
          }
        },
        "97c83d55fcf14399b203f9e04fdf213a": {
          "model_module": "@jupyter-widgets/base",
          "model_name": "LayoutModel",
          "model_module_version": "1.2.0",
          "state": {
            "_model_module": "@jupyter-widgets/base",
            "_model_module_version": "1.2.0",
            "_model_name": "LayoutModel",
            "_view_count": null,
            "_view_module": "@jupyter-widgets/base",
            "_view_module_version": "1.2.0",
            "_view_name": "LayoutView",
            "align_content": null,
            "align_items": null,
            "align_self": null,
            "border": null,
            "bottom": null,
            "display": null,
            "flex": null,
            "flex_flow": null,
            "grid_area": null,
            "grid_auto_columns": null,
            "grid_auto_flow": null,
            "grid_auto_rows": null,
            "grid_column": null,
            "grid_gap": null,
            "grid_row": null,
            "grid_template_areas": null,
            "grid_template_columns": null,
            "grid_template_rows": null,
            "height": null,
            "justify_content": null,
            "justify_items": null,
            "left": null,
            "margin": null,
            "max_height": null,
            "max_width": null,
            "min_height": null,
            "min_width": null,
            "object_fit": null,
            "object_position": null,
            "order": null,
            "overflow": null,
            "overflow_x": null,
            "overflow_y": null,
            "padding": null,
            "right": null,
            "top": null,
            "visibility": null,
            "width": null
          }
        },
        "523b10b013464f388fc64205127295a8": {
          "model_module": "@jupyter-widgets/base",
          "model_name": "LayoutModel",
          "model_module_version": "1.2.0",
          "state": {
            "_model_module": "@jupyter-widgets/base",
            "_model_module_version": "1.2.0",
            "_model_name": "LayoutModel",
            "_view_count": null,
            "_view_module": "@jupyter-widgets/base",
            "_view_module_version": "1.2.0",
            "_view_name": "LayoutView",
            "align_content": null,
            "align_items": null,
            "align_self": null,
            "border": null,
            "bottom": null,
            "display": null,
            "flex": null,
            "flex_flow": null,
            "grid_area": null,
            "grid_auto_columns": null,
            "grid_auto_flow": null,
            "grid_auto_rows": null,
            "grid_column": null,
            "grid_gap": null,
            "grid_row": null,
            "grid_template_areas": null,
            "grid_template_columns": null,
            "grid_template_rows": null,
            "height": null,
            "justify_content": null,
            "justify_items": null,
            "left": null,
            "margin": null,
            "max_height": null,
            "max_width": null,
            "min_height": null,
            "min_width": null,
            "object_fit": null,
            "object_position": null,
            "order": null,
            "overflow": null,
            "overflow_x": null,
            "overflow_y": null,
            "padding": null,
            "right": null,
            "top": null,
            "visibility": null,
            "width": null
          }
        },
        "d63a6ee00b79414489d6dabe52d4fb22": {
          "model_module": "@jupyter-widgets/controls",
          "model_name": "DescriptionStyleModel",
          "model_module_version": "1.5.0",
          "state": {
            "_model_module": "@jupyter-widgets/controls",
            "_model_module_version": "1.5.0",
            "_model_name": "DescriptionStyleModel",
            "_view_count": null,
            "_view_module": "@jupyter-widgets/base",
            "_view_module_version": "1.2.0",
            "_view_name": "StyleView",
            "description_width": ""
          }
        },
        "8153824c7d5a4cfd8fcfb6b1d66e0b28": {
          "model_module": "@jupyter-widgets/base",
          "model_name": "LayoutModel",
          "model_module_version": "1.2.0",
          "state": {
            "_model_module": "@jupyter-widgets/base",
            "_model_module_version": "1.2.0",
            "_model_name": "LayoutModel",
            "_view_count": null,
            "_view_module": "@jupyter-widgets/base",
            "_view_module_version": "1.2.0",
            "_view_name": "LayoutView",
            "align_content": null,
            "align_items": null,
            "align_self": null,
            "border": null,
            "bottom": null,
            "display": null,
            "flex": null,
            "flex_flow": null,
            "grid_area": null,
            "grid_auto_columns": null,
            "grid_auto_flow": null,
            "grid_auto_rows": null,
            "grid_column": null,
            "grid_gap": null,
            "grid_row": null,
            "grid_template_areas": null,
            "grid_template_columns": null,
            "grid_template_rows": null,
            "height": null,
            "justify_content": null,
            "justify_items": null,
            "left": null,
            "margin": null,
            "max_height": null,
            "max_width": null,
            "min_height": null,
            "min_width": null,
            "object_fit": null,
            "object_position": null,
            "order": null,
            "overflow": null,
            "overflow_x": null,
            "overflow_y": null,
            "padding": null,
            "right": null,
            "top": null,
            "visibility": null,
            "width": null
          }
        },
        "28e47e8236ef497c8451e6da9a6ba77b": {
          "model_module": "@jupyter-widgets/controls",
          "model_name": "ProgressStyleModel",
          "model_module_version": "1.5.0",
          "state": {
            "_model_module": "@jupyter-widgets/controls",
            "_model_module_version": "1.5.0",
            "_model_name": "ProgressStyleModel",
            "_view_count": null,
            "_view_module": "@jupyter-widgets/base",
            "_view_module_version": "1.2.0",
            "_view_name": "StyleView",
            "bar_color": null,
            "description_width": ""
          }
        },
        "c20a87e2f03548198ece0cdd6178a698": {
          "model_module": "@jupyter-widgets/base",
          "model_name": "LayoutModel",
          "model_module_version": "1.2.0",
          "state": {
            "_model_module": "@jupyter-widgets/base",
            "_model_module_version": "1.2.0",
            "_model_name": "LayoutModel",
            "_view_count": null,
            "_view_module": "@jupyter-widgets/base",
            "_view_module_version": "1.2.0",
            "_view_name": "LayoutView",
            "align_content": null,
            "align_items": null,
            "align_self": null,
            "border": null,
            "bottom": null,
            "display": null,
            "flex": null,
            "flex_flow": null,
            "grid_area": null,
            "grid_auto_columns": null,
            "grid_auto_flow": null,
            "grid_auto_rows": null,
            "grid_column": null,
            "grid_gap": null,
            "grid_row": null,
            "grid_template_areas": null,
            "grid_template_columns": null,
            "grid_template_rows": null,
            "height": null,
            "justify_content": null,
            "justify_items": null,
            "left": null,
            "margin": null,
            "max_height": null,
            "max_width": null,
            "min_height": null,
            "min_width": null,
            "object_fit": null,
            "object_position": null,
            "order": null,
            "overflow": null,
            "overflow_x": null,
            "overflow_y": null,
            "padding": null,
            "right": null,
            "top": null,
            "visibility": null,
            "width": null
          }
        },
        "05aa3afde4cd4f269e6ffdbae265a201": {
          "model_module": "@jupyter-widgets/controls",
          "model_name": "DescriptionStyleModel",
          "model_module_version": "1.5.0",
          "state": {
            "_model_module": "@jupyter-widgets/controls",
            "_model_module_version": "1.5.0",
            "_model_name": "DescriptionStyleModel",
            "_view_count": null,
            "_view_module": "@jupyter-widgets/base",
            "_view_module_version": "1.2.0",
            "_view_name": "StyleView",
            "description_width": ""
          }
        },
        "a79dd410c3cd4572a07640ee3a78f46a": {
          "model_module": "@jupyter-widgets/controls",
          "model_name": "HBoxModel",
          "model_module_version": "1.5.0",
          "state": {
            "_dom_classes": [],
            "_model_module": "@jupyter-widgets/controls",
            "_model_module_version": "1.5.0",
            "_model_name": "HBoxModel",
            "_view_count": null,
            "_view_module": "@jupyter-widgets/controls",
            "_view_module_version": "1.5.0",
            "_view_name": "HBoxView",
            "box_style": "",
            "children": [
              "IPY_MODEL_ed6580c9b9ba4c74a9cfe1ac1fc29e12",
              "IPY_MODEL_6a15c95d4af944b99ee22252a623e3bf",
              "IPY_MODEL_f9a0dbaec60a4f0b9d7d9698ed12e109"
            ],
            "layout": "IPY_MODEL_a23c61da7ab0470582d985530c81520e"
          }
        },
        "ed6580c9b9ba4c74a9cfe1ac1fc29e12": {
          "model_module": "@jupyter-widgets/controls",
          "model_name": "HTMLModel",
          "model_module_version": "1.5.0",
          "state": {
            "_dom_classes": [],
            "_model_module": "@jupyter-widgets/controls",
            "_model_module_version": "1.5.0",
            "_model_name": "HTMLModel",
            "_view_count": null,
            "_view_module": "@jupyter-widgets/controls",
            "_view_module_version": "1.5.0",
            "_view_name": "HTMLView",
            "description": "",
            "description_tooltip": null,
            "layout": "IPY_MODEL_5bd9377d67424082a3e6bafe54c7460c",
            "placeholder": "​",
            "style": "IPY_MODEL_550d15183200481fb4e7e83966542430",
            "value": "special_tokens_map.json: 100%"
          }
        },
        "6a15c95d4af944b99ee22252a623e3bf": {
          "model_module": "@jupyter-widgets/controls",
          "model_name": "FloatProgressModel",
          "model_module_version": "1.5.0",
          "state": {
            "_dom_classes": [],
            "_model_module": "@jupyter-widgets/controls",
            "_model_module_version": "1.5.0",
            "_model_name": "FloatProgressModel",
            "_view_count": null,
            "_view_module": "@jupyter-widgets/controls",
            "_view_module_version": "1.5.0",
            "_view_name": "ProgressView",
            "bar_style": "success",
            "description": "",
            "description_tooltip": null,
            "layout": "IPY_MODEL_0241986526c040718430fb124e84001e",
            "max": 112,
            "min": 0,
            "orientation": "horizontal",
            "style": "IPY_MODEL_fa4620b64c854f2db0c1378a646d2938",
            "value": 112
          }
        },
        "f9a0dbaec60a4f0b9d7d9698ed12e109": {
          "model_module": "@jupyter-widgets/controls",
          "model_name": "HTMLModel",
          "model_module_version": "1.5.0",
          "state": {
            "_dom_classes": [],
            "_model_module": "@jupyter-widgets/controls",
            "_model_module_version": "1.5.0",
            "_model_name": "HTMLModel",
            "_view_count": null,
            "_view_module": "@jupyter-widgets/controls",
            "_view_module_version": "1.5.0",
            "_view_name": "HTMLView",
            "description": "",
            "description_tooltip": null,
            "layout": "IPY_MODEL_775cbb25817f480a96640f1726d5ffa0",
            "placeholder": "​",
            "style": "IPY_MODEL_36083a8ee52f40639e52de144b4e38b0",
            "value": " 112/112 [00:00&lt;00:00, 7.22kB/s]"
          }
        },
        "a23c61da7ab0470582d985530c81520e": {
          "model_module": "@jupyter-widgets/base",
          "model_name": "LayoutModel",
          "model_module_version": "1.2.0",
          "state": {
            "_model_module": "@jupyter-widgets/base",
            "_model_module_version": "1.2.0",
            "_model_name": "LayoutModel",
            "_view_count": null,
            "_view_module": "@jupyter-widgets/base",
            "_view_module_version": "1.2.0",
            "_view_name": "LayoutView",
            "align_content": null,
            "align_items": null,
            "align_self": null,
            "border": null,
            "bottom": null,
            "display": null,
            "flex": null,
            "flex_flow": null,
            "grid_area": null,
            "grid_auto_columns": null,
            "grid_auto_flow": null,
            "grid_auto_rows": null,
            "grid_column": null,
            "grid_gap": null,
            "grid_row": null,
            "grid_template_areas": null,
            "grid_template_columns": null,
            "grid_template_rows": null,
            "height": null,
            "justify_content": null,
            "justify_items": null,
            "left": null,
            "margin": null,
            "max_height": null,
            "max_width": null,
            "min_height": null,
            "min_width": null,
            "object_fit": null,
            "object_position": null,
            "order": null,
            "overflow": null,
            "overflow_x": null,
            "overflow_y": null,
            "padding": null,
            "right": null,
            "top": null,
            "visibility": null,
            "width": null
          }
        },
        "5bd9377d67424082a3e6bafe54c7460c": {
          "model_module": "@jupyter-widgets/base",
          "model_name": "LayoutModel",
          "model_module_version": "1.2.0",
          "state": {
            "_model_module": "@jupyter-widgets/base",
            "_model_module_version": "1.2.0",
            "_model_name": "LayoutModel",
            "_view_count": null,
            "_view_module": "@jupyter-widgets/base",
            "_view_module_version": "1.2.0",
            "_view_name": "LayoutView",
            "align_content": null,
            "align_items": null,
            "align_self": null,
            "border": null,
            "bottom": null,
            "display": null,
            "flex": null,
            "flex_flow": null,
            "grid_area": null,
            "grid_auto_columns": null,
            "grid_auto_flow": null,
            "grid_auto_rows": null,
            "grid_column": null,
            "grid_gap": null,
            "grid_row": null,
            "grid_template_areas": null,
            "grid_template_columns": null,
            "grid_template_rows": null,
            "height": null,
            "justify_content": null,
            "justify_items": null,
            "left": null,
            "margin": null,
            "max_height": null,
            "max_width": null,
            "min_height": null,
            "min_width": null,
            "object_fit": null,
            "object_position": null,
            "order": null,
            "overflow": null,
            "overflow_x": null,
            "overflow_y": null,
            "padding": null,
            "right": null,
            "top": null,
            "visibility": null,
            "width": null
          }
        },
        "550d15183200481fb4e7e83966542430": {
          "model_module": "@jupyter-widgets/controls",
          "model_name": "DescriptionStyleModel",
          "model_module_version": "1.5.0",
          "state": {
            "_model_module": "@jupyter-widgets/controls",
            "_model_module_version": "1.5.0",
            "_model_name": "DescriptionStyleModel",
            "_view_count": null,
            "_view_module": "@jupyter-widgets/base",
            "_view_module_version": "1.2.0",
            "_view_name": "StyleView",
            "description_width": ""
          }
        },
        "0241986526c040718430fb124e84001e": {
          "model_module": "@jupyter-widgets/base",
          "model_name": "LayoutModel",
          "model_module_version": "1.2.0",
          "state": {
            "_model_module": "@jupyter-widgets/base",
            "_model_module_version": "1.2.0",
            "_model_name": "LayoutModel",
            "_view_count": null,
            "_view_module": "@jupyter-widgets/base",
            "_view_module_version": "1.2.0",
            "_view_name": "LayoutView",
            "align_content": null,
            "align_items": null,
            "align_self": null,
            "border": null,
            "bottom": null,
            "display": null,
            "flex": null,
            "flex_flow": null,
            "grid_area": null,
            "grid_auto_columns": null,
            "grid_auto_flow": null,
            "grid_auto_rows": null,
            "grid_column": null,
            "grid_gap": null,
            "grid_row": null,
            "grid_template_areas": null,
            "grid_template_columns": null,
            "grid_template_rows": null,
            "height": null,
            "justify_content": null,
            "justify_items": null,
            "left": null,
            "margin": null,
            "max_height": null,
            "max_width": null,
            "min_height": null,
            "min_width": null,
            "object_fit": null,
            "object_position": null,
            "order": null,
            "overflow": null,
            "overflow_x": null,
            "overflow_y": null,
            "padding": null,
            "right": null,
            "top": null,
            "visibility": null,
            "width": null
          }
        },
        "fa4620b64c854f2db0c1378a646d2938": {
          "model_module": "@jupyter-widgets/controls",
          "model_name": "ProgressStyleModel",
          "model_module_version": "1.5.0",
          "state": {
            "_model_module": "@jupyter-widgets/controls",
            "_model_module_version": "1.5.0",
            "_model_name": "ProgressStyleModel",
            "_view_count": null,
            "_view_module": "@jupyter-widgets/base",
            "_view_module_version": "1.2.0",
            "_view_name": "StyleView",
            "bar_color": null,
            "description_width": ""
          }
        },
        "775cbb25817f480a96640f1726d5ffa0": {
          "model_module": "@jupyter-widgets/base",
          "model_name": "LayoutModel",
          "model_module_version": "1.2.0",
          "state": {
            "_model_module": "@jupyter-widgets/base",
            "_model_module_version": "1.2.0",
            "_model_name": "LayoutModel",
            "_view_count": null,
            "_view_module": "@jupyter-widgets/base",
            "_view_module_version": "1.2.0",
            "_view_name": "LayoutView",
            "align_content": null,
            "align_items": null,
            "align_self": null,
            "border": null,
            "bottom": null,
            "display": null,
            "flex": null,
            "flex_flow": null,
            "grid_area": null,
            "grid_auto_columns": null,
            "grid_auto_flow": null,
            "grid_auto_rows": null,
            "grid_column": null,
            "grid_gap": null,
            "grid_row": null,
            "grid_template_areas": null,
            "grid_template_columns": null,
            "grid_template_rows": null,
            "height": null,
            "justify_content": null,
            "justify_items": null,
            "left": null,
            "margin": null,
            "max_height": null,
            "max_width": null,
            "min_height": null,
            "min_width": null,
            "object_fit": null,
            "object_position": null,
            "order": null,
            "overflow": null,
            "overflow_x": null,
            "overflow_y": null,
            "padding": null,
            "right": null,
            "top": null,
            "visibility": null,
            "width": null
          }
        },
        "36083a8ee52f40639e52de144b4e38b0": {
          "model_module": "@jupyter-widgets/controls",
          "model_name": "DescriptionStyleModel",
          "model_module_version": "1.5.0",
          "state": {
            "_model_module": "@jupyter-widgets/controls",
            "_model_module_version": "1.5.0",
            "_model_name": "DescriptionStyleModel",
            "_view_count": null,
            "_view_module": "@jupyter-widgets/base",
            "_view_module_version": "1.2.0",
            "_view_name": "StyleView",
            "description_width": ""
          }
        },
        "753ae3f1a1b34b25b58369e0bc865bd5": {
          "model_module": "@jupyter-widgets/controls",
          "model_name": "HBoxModel",
          "model_module_version": "1.5.0",
          "state": {
            "_dom_classes": [],
            "_model_module": "@jupyter-widgets/controls",
            "_model_module_version": "1.5.0",
            "_model_name": "HBoxModel",
            "_view_count": null,
            "_view_module": "@jupyter-widgets/controls",
            "_view_module_version": "1.5.0",
            "_view_name": "HBoxView",
            "box_style": "",
            "children": [
              "IPY_MODEL_054f5fb0d22e42f9abb8ade2297a8d82",
              "IPY_MODEL_b905397e933047a3ad6585b9d76f437b",
              "IPY_MODEL_a698b6cc0eb247c8ae4b3b3cc5740361"
            ],
            "layout": "IPY_MODEL_145b967e41e8471c810dcf75ecd53fb2"
          }
        },
        "054f5fb0d22e42f9abb8ade2297a8d82": {
          "model_module": "@jupyter-widgets/controls",
          "model_name": "HTMLModel",
          "model_module_version": "1.5.0",
          "state": {
            "_dom_classes": [],
            "_model_module": "@jupyter-widgets/controls",
            "_model_module_version": "1.5.0",
            "_model_name": "HTMLModel",
            "_view_count": null,
            "_view_module": "@jupyter-widgets/controls",
            "_view_module_version": "1.5.0",
            "_view_name": "HTMLView",
            "description": "",
            "description_tooltip": null,
            "layout": "IPY_MODEL_1dee93db2e7a4075a852e52d294f6eec",
            "placeholder": "​",
            "style": "IPY_MODEL_dbedbdba37014ef4a36d8c7c0df55939",
            "value": "config.json: 100%"
          }
        },
        "b905397e933047a3ad6585b9d76f437b": {
          "model_module": "@jupyter-widgets/controls",
          "model_name": "FloatProgressModel",
          "model_module_version": "1.5.0",
          "state": {
            "_dom_classes": [],
            "_model_module": "@jupyter-widgets/controls",
            "_model_module_version": "1.5.0",
            "_model_name": "FloatProgressModel",
            "_view_count": null,
            "_view_module": "@jupyter-widgets/controls",
            "_view_module_version": "1.5.0",
            "_view_name": "ProgressView",
            "bar_style": "success",
            "description": "",
            "description_tooltip": null,
            "layout": "IPY_MODEL_096da8fb0beb4099a20442a4a1a0d3e9",
            "max": 693,
            "min": 0,
            "orientation": "horizontal",
            "style": "IPY_MODEL_775d01f1d6d3404784d06574d93f56b7",
            "value": 693
          }
        },
        "a698b6cc0eb247c8ae4b3b3cc5740361": {
          "model_module": "@jupyter-widgets/controls",
          "model_name": "HTMLModel",
          "model_module_version": "1.5.0",
          "state": {
            "_dom_classes": [],
            "_model_module": "@jupyter-widgets/controls",
            "_model_module_version": "1.5.0",
            "_model_name": "HTMLModel",
            "_view_count": null,
            "_view_module": "@jupyter-widgets/controls",
            "_view_module_version": "1.5.0",
            "_view_name": "HTMLView",
            "description": "",
            "description_tooltip": null,
            "layout": "IPY_MODEL_002deb5f87db4ae996f826c5aaf2a6aa",
            "placeholder": "​",
            "style": "IPY_MODEL_5c8e8e773d004c35ac6d9422712ecc71",
            "value": " 693/693 [00:00&lt;00:00, 32.6kB/s]"
          }
        },
        "145b967e41e8471c810dcf75ecd53fb2": {
          "model_module": "@jupyter-widgets/base",
          "model_name": "LayoutModel",
          "model_module_version": "1.2.0",
          "state": {
            "_model_module": "@jupyter-widgets/base",
            "_model_module_version": "1.2.0",
            "_model_name": "LayoutModel",
            "_view_count": null,
            "_view_module": "@jupyter-widgets/base",
            "_view_module_version": "1.2.0",
            "_view_name": "LayoutView",
            "align_content": null,
            "align_items": null,
            "align_self": null,
            "border": null,
            "bottom": null,
            "display": null,
            "flex": null,
            "flex_flow": null,
            "grid_area": null,
            "grid_auto_columns": null,
            "grid_auto_flow": null,
            "grid_auto_rows": null,
            "grid_column": null,
            "grid_gap": null,
            "grid_row": null,
            "grid_template_areas": null,
            "grid_template_columns": null,
            "grid_template_rows": null,
            "height": null,
            "justify_content": null,
            "justify_items": null,
            "left": null,
            "margin": null,
            "max_height": null,
            "max_width": null,
            "min_height": null,
            "min_width": null,
            "object_fit": null,
            "object_position": null,
            "order": null,
            "overflow": null,
            "overflow_x": null,
            "overflow_y": null,
            "padding": null,
            "right": null,
            "top": null,
            "visibility": null,
            "width": null
          }
        },
        "1dee93db2e7a4075a852e52d294f6eec": {
          "model_module": "@jupyter-widgets/base",
          "model_name": "LayoutModel",
          "model_module_version": "1.2.0",
          "state": {
            "_model_module": "@jupyter-widgets/base",
            "_model_module_version": "1.2.0",
            "_model_name": "LayoutModel",
            "_view_count": null,
            "_view_module": "@jupyter-widgets/base",
            "_view_module_version": "1.2.0",
            "_view_name": "LayoutView",
            "align_content": null,
            "align_items": null,
            "align_self": null,
            "border": null,
            "bottom": null,
            "display": null,
            "flex": null,
            "flex_flow": null,
            "grid_area": null,
            "grid_auto_columns": null,
            "grid_auto_flow": null,
            "grid_auto_rows": null,
            "grid_column": null,
            "grid_gap": null,
            "grid_row": null,
            "grid_template_areas": null,
            "grid_template_columns": null,
            "grid_template_rows": null,
            "height": null,
            "justify_content": null,
            "justify_items": null,
            "left": null,
            "margin": null,
            "max_height": null,
            "max_width": null,
            "min_height": null,
            "min_width": null,
            "object_fit": null,
            "object_position": null,
            "order": null,
            "overflow": null,
            "overflow_x": null,
            "overflow_y": null,
            "padding": null,
            "right": null,
            "top": null,
            "visibility": null,
            "width": null
          }
        },
        "dbedbdba37014ef4a36d8c7c0df55939": {
          "model_module": "@jupyter-widgets/controls",
          "model_name": "DescriptionStyleModel",
          "model_module_version": "1.5.0",
          "state": {
            "_model_module": "@jupyter-widgets/controls",
            "_model_module_version": "1.5.0",
            "_model_name": "DescriptionStyleModel",
            "_view_count": null,
            "_view_module": "@jupyter-widgets/base",
            "_view_module_version": "1.2.0",
            "_view_name": "StyleView",
            "description_width": ""
          }
        },
        "096da8fb0beb4099a20442a4a1a0d3e9": {
          "model_module": "@jupyter-widgets/base",
          "model_name": "LayoutModel",
          "model_module_version": "1.2.0",
          "state": {
            "_model_module": "@jupyter-widgets/base",
            "_model_module_version": "1.2.0",
            "_model_name": "LayoutModel",
            "_view_count": null,
            "_view_module": "@jupyter-widgets/base",
            "_view_module_version": "1.2.0",
            "_view_name": "LayoutView",
            "align_content": null,
            "align_items": null,
            "align_self": null,
            "border": null,
            "bottom": null,
            "display": null,
            "flex": null,
            "flex_flow": null,
            "grid_area": null,
            "grid_auto_columns": null,
            "grid_auto_flow": null,
            "grid_auto_rows": null,
            "grid_column": null,
            "grid_gap": null,
            "grid_row": null,
            "grid_template_areas": null,
            "grid_template_columns": null,
            "grid_template_rows": null,
            "height": null,
            "justify_content": null,
            "justify_items": null,
            "left": null,
            "margin": null,
            "max_height": null,
            "max_width": null,
            "min_height": null,
            "min_width": null,
            "object_fit": null,
            "object_position": null,
            "order": null,
            "overflow": null,
            "overflow_x": null,
            "overflow_y": null,
            "padding": null,
            "right": null,
            "top": null,
            "visibility": null,
            "width": null
          }
        },
        "775d01f1d6d3404784d06574d93f56b7": {
          "model_module": "@jupyter-widgets/controls",
          "model_name": "ProgressStyleModel",
          "model_module_version": "1.5.0",
          "state": {
            "_model_module": "@jupyter-widgets/controls",
            "_model_module_version": "1.5.0",
            "_model_name": "ProgressStyleModel",
            "_view_count": null,
            "_view_module": "@jupyter-widgets/base",
            "_view_module_version": "1.2.0",
            "_view_name": "StyleView",
            "bar_color": null,
            "description_width": ""
          }
        },
        "002deb5f87db4ae996f826c5aaf2a6aa": {
          "model_module": "@jupyter-widgets/base",
          "model_name": "LayoutModel",
          "model_module_version": "1.2.0",
          "state": {
            "_model_module": "@jupyter-widgets/base",
            "_model_module_version": "1.2.0",
            "_model_name": "LayoutModel",
            "_view_count": null,
            "_view_module": "@jupyter-widgets/base",
            "_view_module_version": "1.2.0",
            "_view_name": "LayoutView",
            "align_content": null,
            "align_items": null,
            "align_self": null,
            "border": null,
            "bottom": null,
            "display": null,
            "flex": null,
            "flex_flow": null,
            "grid_area": null,
            "grid_auto_columns": null,
            "grid_auto_flow": null,
            "grid_auto_rows": null,
            "grid_column": null,
            "grid_gap": null,
            "grid_row": null,
            "grid_template_areas": null,
            "grid_template_columns": null,
            "grid_template_rows": null,
            "height": null,
            "justify_content": null,
            "justify_items": null,
            "left": null,
            "margin": null,
            "max_height": null,
            "max_width": null,
            "min_height": null,
            "min_width": null,
            "object_fit": null,
            "object_position": null,
            "order": null,
            "overflow": null,
            "overflow_x": null,
            "overflow_y": null,
            "padding": null,
            "right": null,
            "top": null,
            "visibility": null,
            "width": null
          }
        },
        "5c8e8e773d004c35ac6d9422712ecc71": {
          "model_module": "@jupyter-widgets/controls",
          "model_name": "DescriptionStyleModel",
          "model_module_version": "1.5.0",
          "state": {
            "_model_module": "@jupyter-widgets/controls",
            "_model_module_version": "1.5.0",
            "_model_name": "DescriptionStyleModel",
            "_view_count": null,
            "_view_module": "@jupyter-widgets/base",
            "_view_module_version": "1.2.0",
            "_view_name": "StyleView",
            "description_width": ""
          }
        },
        "1ca287493c614d23a992e7194f3b66b3": {
          "model_module": "@jupyter-widgets/controls",
          "model_name": "HBoxModel",
          "model_module_version": "1.5.0",
          "state": {
            "_dom_classes": [],
            "_model_module": "@jupyter-widgets/controls",
            "_model_module_version": "1.5.0",
            "_model_name": "HBoxModel",
            "_view_count": null,
            "_view_module": "@jupyter-widgets/controls",
            "_view_module_version": "1.5.0",
            "_view_name": "HBoxView",
            "box_style": "",
            "children": [
              "IPY_MODEL_4b148e8dc5624a09804c6413ca65b26c",
              "IPY_MODEL_e06b30b67f14480e90d3951a4a7e3282",
              "IPY_MODEL_eac2d34d86134ad6ac0c63a007ff917b"
            ],
            "layout": "IPY_MODEL_48e3fef1edef42459106028d90733517"
          }
        },
        "4b148e8dc5624a09804c6413ca65b26c": {
          "model_module": "@jupyter-widgets/controls",
          "model_name": "HTMLModel",
          "model_module_version": "1.5.0",
          "state": {
            "_dom_classes": [],
            "_model_module": "@jupyter-widgets/controls",
            "_model_module_version": "1.5.0",
            "_model_name": "HTMLModel",
            "_view_count": null,
            "_view_module": "@jupyter-widgets/controls",
            "_view_module_version": "1.5.0",
            "_view_name": "HTMLView",
            "description": "",
            "description_tooltip": null,
            "layout": "IPY_MODEL_6c536d567bcb459c847b89b80156cc3f",
            "placeholder": "​",
            "style": "IPY_MODEL_fe37577278024425b2dde826fecd7424",
            "value": "model.safetensors: 100%"
          }
        },
        "e06b30b67f14480e90d3951a4a7e3282": {
          "model_module": "@jupyter-widgets/controls",
          "model_name": "FloatProgressModel",
          "model_module_version": "1.5.0",
          "state": {
            "_dom_classes": [],
            "_model_module": "@jupyter-widgets/controls",
            "_model_module_version": "1.5.0",
            "_model_name": "FloatProgressModel",
            "_view_count": null,
            "_view_module": "@jupyter-widgets/controls",
            "_view_module_version": "1.5.0",
            "_view_name": "ProgressView",
            "bar_style": "success",
            "description": "",
            "description_tooltip": null,
            "layout": "IPY_MODEL_b5b788f62eac4630963403be89f8956d",
            "max": 117529600,
            "min": 0,
            "orientation": "horizontal",
            "style": "IPY_MODEL_7e95c7fdb2a34874b1974eb294e1b8a5",
            "value": 117529600
          }
        },
        "eac2d34d86134ad6ac0c63a007ff917b": {
          "model_module": "@jupyter-widgets/controls",
          "model_name": "HTMLModel",
          "model_module_version": "1.5.0",
          "state": {
            "_dom_classes": [],
            "_model_module": "@jupyter-widgets/controls",
            "_model_module_version": "1.5.0",
            "_model_name": "HTMLModel",
            "_view_count": null,
            "_view_module": "@jupyter-widgets/controls",
            "_view_module_version": "1.5.0",
            "_view_name": "HTMLView",
            "description": "",
            "description_tooltip": null,
            "layout": "IPY_MODEL_6f25b889c3fb46ec885b34cb6e1d41e2",
            "placeholder": "​",
            "style": "IPY_MODEL_0a51e0d1f49648888b0c82772ad84aea",
            "value": " 118M/118M [00:00&lt;00:00, 214MB/s]"
          }
        },
        "48e3fef1edef42459106028d90733517": {
          "model_module": "@jupyter-widgets/base",
          "model_name": "LayoutModel",
          "model_module_version": "1.2.0",
          "state": {
            "_model_module": "@jupyter-widgets/base",
            "_model_module_version": "1.2.0",
            "_model_name": "LayoutModel",
            "_view_count": null,
            "_view_module": "@jupyter-widgets/base",
            "_view_module_version": "1.2.0",
            "_view_name": "LayoutView",
            "align_content": null,
            "align_items": null,
            "align_self": null,
            "border": null,
            "bottom": null,
            "display": null,
            "flex": null,
            "flex_flow": null,
            "grid_area": null,
            "grid_auto_columns": null,
            "grid_auto_flow": null,
            "grid_auto_rows": null,
            "grid_column": null,
            "grid_gap": null,
            "grid_row": null,
            "grid_template_areas": null,
            "grid_template_columns": null,
            "grid_template_rows": null,
            "height": null,
            "justify_content": null,
            "justify_items": null,
            "left": null,
            "margin": null,
            "max_height": null,
            "max_width": null,
            "min_height": null,
            "min_width": null,
            "object_fit": null,
            "object_position": null,
            "order": null,
            "overflow": null,
            "overflow_x": null,
            "overflow_y": null,
            "padding": null,
            "right": null,
            "top": null,
            "visibility": null,
            "width": null
          }
        },
        "6c536d567bcb459c847b89b80156cc3f": {
          "model_module": "@jupyter-widgets/base",
          "model_name": "LayoutModel",
          "model_module_version": "1.2.0",
          "state": {
            "_model_module": "@jupyter-widgets/base",
            "_model_module_version": "1.2.0",
            "_model_name": "LayoutModel",
            "_view_count": null,
            "_view_module": "@jupyter-widgets/base",
            "_view_module_version": "1.2.0",
            "_view_name": "LayoutView",
            "align_content": null,
            "align_items": null,
            "align_self": null,
            "border": null,
            "bottom": null,
            "display": null,
            "flex": null,
            "flex_flow": null,
            "grid_area": null,
            "grid_auto_columns": null,
            "grid_auto_flow": null,
            "grid_auto_rows": null,
            "grid_column": null,
            "grid_gap": null,
            "grid_row": null,
            "grid_template_areas": null,
            "grid_template_columns": null,
            "grid_template_rows": null,
            "height": null,
            "justify_content": null,
            "justify_items": null,
            "left": null,
            "margin": null,
            "max_height": null,
            "max_width": null,
            "min_height": null,
            "min_width": null,
            "object_fit": null,
            "object_position": null,
            "order": null,
            "overflow": null,
            "overflow_x": null,
            "overflow_y": null,
            "padding": null,
            "right": null,
            "top": null,
            "visibility": null,
            "width": null
          }
        },
        "fe37577278024425b2dde826fecd7424": {
          "model_module": "@jupyter-widgets/controls",
          "model_name": "DescriptionStyleModel",
          "model_module_version": "1.5.0",
          "state": {
            "_model_module": "@jupyter-widgets/controls",
            "_model_module_version": "1.5.0",
            "_model_name": "DescriptionStyleModel",
            "_view_count": null,
            "_view_module": "@jupyter-widgets/base",
            "_view_module_version": "1.2.0",
            "_view_name": "StyleView",
            "description_width": ""
          }
        },
        "b5b788f62eac4630963403be89f8956d": {
          "model_module": "@jupyter-widgets/base",
          "model_name": "LayoutModel",
          "model_module_version": "1.2.0",
          "state": {
            "_model_module": "@jupyter-widgets/base",
            "_model_module_version": "1.2.0",
            "_model_name": "LayoutModel",
            "_view_count": null,
            "_view_module": "@jupyter-widgets/base",
            "_view_module_version": "1.2.0",
            "_view_name": "LayoutView",
            "align_content": null,
            "align_items": null,
            "align_self": null,
            "border": null,
            "bottom": null,
            "display": null,
            "flex": null,
            "flex_flow": null,
            "grid_area": null,
            "grid_auto_columns": null,
            "grid_auto_flow": null,
            "grid_auto_rows": null,
            "grid_column": null,
            "grid_gap": null,
            "grid_row": null,
            "grid_template_areas": null,
            "grid_template_columns": null,
            "grid_template_rows": null,
            "height": null,
            "justify_content": null,
            "justify_items": null,
            "left": null,
            "margin": null,
            "max_height": null,
            "max_width": null,
            "min_height": null,
            "min_width": null,
            "object_fit": null,
            "object_position": null,
            "order": null,
            "overflow": null,
            "overflow_x": null,
            "overflow_y": null,
            "padding": null,
            "right": null,
            "top": null,
            "visibility": null,
            "width": null
          }
        },
        "7e95c7fdb2a34874b1974eb294e1b8a5": {
          "model_module": "@jupyter-widgets/controls",
          "model_name": "ProgressStyleModel",
          "model_module_version": "1.5.0",
          "state": {
            "_model_module": "@jupyter-widgets/controls",
            "_model_module_version": "1.5.0",
            "_model_name": "ProgressStyleModel",
            "_view_count": null,
            "_view_module": "@jupyter-widgets/base",
            "_view_module_version": "1.2.0",
            "_view_name": "StyleView",
            "bar_color": null,
            "description_width": ""
          }
        },
        "6f25b889c3fb46ec885b34cb6e1d41e2": {
          "model_module": "@jupyter-widgets/base",
          "model_name": "LayoutModel",
          "model_module_version": "1.2.0",
          "state": {
            "_model_module": "@jupyter-widgets/base",
            "_model_module_version": "1.2.0",
            "_model_name": "LayoutModel",
            "_view_count": null,
            "_view_module": "@jupyter-widgets/base",
            "_view_module_version": "1.2.0",
            "_view_name": "LayoutView",
            "align_content": null,
            "align_items": null,
            "align_self": null,
            "border": null,
            "bottom": null,
            "display": null,
            "flex": null,
            "flex_flow": null,
            "grid_area": null,
            "grid_auto_columns": null,
            "grid_auto_flow": null,
            "grid_auto_rows": null,
            "grid_column": null,
            "grid_gap": null,
            "grid_row": null,
            "grid_template_areas": null,
            "grid_template_columns": null,
            "grid_template_rows": null,
            "height": null,
            "justify_content": null,
            "justify_items": null,
            "left": null,
            "margin": null,
            "max_height": null,
            "max_width": null,
            "min_height": null,
            "min_width": null,
            "object_fit": null,
            "object_position": null,
            "order": null,
            "overflow": null,
            "overflow_x": null,
            "overflow_y": null,
            "padding": null,
            "right": null,
            "top": null,
            "visibility": null,
            "width": null
          }
        },
        "0a51e0d1f49648888b0c82772ad84aea": {
          "model_module": "@jupyter-widgets/controls",
          "model_name": "DescriptionStyleModel",
          "model_module_version": "1.5.0",
          "state": {
            "_model_module": "@jupyter-widgets/controls",
            "_model_module_version": "1.5.0",
            "_model_name": "DescriptionStyleModel",
            "_view_count": null,
            "_view_module": "@jupyter-widgets/base",
            "_view_module_version": "1.2.0",
            "_view_name": "StyleView",
            "description_width": ""
          }
        },
        "6c07c462ab58459a93ecab650e546c26": {
          "model_module": "@jupyter-widgets/controls",
          "model_name": "HBoxModel",
          "model_module_version": "1.5.0",
          "state": {
            "_dom_classes": [],
            "_model_module": "@jupyter-widgets/controls",
            "_model_module_version": "1.5.0",
            "_model_name": "HBoxModel",
            "_view_count": null,
            "_view_module": "@jupyter-widgets/controls",
            "_view_module_version": "1.5.0",
            "_view_name": "HBoxView",
            "box_style": "",
            "children": [
              "IPY_MODEL_565ad2a7beda48caa37a9e6bffa2da3e",
              "IPY_MODEL_b77ad4210c074e698164b3bae633c1e1",
              "IPY_MODEL_fb8d21ef1e6942b1ba6d80c3a4d02e4b"
            ],
            "layout": "IPY_MODEL_9d06885dc1ba4a00a8fbdb6e982702c2"
          }
        },
        "565ad2a7beda48caa37a9e6bffa2da3e": {
          "model_module": "@jupyter-widgets/controls",
          "model_name": "HTMLModel",
          "model_module_version": "1.5.0",
          "state": {
            "_dom_classes": [],
            "_model_module": "@jupyter-widgets/controls",
            "_model_module_version": "1.5.0",
            "_model_name": "HTMLModel",
            "_view_count": null,
            "_view_module": "@jupyter-widgets/controls",
            "_view_module_version": "1.5.0",
            "_view_name": "HTMLView",
            "description": "",
            "description_tooltip": null,
            "layout": "IPY_MODEL_06dc1c2808074f238fe4644d10c66b18",
            "placeholder": "​",
            "style": "IPY_MODEL_01b4b4032adf4edc9f716a4affe6f85b",
            "value": "Pandas Apply: 100%"
          }
        },
        "b77ad4210c074e698164b3bae633c1e1": {
          "model_module": "@jupyter-widgets/controls",
          "model_name": "FloatProgressModel",
          "model_module_version": "1.5.0",
          "state": {
            "_dom_classes": [],
            "_model_module": "@jupyter-widgets/controls",
            "_model_module_version": "1.5.0",
            "_model_name": "FloatProgressModel",
            "_view_count": null,
            "_view_module": "@jupyter-widgets/controls",
            "_view_module_version": "1.5.0",
            "_view_name": "ProgressView",
            "bar_style": "success",
            "description": "",
            "description_tooltip": null,
            "layout": "IPY_MODEL_74946bbd66484e8797cccc262eafb9d3",
            "max": 14516,
            "min": 0,
            "orientation": "horizontal",
            "style": "IPY_MODEL_24314101484f4b31a91c19e4f31f009b",
            "value": 14516
          }
        },
        "fb8d21ef1e6942b1ba6d80c3a4d02e4b": {
          "model_module": "@jupyter-widgets/controls",
          "model_name": "HTMLModel",
          "model_module_version": "1.5.0",
          "state": {
            "_dom_classes": [],
            "_model_module": "@jupyter-widgets/controls",
            "_model_module_version": "1.5.0",
            "_model_name": "HTMLModel",
            "_view_count": null,
            "_view_module": "@jupyter-widgets/controls",
            "_view_module_version": "1.5.0",
            "_view_name": "HTMLView",
            "description": "",
            "description_tooltip": null,
            "layout": "IPY_MODEL_df3a4f9a329b48e0ba76768b6b654ae9",
            "placeholder": "​",
            "style": "IPY_MODEL_2503b6e9fb284ca09bb6b9ee9be006bc",
            "value": " 14516/14516 [13:21&lt;00:00, 11.86it/s]"
          }
        },
        "9d06885dc1ba4a00a8fbdb6e982702c2": {
          "model_module": "@jupyter-widgets/base",
          "model_name": "LayoutModel",
          "model_module_version": "1.2.0",
          "state": {
            "_model_module": "@jupyter-widgets/base",
            "_model_module_version": "1.2.0",
            "_model_name": "LayoutModel",
            "_view_count": null,
            "_view_module": "@jupyter-widgets/base",
            "_view_module_version": "1.2.0",
            "_view_name": "LayoutView",
            "align_content": null,
            "align_items": null,
            "align_self": null,
            "border": null,
            "bottom": null,
            "display": null,
            "flex": null,
            "flex_flow": null,
            "grid_area": null,
            "grid_auto_columns": null,
            "grid_auto_flow": null,
            "grid_auto_rows": null,
            "grid_column": null,
            "grid_gap": null,
            "grid_row": null,
            "grid_template_areas": null,
            "grid_template_columns": null,
            "grid_template_rows": null,
            "height": null,
            "justify_content": null,
            "justify_items": null,
            "left": null,
            "margin": null,
            "max_height": null,
            "max_width": null,
            "min_height": null,
            "min_width": null,
            "object_fit": null,
            "object_position": null,
            "order": null,
            "overflow": null,
            "overflow_x": null,
            "overflow_y": null,
            "padding": null,
            "right": null,
            "top": null,
            "visibility": null,
            "width": null
          }
        },
        "06dc1c2808074f238fe4644d10c66b18": {
          "model_module": "@jupyter-widgets/base",
          "model_name": "LayoutModel",
          "model_module_version": "1.2.0",
          "state": {
            "_model_module": "@jupyter-widgets/base",
            "_model_module_version": "1.2.0",
            "_model_name": "LayoutModel",
            "_view_count": null,
            "_view_module": "@jupyter-widgets/base",
            "_view_module_version": "1.2.0",
            "_view_name": "LayoutView",
            "align_content": null,
            "align_items": null,
            "align_self": null,
            "border": null,
            "bottom": null,
            "display": null,
            "flex": null,
            "flex_flow": null,
            "grid_area": null,
            "grid_auto_columns": null,
            "grid_auto_flow": null,
            "grid_auto_rows": null,
            "grid_column": null,
            "grid_gap": null,
            "grid_row": null,
            "grid_template_areas": null,
            "grid_template_columns": null,
            "grid_template_rows": null,
            "height": null,
            "justify_content": null,
            "justify_items": null,
            "left": null,
            "margin": null,
            "max_height": null,
            "max_width": null,
            "min_height": null,
            "min_width": null,
            "object_fit": null,
            "object_position": null,
            "order": null,
            "overflow": null,
            "overflow_x": null,
            "overflow_y": null,
            "padding": null,
            "right": null,
            "top": null,
            "visibility": null,
            "width": null
          }
        },
        "01b4b4032adf4edc9f716a4affe6f85b": {
          "model_module": "@jupyter-widgets/controls",
          "model_name": "DescriptionStyleModel",
          "model_module_version": "1.5.0",
          "state": {
            "_model_module": "@jupyter-widgets/controls",
            "_model_module_version": "1.5.0",
            "_model_name": "DescriptionStyleModel",
            "_view_count": null,
            "_view_module": "@jupyter-widgets/base",
            "_view_module_version": "1.2.0",
            "_view_name": "StyleView",
            "description_width": ""
          }
        },
        "74946bbd66484e8797cccc262eafb9d3": {
          "model_module": "@jupyter-widgets/base",
          "model_name": "LayoutModel",
          "model_module_version": "1.2.0",
          "state": {
            "_model_module": "@jupyter-widgets/base",
            "_model_module_version": "1.2.0",
            "_model_name": "LayoutModel",
            "_view_count": null,
            "_view_module": "@jupyter-widgets/base",
            "_view_module_version": "1.2.0",
            "_view_name": "LayoutView",
            "align_content": null,
            "align_items": null,
            "align_self": null,
            "border": null,
            "bottom": null,
            "display": null,
            "flex": null,
            "flex_flow": null,
            "grid_area": null,
            "grid_auto_columns": null,
            "grid_auto_flow": null,
            "grid_auto_rows": null,
            "grid_column": null,
            "grid_gap": null,
            "grid_row": null,
            "grid_template_areas": null,
            "grid_template_columns": null,
            "grid_template_rows": null,
            "height": null,
            "justify_content": null,
            "justify_items": null,
            "left": null,
            "margin": null,
            "max_height": null,
            "max_width": null,
            "min_height": null,
            "min_width": null,
            "object_fit": null,
            "object_position": null,
            "order": null,
            "overflow": null,
            "overflow_x": null,
            "overflow_y": null,
            "padding": null,
            "right": null,
            "top": null,
            "visibility": null,
            "width": null
          }
        },
        "24314101484f4b31a91c19e4f31f009b": {
          "model_module": "@jupyter-widgets/controls",
          "model_name": "ProgressStyleModel",
          "model_module_version": "1.5.0",
          "state": {
            "_model_module": "@jupyter-widgets/controls",
            "_model_module_version": "1.5.0",
            "_model_name": "ProgressStyleModel",
            "_view_count": null,
            "_view_module": "@jupyter-widgets/base",
            "_view_module_version": "1.2.0",
            "_view_name": "StyleView",
            "bar_color": null,
            "description_width": ""
          }
        },
        "df3a4f9a329b48e0ba76768b6b654ae9": {
          "model_module": "@jupyter-widgets/base",
          "model_name": "LayoutModel",
          "model_module_version": "1.2.0",
          "state": {
            "_model_module": "@jupyter-widgets/base",
            "_model_module_version": "1.2.0",
            "_model_name": "LayoutModel",
            "_view_count": null,
            "_view_module": "@jupyter-widgets/base",
            "_view_module_version": "1.2.0",
            "_view_name": "LayoutView",
            "align_content": null,
            "align_items": null,
            "align_self": null,
            "border": null,
            "bottom": null,
            "display": null,
            "flex": null,
            "flex_flow": null,
            "grid_area": null,
            "grid_auto_columns": null,
            "grid_auto_flow": null,
            "grid_auto_rows": null,
            "grid_column": null,
            "grid_gap": null,
            "grid_row": null,
            "grid_template_areas": null,
            "grid_template_columns": null,
            "grid_template_rows": null,
            "height": null,
            "justify_content": null,
            "justify_items": null,
            "left": null,
            "margin": null,
            "max_height": null,
            "max_width": null,
            "min_height": null,
            "min_width": null,
            "object_fit": null,
            "object_position": null,
            "order": null,
            "overflow": null,
            "overflow_x": null,
            "overflow_y": null,
            "padding": null,
            "right": null,
            "top": null,
            "visibility": null,
            "width": null
          }
        },
        "2503b6e9fb284ca09bb6b9ee9be006bc": {
          "model_module": "@jupyter-widgets/controls",
          "model_name": "DescriptionStyleModel",
          "model_module_version": "1.5.0",
          "state": {
            "_model_module": "@jupyter-widgets/controls",
            "_model_module_version": "1.5.0",
            "_model_name": "DescriptionStyleModel",
            "_view_count": null,
            "_view_module": "@jupyter-widgets/base",
            "_view_module_version": "1.2.0",
            "_view_name": "StyleView",
            "description_width": ""
          }
        }
      }
    }
  },
  "cells": [
    {
      "cell_type": "code",
      "execution_count": 17,
      "metadata": {
        "id": "Qndp7cgbBcLu"
      },
      "outputs": [],
      "source": [
        "import pandas as pd\n",
        "import numpy as np\n",
        "from sklearn.model_selection import train_test_split\n",
        "from sklearn import preprocessing\n",
        "from sklearn.metrics import mean_absolute_error as mae, mean_absolute_percentage_error as mape, r2_score as r2\n",
        "from sklearn.feature_extraction.text import TfidfVectorizer\n",
        "import warnings\n",
        "import matplotlib.pyplot as plt\n",
        "import seaborn as sns\n",
        "from PIL import Image\n",
        "from sklearn.metrics import make_scorer\n",
        "import re\n",
        "import string\n",
        "from nltk.corpus import stopwords\n",
        "from pymystem3 import Mystem\n",
        "from nltk.tokenize import word_tokenize\n",
        "from nltk.stem import WordNetLemmatizer\n",
        "from bs4 import BeautifulSoup\n",
        "from sklearn.preprocessing import OneHotEncoder, LabelEncoder\n",
        "from sklearn.linear_model import LinearRegression\n",
        "from sklearn.ensemble import RandomForestRegressor\n",
        "from sklearn.linear_model import Ridge\n",
        "warnings.filterwarnings(\"ignore\")"
      ]
    },
    {
      "cell_type": "code",
      "source": [
        "import nltk\n",
        "nltk.download('stopwords')"
      ],
      "metadata": {
        "colab": {
          "base_uri": "https://localhost:8080/"
        },
        "id": "A4_JcRFVX_5H",
        "outputId": "0040bf94-d0d0-419e-f887-bb6fc407cea1"
      },
      "execution_count": 18,
      "outputs": [
        {
          "output_type": "stream",
          "name": "stderr",
          "text": [
            "[nltk_data] Downloading package stopwords to /root/nltk_data...\n",
            "[nltk_data]   Package stopwords is already up-to-date!\n"
          ]
        },
        {
          "output_type": "execute_result",
          "data": {
            "text/plain": [
              "True"
            ]
          },
          "metadata": {},
          "execution_count": 18
        }
      ]
    },
    {
      "cell_type": "code",
      "source": [
        "!python -m nltk.downloader all"
      ],
      "metadata": {
        "colab": {
          "base_uri": "https://localhost:8080/"
        },
        "id": "FeDkJo9bYMLV",
        "outputId": "143f7486-5179-49ef-89b6-70907766d4a5"
      },
      "execution_count": 19,
      "outputs": [
        {
          "output_type": "stream",
          "name": "stdout",
          "text": [
            "/usr/lib/python3.10/runpy.py:126: RuntimeWarning: 'nltk.downloader' found in sys.modules after import of package 'nltk', but prior to execution of 'nltk.downloader'; this may result in unpredictable behaviour\n",
            "  warn(RuntimeWarning(msg))\n",
            "[nltk_data] Downloading collection 'all'\n",
            "[nltk_data]    | \n",
            "[nltk_data]    | Downloading package abc to /root/nltk_data...\n",
            "[nltk_data]    |   Package abc is already up-to-date!\n",
            "[nltk_data]    | Downloading package alpino to /root/nltk_data...\n",
            "[nltk_data]    |   Package alpino is already up-to-date!\n",
            "[nltk_data]    | Downloading package averaged_perceptron_tagger to\n",
            "[nltk_data]    |     /root/nltk_data...\n",
            "[nltk_data]    |   Package averaged_perceptron_tagger is already up-\n",
            "[nltk_data]    |       to-date!\n",
            "[nltk_data]    | Downloading package averaged_perceptron_tagger_ru to\n",
            "[nltk_data]    |     /root/nltk_data...\n",
            "[nltk_data]    |   Package averaged_perceptron_tagger_ru is already\n",
            "[nltk_data]    |       up-to-date!\n",
            "[nltk_data]    | Downloading package basque_grammars to\n",
            "[nltk_data]    |     /root/nltk_data...\n",
            "[nltk_data]    |   Package basque_grammars is already up-to-date!\n",
            "[nltk_data]    | Downloading package bcp47 to /root/nltk_data...\n",
            "[nltk_data]    |   Package bcp47 is already up-to-date!\n",
            "[nltk_data]    | Downloading package biocreative_ppi to\n",
            "[nltk_data]    |     /root/nltk_data...\n",
            "[nltk_data]    |   Package biocreative_ppi is already up-to-date!\n",
            "[nltk_data]    | Downloading package bllip_wsj_no_aux to\n",
            "[nltk_data]    |     /root/nltk_data...\n",
            "[nltk_data]    |   Package bllip_wsj_no_aux is already up-to-date!\n",
            "[nltk_data]    | Downloading package book_grammars to\n",
            "[nltk_data]    |     /root/nltk_data...\n",
            "[nltk_data]    |   Package book_grammars is already up-to-date!\n",
            "[nltk_data]    | Downloading package brown to /root/nltk_data...\n",
            "[nltk_data]    |   Package brown is already up-to-date!\n",
            "[nltk_data]    | Downloading package brown_tei to /root/nltk_data...\n",
            "[nltk_data]    |   Package brown_tei is already up-to-date!\n",
            "[nltk_data]    | Downloading package cess_cat to /root/nltk_data...\n",
            "[nltk_data]    |   Package cess_cat is already up-to-date!\n",
            "[nltk_data]    | Downloading package cess_esp to /root/nltk_data...\n",
            "[nltk_data]    |   Package cess_esp is already up-to-date!\n",
            "[nltk_data]    | Downloading package chat80 to /root/nltk_data...\n",
            "[nltk_data]    |   Package chat80 is already up-to-date!\n",
            "[nltk_data]    | Downloading package city_database to\n",
            "[nltk_data]    |     /root/nltk_data...\n",
            "[nltk_data]    |   Package city_database is already up-to-date!\n",
            "[nltk_data]    | Downloading package cmudict to /root/nltk_data...\n",
            "[nltk_data]    |   Package cmudict is already up-to-date!\n",
            "[nltk_data]    | Downloading package comparative_sentences to\n",
            "[nltk_data]    |     /root/nltk_data...\n",
            "[nltk_data]    |   Package comparative_sentences is already up-to-\n",
            "[nltk_data]    |       date!\n",
            "[nltk_data]    | Downloading package comtrans to /root/nltk_data...\n",
            "[nltk_data]    |   Package comtrans is already up-to-date!\n",
            "[nltk_data]    | Downloading package conll2000 to /root/nltk_data...\n",
            "[nltk_data]    |   Package conll2000 is already up-to-date!\n",
            "[nltk_data]    | Downloading package conll2002 to /root/nltk_data...\n",
            "[nltk_data]    |   Package conll2002 is already up-to-date!\n",
            "[nltk_data]    | Downloading package conll2007 to /root/nltk_data...\n",
            "[nltk_data]    |   Package conll2007 is already up-to-date!\n",
            "[nltk_data]    | Downloading package crubadan to /root/nltk_data...\n",
            "[nltk_data]    |   Package crubadan is already up-to-date!\n",
            "[nltk_data]    | Downloading package dependency_treebank to\n",
            "[nltk_data]    |     /root/nltk_data...\n",
            "[nltk_data]    |   Package dependency_treebank is already up-to-date!\n",
            "[nltk_data]    | Downloading package dolch to /root/nltk_data...\n",
            "[nltk_data]    |   Package dolch is already up-to-date!\n",
            "[nltk_data]    | Downloading package europarl_raw to\n",
            "[nltk_data]    |     /root/nltk_data...\n",
            "[nltk_data]    |   Package europarl_raw is already up-to-date!\n",
            "[nltk_data]    | Downloading package extended_omw to\n",
            "[nltk_data]    |     /root/nltk_data...\n",
            "[nltk_data]    |   Package extended_omw is already up-to-date!\n",
            "[nltk_data]    | Downloading package floresta to /root/nltk_data...\n",
            "[nltk_data]    |   Package floresta is already up-to-date!\n",
            "[nltk_data]    | Downloading package framenet_v15 to\n",
            "[nltk_data]    |     /root/nltk_data...\n",
            "[nltk_data]    |   Package framenet_v15 is already up-to-date!\n",
            "[nltk_data]    | Downloading package framenet_v17 to\n",
            "[nltk_data]    |     /root/nltk_data...\n",
            "[nltk_data]    |   Package framenet_v17 is already up-to-date!\n",
            "[nltk_data]    | Downloading package gazetteers to /root/nltk_data...\n",
            "[nltk_data]    |   Package gazetteers is already up-to-date!\n",
            "[nltk_data]    | Downloading package genesis to /root/nltk_data...\n",
            "[nltk_data]    |   Package genesis is already up-to-date!\n",
            "[nltk_data]    | Downloading package gutenberg to /root/nltk_data...\n",
            "[nltk_data]    |   Package gutenberg is already up-to-date!\n",
            "[nltk_data]    | Downloading package ieer to /root/nltk_data...\n",
            "[nltk_data]    |   Package ieer is already up-to-date!\n",
            "[nltk_data]    | Downloading package inaugural to /root/nltk_data...\n",
            "[nltk_data]    |   Package inaugural is already up-to-date!\n",
            "[nltk_data]    | Downloading package indian to /root/nltk_data...\n",
            "[nltk_data]    |   Package indian is already up-to-date!\n",
            "[nltk_data]    | Downloading package jeita to /root/nltk_data...\n",
            "[nltk_data]    |   Package jeita is already up-to-date!\n",
            "[nltk_data]    | Downloading package kimmo to /root/nltk_data...\n",
            "[nltk_data]    |   Package kimmo is already up-to-date!\n",
            "[nltk_data]    | Downloading package knbc to /root/nltk_data...\n",
            "[nltk_data]    |   Package knbc is already up-to-date!\n",
            "[nltk_data]    | Downloading package large_grammars to\n",
            "[nltk_data]    |     /root/nltk_data...\n",
            "[nltk_data]    |   Package large_grammars is already up-to-date!\n",
            "[nltk_data]    | Downloading package lin_thesaurus to\n",
            "[nltk_data]    |     /root/nltk_data...\n",
            "[nltk_data]    |   Package lin_thesaurus is already up-to-date!\n",
            "[nltk_data]    | Downloading package mac_morpho to /root/nltk_data...\n",
            "[nltk_data]    |   Package mac_morpho is already up-to-date!\n",
            "[nltk_data]    | Downloading package machado to /root/nltk_data...\n",
            "[nltk_data]    |   Package machado is already up-to-date!\n",
            "[nltk_data]    | Downloading package masc_tagged to /root/nltk_data...\n",
            "[nltk_data]    |   Package masc_tagged is already up-to-date!\n",
            "[nltk_data]    | Downloading package maxent_ne_chunker to\n",
            "[nltk_data]    |     /root/nltk_data...\n",
            "[nltk_data]    |   Package maxent_ne_chunker is already up-to-date!\n",
            "[nltk_data]    | Downloading package maxent_treebank_pos_tagger to\n",
            "[nltk_data]    |     /root/nltk_data...\n",
            "[nltk_data]    |   Package maxent_treebank_pos_tagger is already up-\n",
            "[nltk_data]    |       to-date!\n",
            "[nltk_data]    | Downloading package moses_sample to\n",
            "[nltk_data]    |     /root/nltk_data...\n",
            "[nltk_data]    |   Package moses_sample is already up-to-date!\n",
            "[nltk_data]    | Downloading package movie_reviews to\n",
            "[nltk_data]    |     /root/nltk_data...\n",
            "[nltk_data]    |   Package movie_reviews is already up-to-date!\n",
            "[nltk_data]    | Downloading package mte_teip5 to /root/nltk_data...\n",
            "[nltk_data]    |   Package mte_teip5 is already up-to-date!\n",
            "[nltk_data]    | Downloading package mwa_ppdb to /root/nltk_data...\n",
            "[nltk_data]    |   Package mwa_ppdb is already up-to-date!\n",
            "[nltk_data]    | Downloading package names to /root/nltk_data...\n",
            "[nltk_data]    |   Package names is already up-to-date!\n",
            "[nltk_data]    | Downloading package nombank.1.0 to /root/nltk_data...\n",
            "[nltk_data]    |   Package nombank.1.0 is already up-to-date!\n",
            "[nltk_data]    | Downloading package nonbreaking_prefixes to\n",
            "[nltk_data]    |     /root/nltk_data...\n",
            "[nltk_data]    |   Package nonbreaking_prefixes is already up-to-date!\n",
            "[nltk_data]    | Downloading package nps_chat to /root/nltk_data...\n",
            "[nltk_data]    |   Package nps_chat is already up-to-date!\n",
            "[nltk_data]    | Downloading package omw to /root/nltk_data...\n",
            "[nltk_data]    |   Package omw is already up-to-date!\n",
            "[nltk_data]    | Downloading package omw-1.4 to /root/nltk_data...\n",
            "[nltk_data]    |   Package omw-1.4 is already up-to-date!\n",
            "[nltk_data]    | Downloading package opinion_lexicon to\n",
            "[nltk_data]    |     /root/nltk_data...\n",
            "[nltk_data]    |   Package opinion_lexicon is already up-to-date!\n",
            "[nltk_data]    | Downloading package panlex_swadesh to\n",
            "[nltk_data]    |     /root/nltk_data...\n",
            "[nltk_data]    |   Package panlex_swadesh is already up-to-date!\n",
            "[nltk_data]    | Downloading package paradigms to /root/nltk_data...\n",
            "[nltk_data]    |   Package paradigms is already up-to-date!\n",
            "[nltk_data]    | Downloading package pe08 to /root/nltk_data...\n",
            "[nltk_data]    |   Package pe08 is already up-to-date!\n",
            "[nltk_data]    | Downloading package perluniprops to\n",
            "[nltk_data]    |     /root/nltk_data...\n",
            "[nltk_data]    |   Package perluniprops is already up-to-date!\n",
            "[nltk_data]    | Downloading package pil to /root/nltk_data...\n",
            "[nltk_data]    |   Package pil is already up-to-date!\n",
            "[nltk_data]    | Downloading package pl196x to /root/nltk_data...\n",
            "[nltk_data]    |   Package pl196x is already up-to-date!\n",
            "[nltk_data]    | Downloading package porter_test to /root/nltk_data...\n",
            "[nltk_data]    |   Package porter_test is already up-to-date!\n",
            "[nltk_data]    | Downloading package ppattach to /root/nltk_data...\n",
            "[nltk_data]    |   Package ppattach is already up-to-date!\n",
            "[nltk_data]    | Downloading package problem_reports to\n",
            "[nltk_data]    |     /root/nltk_data...\n",
            "[nltk_data]    |   Package problem_reports is already up-to-date!\n",
            "[nltk_data]    | Downloading package product_reviews_1 to\n",
            "[nltk_data]    |     /root/nltk_data...\n",
            "[nltk_data]    |   Package product_reviews_1 is already up-to-date!\n",
            "[nltk_data]    | Downloading package product_reviews_2 to\n",
            "[nltk_data]    |     /root/nltk_data...\n",
            "[nltk_data]    |   Package product_reviews_2 is already up-to-date!\n",
            "[nltk_data]    | Downloading package propbank to /root/nltk_data...\n",
            "[nltk_data]    |   Package propbank is already up-to-date!\n",
            "[nltk_data]    | Downloading package pros_cons to /root/nltk_data...\n",
            "[nltk_data]    |   Package pros_cons is already up-to-date!\n",
            "[nltk_data]    | Downloading package ptb to /root/nltk_data...\n",
            "[nltk_data]    |   Package ptb is already up-to-date!\n",
            "[nltk_data]    | Downloading package punkt to /root/nltk_data...\n",
            "[nltk_data]    |   Package punkt is already up-to-date!\n",
            "[nltk_data]    | Downloading package qc to /root/nltk_data...\n",
            "[nltk_data]    |   Package qc is already up-to-date!\n",
            "[nltk_data]    | Downloading package reuters to /root/nltk_data...\n",
            "[nltk_data]    |   Package reuters is already up-to-date!\n",
            "[nltk_data]    | Downloading package rslp to /root/nltk_data...\n",
            "[nltk_data]    |   Package rslp is already up-to-date!\n",
            "[nltk_data]    | Downloading package rte to /root/nltk_data...\n",
            "[nltk_data]    |   Package rte is already up-to-date!\n",
            "[nltk_data]    | Downloading package sample_grammars to\n",
            "[nltk_data]    |     /root/nltk_data...\n",
            "[nltk_data]    |   Package sample_grammars is already up-to-date!\n",
            "[nltk_data]    | Downloading package semcor to /root/nltk_data...\n",
            "[nltk_data]    |   Package semcor is already up-to-date!\n",
            "[nltk_data]    | Downloading package senseval to /root/nltk_data...\n",
            "[nltk_data]    |   Package senseval is already up-to-date!\n",
            "[nltk_data]    | Downloading package sentence_polarity to\n",
            "[nltk_data]    |     /root/nltk_data...\n",
            "[nltk_data]    |   Package sentence_polarity is already up-to-date!\n",
            "[nltk_data]    | Downloading package sentiwordnet to\n",
            "[nltk_data]    |     /root/nltk_data...\n",
            "[nltk_data]    |   Package sentiwordnet is already up-to-date!\n",
            "[nltk_data]    | Downloading package shakespeare to /root/nltk_data...\n",
            "[nltk_data]    |   Package shakespeare is already up-to-date!\n",
            "[nltk_data]    | Downloading package sinica_treebank to\n",
            "[nltk_data]    |     /root/nltk_data...\n",
            "[nltk_data]    |   Package sinica_treebank is already up-to-date!\n",
            "[nltk_data]    | Downloading package smultron to /root/nltk_data...\n",
            "[nltk_data]    |   Package smultron is already up-to-date!\n",
            "[nltk_data]    | Downloading package snowball_data to\n",
            "[nltk_data]    |     /root/nltk_data...\n",
            "[nltk_data]    |   Package snowball_data is already up-to-date!\n",
            "[nltk_data]    | Downloading package spanish_grammars to\n",
            "[nltk_data]    |     /root/nltk_data...\n",
            "[nltk_data]    |   Package spanish_grammars is already up-to-date!\n",
            "[nltk_data]    | Downloading package state_union to /root/nltk_data...\n",
            "[nltk_data]    |   Package state_union is already up-to-date!\n",
            "[nltk_data]    | Downloading package stopwords to /root/nltk_data...\n",
            "[nltk_data]    |   Package stopwords is already up-to-date!\n",
            "[nltk_data]    | Downloading package subjectivity to\n",
            "[nltk_data]    |     /root/nltk_data...\n",
            "[nltk_data]    |   Package subjectivity is already up-to-date!\n",
            "[nltk_data]    | Downloading package swadesh to /root/nltk_data...\n",
            "[nltk_data]    |   Package swadesh is already up-to-date!\n",
            "[nltk_data]    | Downloading package switchboard to /root/nltk_data...\n",
            "[nltk_data]    |   Package switchboard is already up-to-date!\n",
            "[nltk_data]    | Downloading package tagsets to /root/nltk_data...\n",
            "[nltk_data]    |   Package tagsets is already up-to-date!\n",
            "[nltk_data]    | Downloading package timit to /root/nltk_data...\n",
            "[nltk_data]    |   Package timit is already up-to-date!\n",
            "[nltk_data]    | Downloading package toolbox to /root/nltk_data...\n",
            "[nltk_data]    |   Package toolbox is already up-to-date!\n",
            "[nltk_data]    | Downloading package treebank to /root/nltk_data...\n",
            "[nltk_data]    |   Package treebank is already up-to-date!\n",
            "[nltk_data]    | Downloading package twitter_samples to\n",
            "[nltk_data]    |     /root/nltk_data...\n",
            "[nltk_data]    |   Package twitter_samples is already up-to-date!\n",
            "[nltk_data]    | Downloading package udhr to /root/nltk_data...\n",
            "[nltk_data]    |   Package udhr is already up-to-date!\n",
            "[nltk_data]    | Downloading package udhr2 to /root/nltk_data...\n",
            "[nltk_data]    |   Package udhr2 is already up-to-date!\n",
            "[nltk_data]    | Downloading package unicode_samples to\n",
            "[nltk_data]    |     /root/nltk_data...\n",
            "[nltk_data]    |   Package unicode_samples is already up-to-date!\n",
            "[nltk_data]    | Downloading package universal_tagset to\n",
            "[nltk_data]    |     /root/nltk_data...\n",
            "[nltk_data]    |   Package universal_tagset is already up-to-date!\n",
            "[nltk_data]    | Downloading package universal_treebanks_v20 to\n",
            "[nltk_data]    |     /root/nltk_data...\n",
            "[nltk_data]    |   Package universal_treebanks_v20 is already up-to-\n",
            "[nltk_data]    |       date!\n",
            "[nltk_data]    | Downloading package vader_lexicon to\n",
            "[nltk_data]    |     /root/nltk_data...\n",
            "[nltk_data]    |   Package vader_lexicon is already up-to-date!\n",
            "[nltk_data]    | Downloading package verbnet to /root/nltk_data...\n",
            "[nltk_data]    |   Package verbnet is already up-to-date!\n",
            "[nltk_data]    | Downloading package verbnet3 to /root/nltk_data...\n",
            "[nltk_data]    |   Package verbnet3 is already up-to-date!\n",
            "[nltk_data]    | Downloading package webtext to /root/nltk_data...\n",
            "[nltk_data]    |   Package webtext is already up-to-date!\n",
            "[nltk_data]    | Downloading package wmt15_eval to /root/nltk_data...\n",
            "[nltk_data]    |   Package wmt15_eval is already up-to-date!\n",
            "[nltk_data]    | Downloading package word2vec_sample to\n",
            "[nltk_data]    |     /root/nltk_data...\n",
            "[nltk_data]    |   Package word2vec_sample is already up-to-date!\n",
            "[nltk_data]    | Downloading package wordnet to /root/nltk_data...\n",
            "[nltk_data]    |   Package wordnet is already up-to-date!\n",
            "[nltk_data]    | Downloading package wordnet2021 to /root/nltk_data...\n",
            "[nltk_data]    |   Package wordnet2021 is already up-to-date!\n",
            "[nltk_data]    | Downloading package wordnet2022 to /root/nltk_data...\n",
            "[nltk_data]    |   Package wordnet2022 is already up-to-date!\n",
            "[nltk_data]    | Downloading package wordnet31 to /root/nltk_data...\n",
            "[nltk_data]    |   Package wordnet31 is already up-to-date!\n",
            "[nltk_data]    | Downloading package wordnet_ic to /root/nltk_data...\n",
            "[nltk_data]    |   Package wordnet_ic is already up-to-date!\n",
            "[nltk_data]    | Downloading package words to /root/nltk_data...\n",
            "[nltk_data]    |   Package words is already up-to-date!\n",
            "[nltk_data]    | Downloading package ycoe to /root/nltk_data...\n",
            "[nltk_data]    |   Package ycoe is already up-to-date!\n",
            "[nltk_data]    | \n",
            "[nltk_data]  Done downloading collection all\n"
          ]
        }
      ]
    },
    {
      "cell_type": "code",
      "source": [
        "pip install optuna"
      ],
      "metadata": {
        "id": "lL5twfgKFLHf",
        "colab": {
          "base_uri": "https://localhost:8080/"
        },
        "outputId": "7e757062-7ce9-407b-bd7e-e7bba39c14af"
      },
      "execution_count": 20,
      "outputs": [
        {
          "output_type": "stream",
          "name": "stdout",
          "text": [
            "Requirement already satisfied: optuna in /usr/local/lib/python3.10/dist-packages (3.5.0)\n",
            "Requirement already satisfied: alembic>=1.5.0 in /usr/local/lib/python3.10/dist-packages (from optuna) (1.13.1)\n",
            "Requirement already satisfied: colorlog in /usr/local/lib/python3.10/dist-packages (from optuna) (6.8.2)\n",
            "Requirement already satisfied: numpy in /usr/local/lib/python3.10/dist-packages (from optuna) (1.23.5)\n",
            "Requirement already satisfied: packaging>=20.0 in /usr/local/lib/python3.10/dist-packages (from optuna) (23.2)\n",
            "Requirement already satisfied: sqlalchemy>=1.3.0 in /usr/local/lib/python3.10/dist-packages (from optuna) (2.0.24)\n",
            "Requirement already satisfied: tqdm in /usr/local/lib/python3.10/dist-packages (from optuna) (4.66.1)\n",
            "Requirement already satisfied: PyYAML in /usr/local/lib/python3.10/dist-packages (from optuna) (6.0.1)\n",
            "Requirement already satisfied: Mako in /usr/local/lib/python3.10/dist-packages (from alembic>=1.5.0->optuna) (1.3.2)\n",
            "Requirement already satisfied: typing-extensions>=4 in /usr/local/lib/python3.10/dist-packages (from alembic>=1.5.0->optuna) (4.5.0)\n",
            "Requirement already satisfied: greenlet!=0.4.17 in /usr/local/lib/python3.10/dist-packages (from sqlalchemy>=1.3.0->optuna) (3.0.3)\n",
            "Requirement already satisfied: MarkupSafe>=0.9.2 in /usr/local/lib/python3.10/dist-packages (from Mako->alembic>=1.5.0->optuna) (2.1.4)\n"
          ]
        }
      ]
    },
    {
      "cell_type": "code",
      "source": [
        "import tensorflow as tf\n",
        "import optuna"
      ],
      "metadata": {
        "id": "2aNsF_z-FI1q"
      },
      "execution_count": 21,
      "outputs": []
    },
    {
      "cell_type": "code",
      "source": [
        "\n",
        "from tqdm.notebook import tqdm\n",
        "tqdm.pandas()"
      ],
      "metadata": {
        "id": "5N1cZkvqBmR4"
      },
      "execution_count": 22,
      "outputs": []
    },
    {
      "cell_type": "code",
      "source": [
        "import nltk\n",
        "nltk.download('stopwords')"
      ],
      "metadata": {
        "id": "75QVO8zGBpm7",
        "colab": {
          "base_uri": "https://localhost:8080/"
        },
        "outputId": "3a35b9ae-519f-485a-9dbc-94a0920379b8"
      },
      "execution_count": 23,
      "outputs": [
        {
          "output_type": "stream",
          "name": "stderr",
          "text": [
            "[nltk_data] Downloading package stopwords to /root/nltk_data...\n",
            "[nltk_data]   Package stopwords is already up-to-date!\n"
          ]
        },
        {
          "output_type": "execute_result",
          "data": {
            "text/plain": [
              "True"
            ]
          },
          "metadata": {},
          "execution_count": 23
        }
      ]
    },
    {
      "cell_type": "code",
      "source": [
        "pip install catboost"
      ],
      "metadata": {
        "id": "PjBxPMXNBqwD",
        "colab": {
          "base_uri": "https://localhost:8080/"
        },
        "outputId": "5acb7d17-9ab3-4929-f287-ec7abc95b29e"
      },
      "execution_count": null,
      "outputs": [
        {
          "output_type": "stream",
          "name": "stdout",
          "text": [
            "Requirement already satisfied: catboost in /usr/local/lib/python3.10/dist-packages (1.2.2)\n",
            "Requirement already satisfied: graphviz in /usr/local/lib/python3.10/dist-packages (from catboost) (0.20.1)\n",
            "Requirement already satisfied: matplotlib in /usr/local/lib/python3.10/dist-packages (from catboost) (3.7.1)\n",
            "Requirement already satisfied: numpy>=1.16.0 in /usr/local/lib/python3.10/dist-packages (from catboost) (1.23.5)\n",
            "Requirement already satisfied: pandas>=0.24 in /usr/local/lib/python3.10/dist-packages (from catboost) (1.5.3)\n",
            "Requirement already satisfied: scipy in /usr/local/lib/python3.10/dist-packages (from catboost) (1.11.4)\n",
            "Requirement already satisfied: plotly in /usr/local/lib/python3.10/dist-packages (from catboost) (5.15.0)\n",
            "Requirement already satisfied: six in /usr/local/lib/python3.10/dist-packages (from catboost) (1.16.0)\n",
            "Requirement already satisfied: python-dateutil>=2.8.1 in /usr/local/lib/python3.10/dist-packages (from pandas>=0.24->catboost) (2.8.2)\n",
            "Requirement already satisfied: pytz>=2020.1 in /usr/local/lib/python3.10/dist-packages (from pandas>=0.24->catboost) (2023.3.post1)\n",
            "Requirement already satisfied: contourpy>=1.0.1 in /usr/local/lib/python3.10/dist-packages (from matplotlib->catboost) (1.2.0)\n",
            "Requirement already satisfied: cycler>=0.10 in /usr/local/lib/python3.10/dist-packages (from matplotlib->catboost) (0.12.1)\n",
            "Requirement already satisfied: fonttools>=4.22.0 in /usr/local/lib/python3.10/dist-packages (from matplotlib->catboost) (4.47.2)\n",
            "Requirement already satisfied: kiwisolver>=1.0.1 in /usr/local/lib/python3.10/dist-packages (from matplotlib->catboost) (1.4.5)\n",
            "Requirement already satisfied: packaging>=20.0 in /usr/local/lib/python3.10/dist-packages (from matplotlib->catboost) (23.2)\n",
            "Requirement already satisfied: pillow>=6.2.0 in /usr/local/lib/python3.10/dist-packages (from matplotlib->catboost) (9.4.0)\n",
            "Requirement already satisfied: pyparsing>=2.3.1 in /usr/local/lib/python3.10/dist-packages (from matplotlib->catboost) (3.1.1)\n",
            "Requirement already satisfied: tenacity>=6.2.0 in /usr/local/lib/python3.10/dist-packages (from plotly->catboost) (8.2.3)\n"
          ]
        }
      ]
    },
    {
      "cell_type": "code",
      "source": [
        "from catboost import *"
      ],
      "metadata": {
        "id": "6wRqvwxlBsWl"
      },
      "execution_count": null,
      "outputs": []
    },
    {
      "cell_type": "code",
      "source": [
        "from sklearn.preprocessing import FunctionTransformer\n",
        "from sklearn.pipeline import make_pipeline"
      ],
      "metadata": {
        "id": "8PMZ6RjhUY8b"
      },
      "execution_count": null,
      "outputs": []
    },
    {
      "cell_type": "code",
      "source": [
        "from google.colab import drive\n",
        "drive.mount('/content/drive')"
      ],
      "metadata": {
        "id": "hti7k9SRBtuy"
      },
      "execution_count": null,
      "outputs": []
    },
    {
      "cell_type": "code",
      "source": [
        "df = pd.read_csv('/content/drive/MyDrive/cleaned_data_final3.csv')"
      ],
      "metadata": {
        "id": "xH1-Ili4Bv7C"
      },
      "execution_count": null,
      "outputs": []
    },
    {
      "cell_type": "code",
      "source": [
        "df = df[['mean_salary_all', 'prof_name', 'name','schedule', 'experience_rus','employment', 'city', 'key_skills', 'description']]"
      ],
      "metadata": {
        "id": "_0tx8fqHB_of"
      },
      "execution_count": null,
      "outputs": []
    },
    {
      "cell_type": "code",
      "source": [
        "class PreprocessData:\n",
        "    def __init__ (self, data, y, stem_method=Mystem()):\n",
        "        \"\"\"Clean data and preprocess text\"\"\"\n",
        "        self.data = data\n",
        "        self.y = y\n",
        "        self.mystem = stem_method\n",
        "        # self.show_stats = show_stats\n",
        "\n",
        "    def fill_nans(self):\n",
        "        self.data[y] = self.data[y].fillna(0)\n",
        "        for col in self.data.select_dtypes(['object']).columns:\n",
        "            self.data[col] = self.data[col].fillna('')\n",
        "\n",
        "    def drop_duplicates(self):\n",
        "        self.data = self.data.drop_duplicates(subset=['description'])\n",
        "\n",
        "    def clean_and_lemmatize(self, text):\n",
        "        # clean punctuation and stop words\n",
        "        text = text.lower()\n",
        "        words = re.findall(r'\\b\\w+\\b', text)\n",
        "        stop_words = set(stopwords.words('russian'))\n",
        "        words = [w for w in words if w not in stop_words]\n",
        "        # clean_text = ' '.join(words)\n",
        "\n",
        "        # lemmatize\n",
        "        # words = text.split()\n",
        "        lemmas = [self.mystem.lemmatize(word)[0] for word in words]\n",
        "        lemmatized_text = ' '.join(lemmas)\n",
        "        return lemmatized_text\n",
        "\n",
        "    def get_cleaned_data(self):\n",
        "        self.drop_duplicates()\n",
        "        self.fill_nans()\n",
        "        self.data['descr_clean'] = self.data['description'].progress_apply(self.clean_and_lemmatize)\n",
        "        return self.data.reset_index(drop=True)\n",
        "\n",
        "    def get_stats(self, cat_features):\n",
        "        print(self.data.info(), '\\n')\n",
        "        print(\"Numerical features' analysis\")\n",
        "        plt.figure()\n",
        "        self.data[self.y].hist(bins=30)\n",
        "        plt.title(f'{self.y} distribution')\n",
        "        plt.show;\n",
        "        display(self.data.describe().T)\n",
        "\n",
        "        print('\\n', \"Categorical features' analysis\")\n",
        "        display(self.data.describe(include=object).T)\n",
        "        for col in cat_features:\n",
        "            plt.figure()\n",
        "            self.data[col].value_counts().head(10).plot(kind='barh', color='pink')\n",
        "            plt.title(f'{col} frequency')\n",
        "            plt.show();"
      ],
      "metadata": {
        "id": "gEmjx26CBzw3"
      },
      "execution_count": null,
      "outputs": []
    },
    {
      "cell_type": "code",
      "source": [
        "y = 'mean_salary_all'\n",
        "cat_features = ['prof_name', 'city', 'schedule', 'employment', 'experience_rus']\n",
        "text_features = ['key_skills', 'descr_clean', 'name']"
      ],
      "metadata": {
        "id": "EdjislGpB8dV"
      },
      "execution_count": null,
      "outputs": []
    },
    {
      "cell_type": "code",
      "source": [
        "data_processed = PreprocessData(df, y)\n",
        "df = data_processed.get_cleaned_data()"
      ],
      "metadata": {
        "id": "a7WSNZEgB6bk"
      },
      "execution_count": null,
      "outputs": []
    },
    {
      "cell_type": "code",
      "source": [
        "df['key_skills'] = df['key_skills'].str.lower()\n",
        "df['name'] = df['name'].str.lower()"
      ],
      "metadata": {
        "id": "mSqH-oQ8ljVp"
      },
      "execution_count": null,
      "outputs": []
    },
    {
      "cell_type": "markdown",
      "source": [
        "**Baseline (predicting with mean and median value)**"
      ],
      "metadata": {
        "id": "2cjCrr1-FvTy"
      }
    },
    {
      "cell_type": "code",
      "source": [
        "mean_value = df['mean_salary_all'].mean()\n",
        "median_value = df['mean_salary_all'].median()\n",
        "print('Mean value:', round(mean_value, 2))\n",
        "print('Median value:', median_value)"
      ],
      "metadata": {
        "id": "V33lrTPzFvCm",
        "colab": {
          "base_uri": "https://localhost:8080/"
        },
        "outputId": "80c73857-df15-443b-87cb-8d894697b8ef"
      },
      "execution_count": 18,
      "outputs": [
        {
          "output_type": "stream",
          "name": "stdout",
          "text": [
            "Mean value: 101851.68\n",
            "Median value: 85000.0\n"
          ]
        }
      ]
    },
    {
      "cell_type": "code",
      "source": [
        "mean_value_array = [mean_value] * len(df)\n",
        "median_value_array = [median_value] * len(df)"
      ],
      "metadata": {
        "id": "g7DoY-gUFu71"
      },
      "execution_count": 19,
      "outputs": []
    },
    {
      "cell_type": "code",
      "source": [
        "print('MAE with mean salary', round(mae(mean_value_array, df['mean_salary_all']), 2))\n",
        "print('MAE with median salary', round(mae(median_value_array, df['mean_salary_all']), 2))"
      ],
      "metadata": {
        "colab": {
          "base_uri": "https://localhost:8080/"
        },
        "id": "cPlrTnmlFu0A",
        "outputId": "cde2c4e3-017f-4839-ded5-a1576974df48"
      },
      "execution_count": 20,
      "outputs": [
        {
          "output_type": "stream",
          "name": "stdout",
          "text": [
            "MAE with mean salary 49560.26\n",
            "MAE with median salary 47684.21\n"
          ]
        }
      ]
    },
    {
      "cell_type": "markdown",
      "source": [
        "**Linear regression**"
      ],
      "metadata": {
        "id": "fjLb7ZquNbnU"
      }
    },
    {
      "cell_type": "code",
      "source": [
        "tfidf = TfidfVectorizer(max_features=5000)"
      ],
      "metadata": {
        "id": "Rr4ertc9OgBr"
      },
      "execution_count": 21,
      "outputs": []
    },
    {
      "cell_type": "code",
      "source": [
        "cat_features_new =  ['schedule', 'employment', 'experience_rus']"
      ],
      "metadata": {
        "id": "MA79REqjYFYL"
      },
      "execution_count": 22,
      "outputs": []
    },
    {
      "cell_type": "code",
      "source": [
        "one_hot_encoded1 = pd.get_dummies(df['schedule'])\n",
        "one_hot_encoded2 = pd.get_dummies(df['employment'])\n",
        "one_hot_encoded3 = pd.get_dummies(df['experience_rus'])\n",
        "\n",
        "m = pd.concat([one_hot_encoded1, one_hot_encoded2, one_hot_encoded3], axis=1)\n",
        "\n"
      ],
      "metadata": {
        "id": "QIRnp-vEiRpB"
      },
      "execution_count": 23,
      "outputs": []
    },
    {
      "cell_type": "code",
      "source": [
        "# df_new = pd.DataFrame()\n",
        "# for col in cat_features_new:\n",
        "#     dummies = pd.get_dummies(df[col], prefix=col)\n",
        "#     df_new = pd.concat([df, dummies, df_new], axis=1)\n",
        "\n",
        "# # df.drop(columns_list, axis=1, inplace=True)\n"
      ],
      "metadata": {
        "id": "l1DRFQsmYBaO"
      },
      "execution_count": null,
      "outputs": []
    },
    {
      "cell_type": "code",
      "source": [
        "# df_new = df_new.drop(cat_features_new + text_features + ['prof_name', 'city', 'mean_salary_all', 'description'], axis =1 )\n",
        "# df_new.info()"
      ],
      "metadata": {
        "id": "z5V91vcqYQM9"
      },
      "execution_count": null,
      "outputs": []
    },
    {
      "cell_type": "code",
      "source": [
        "stop_words = set(stopwords.words('russian'))\n",
        "lemmatizer = WordNetLemmatizer()\n",
        "\n",
        "def preprocess_text(text):\n",
        "    tokens = word_tokenize(text)\n",
        "    tokens = [token for token in tokens if token.lower() not in stop_words]\n",
        "    tokens = [lemmatizer.lemmatize(token) for token in tokens]\n",
        "    tokens = [token for token in tokens if token.isalnum()]\n",
        "    preprocessed_text = ' '.join(tokens)\n",
        "    return preprocessed_text\n",
        "\n",
        "df['key_skills'] = df['key_skills'].apply(preprocess_text)\n",
        "df['name'] = df['name'].apply(preprocess_text)\n",
        "df['descr_clean'] = df['descr_clean'].apply(preprocess_text)\n"
      ],
      "metadata": {
        "id": "qDB3SHIuXtaU"
      },
      "execution_count": 24,
      "outputs": []
    },
    {
      "cell_type": "code",
      "source": [
        "X_text_name =  tfidf.fit_transform(df['name'])\n",
        "X_text_skill =  tfidf.fit_transform(df['key_skills'])\n",
        "X_text_descr =  tfidf.fit_transform(df['descr_clean'])\n"
      ],
      "metadata": {
        "id": "pQX6L8odS-An"
      },
      "execution_count": 25,
      "outputs": []
    },
    {
      "cell_type": "code",
      "source": [
        "X = pd.concat([pd.DataFrame(pd.DataFrame(X_text_name.toarray()).mean(axis=1)), pd.DataFrame(pd.DataFrame(X_text_skill.toarray().mean(axis=1))), pd.DataFrame(pd.DataFrame(X_text_descr.toarray().mean(axis=1))), pd.DataFrame(m)], axis=1)"
      ],
      "metadata": {
        "id": "i_suovrVNfHk"
      },
      "execution_count": 26,
      "outputs": []
    },
    {
      "cell_type": "code",
      "source": [
        "for col in X.columns:\n",
        "    if str(col).isdigit():\n",
        "        X = X.rename(columns={col: f'col_{col}'})"
      ],
      "metadata": {
        "id": "CPMh6DVC8Nyj"
      },
      "execution_count": 27,
      "outputs": []
    },
    {
      "cell_type": "code",
      "source": [
        "X_train, X_test, y_train, y_test = train_test_split(X.reset_index().drop(columns ='index'), df[y], test_size=0.2, random_state=123)"
      ],
      "metadata": {
        "id": "7GmqOVjyZOqp"
      },
      "execution_count": 28,
      "outputs": []
    },
    {
      "cell_type": "code",
      "source": [
        "model_linear = LinearRegression()\n",
        "model_linear.fit(X_train, y_train)"
      ],
      "metadata": {
        "colab": {
          "base_uri": "https://localhost:8080/",
          "height": 74
        },
        "id": "yQICoC4fNfEM",
        "outputId": "fdffa859-6f07-45cf-bbe0-0ec0fde7c3af"
      },
      "execution_count": 29,
      "outputs": [
        {
          "output_type": "execute_result",
          "data": {
            "text/plain": [
              "LinearRegression()"
            ],
            "text/html": [
              "<style>#sk-container-id-1 {color: black;background-color: white;}#sk-container-id-1 pre{padding: 0;}#sk-container-id-1 div.sk-toggleable {background-color: white;}#sk-container-id-1 label.sk-toggleable__label {cursor: pointer;display: block;width: 100%;margin-bottom: 0;padding: 0.3em;box-sizing: border-box;text-align: center;}#sk-container-id-1 label.sk-toggleable__label-arrow:before {content: \"▸\";float: left;margin-right: 0.25em;color: #696969;}#sk-container-id-1 label.sk-toggleable__label-arrow:hover:before {color: black;}#sk-container-id-1 div.sk-estimator:hover label.sk-toggleable__label-arrow:before {color: black;}#sk-container-id-1 div.sk-toggleable__content {max-height: 0;max-width: 0;overflow: hidden;text-align: left;background-color: #f0f8ff;}#sk-container-id-1 div.sk-toggleable__content pre {margin: 0.2em;color: black;border-radius: 0.25em;background-color: #f0f8ff;}#sk-container-id-1 input.sk-toggleable__control:checked~div.sk-toggleable__content {max-height: 200px;max-width: 100%;overflow: auto;}#sk-container-id-1 input.sk-toggleable__control:checked~label.sk-toggleable__label-arrow:before {content: \"▾\";}#sk-container-id-1 div.sk-estimator input.sk-toggleable__control:checked~label.sk-toggleable__label {background-color: #d4ebff;}#sk-container-id-1 div.sk-label input.sk-toggleable__control:checked~label.sk-toggleable__label {background-color: #d4ebff;}#sk-container-id-1 input.sk-hidden--visually {border: 0;clip: rect(1px 1px 1px 1px);clip: rect(1px, 1px, 1px, 1px);height: 1px;margin: -1px;overflow: hidden;padding: 0;position: absolute;width: 1px;}#sk-container-id-1 div.sk-estimator {font-family: monospace;background-color: #f0f8ff;border: 1px dotted black;border-radius: 0.25em;box-sizing: border-box;margin-bottom: 0.5em;}#sk-container-id-1 div.sk-estimator:hover {background-color: #d4ebff;}#sk-container-id-1 div.sk-parallel-item::after {content: \"\";width: 100%;border-bottom: 1px solid gray;flex-grow: 1;}#sk-container-id-1 div.sk-label:hover label.sk-toggleable__label {background-color: #d4ebff;}#sk-container-id-1 div.sk-serial::before {content: \"\";position: absolute;border-left: 1px solid gray;box-sizing: border-box;top: 0;bottom: 0;left: 50%;z-index: 0;}#sk-container-id-1 div.sk-serial {display: flex;flex-direction: column;align-items: center;background-color: white;padding-right: 0.2em;padding-left: 0.2em;position: relative;}#sk-container-id-1 div.sk-item {position: relative;z-index: 1;}#sk-container-id-1 div.sk-parallel {display: flex;align-items: stretch;justify-content: center;background-color: white;position: relative;}#sk-container-id-1 div.sk-item::before, #sk-container-id-1 div.sk-parallel-item::before {content: \"\";position: absolute;border-left: 1px solid gray;box-sizing: border-box;top: 0;bottom: 0;left: 50%;z-index: -1;}#sk-container-id-1 div.sk-parallel-item {display: flex;flex-direction: column;z-index: 1;position: relative;background-color: white;}#sk-container-id-1 div.sk-parallel-item:first-child::after {align-self: flex-end;width: 50%;}#sk-container-id-1 div.sk-parallel-item:last-child::after {align-self: flex-start;width: 50%;}#sk-container-id-1 div.sk-parallel-item:only-child::after {width: 0;}#sk-container-id-1 div.sk-dashed-wrapped {border: 1px dashed gray;margin: 0 0.4em 0.5em 0.4em;box-sizing: border-box;padding-bottom: 0.4em;background-color: white;}#sk-container-id-1 div.sk-label label {font-family: monospace;font-weight: bold;display: inline-block;line-height: 1.2em;}#sk-container-id-1 div.sk-label-container {text-align: center;}#sk-container-id-1 div.sk-container {/* jupyter's `normalize.less` sets `[hidden] { display: none; }` but bootstrap.min.css set `[hidden] { display: none !important; }` so we also need the `!important` here to be able to override the default hidden behavior on the sphinx rendered scikit-learn.org. See: https://github.com/scikit-learn/scikit-learn/issues/21755 */display: inline-block !important;position: relative;}#sk-container-id-1 div.sk-text-repr-fallback {display: none;}</style><div id=\"sk-container-id-1\" class=\"sk-top-container\"><div class=\"sk-text-repr-fallback\"><pre>LinearRegression()</pre><b>In a Jupyter environment, please rerun this cell to show the HTML representation or trust the notebook. <br />On GitHub, the HTML representation is unable to render, please try loading this page with nbviewer.org.</b></div><div class=\"sk-container\" hidden><div class=\"sk-item\"><div class=\"sk-estimator sk-toggleable\"><input class=\"sk-toggleable__control sk-hidden--visually\" id=\"sk-estimator-id-1\" type=\"checkbox\" checked><label for=\"sk-estimator-id-1\" class=\"sk-toggleable__label sk-toggleable__label-arrow\">LinearRegression</label><div class=\"sk-toggleable__content\"><pre>LinearRegression()</pre></div></div></div></div></div>"
            ]
          },
          "metadata": {},
          "execution_count": 29
        }
      ]
    },
    {
      "cell_type": "code",
      "source": [
        "y_pred = model_linear.predict(X_test)\n",
        "\n",
        "MAE_linreg = mae(y_pred, y_test)\n",
        "r2_linreg = r2(y_test, y_pred)\n",
        "\n",
        "results = pd.DataFrame({\n",
        "    'Model': ['Linear Regression'],\n",
        "    'MAE': [round(MAE_linreg, 2)],\n",
        "    'R2': [round(r2_linreg, 2)]\n",
        "})\n",
        "\n",
        "styled_results = results.style.set_table_styles([{\n",
        "    'selector': 'th',\n",
        "    'props': [\n",
        "        ('border', '1px solid black'),\n",
        "        ('background-color', 'lightgrey'),\n",
        "        ('color', 'black'),\n",
        "        ('text-align', 'center')\n",
        "    ]\n",
        "}, {\n",
        "    'selector': 'td',\n",
        "    'props': [\n",
        "        ('border', '1px solid black'),\n",
        "        ('text-align', 'center'),\n",
        "        ('background-color', 'white'),\n",
        "        ('color', 'black')\n",
        "\n",
        "    ]\n",
        "}])\n",
        "\n",
        "display(styled_results)\n",
        "\n"
      ],
      "metadata": {
        "colab": {
          "base_uri": "https://localhost:8080/",
          "height": 82
        },
        "id": "5pz6aMZL3Qp0",
        "outputId": "d6dfb79a-7c30-4f87-e6ce-6d3d94b10685"
      },
      "execution_count": 30,
      "outputs": [
        {
          "output_type": "display_data",
          "data": {
            "text/plain": [
              "<pandas.io.formats.style.Styler at 0x7ddc7b9aa9b0>"
            ],
            "text/html": [
              "<style type=\"text/css\">\n",
              "#T_a284f th {\n",
              "  border: 1px solid black;\n",
              "  background-color: lightgrey;\n",
              "  color: black;\n",
              "  text-align: center;\n",
              "}\n",
              "#T_a284f td {\n",
              "  border: 1px solid black;\n",
              "  text-align: center;\n",
              "  background-color: white;\n",
              "  color: black;\n",
              "}\n",
              "</style>\n",
              "<table id=\"T_a284f\" class=\"dataframe\">\n",
              "  <thead>\n",
              "    <tr>\n",
              "      <th class=\"blank level0\" >&nbsp;</th>\n",
              "      <th id=\"T_a284f_level0_col0\" class=\"col_heading level0 col0\" >Model</th>\n",
              "      <th id=\"T_a284f_level0_col1\" class=\"col_heading level0 col1\" >MAE</th>\n",
              "      <th id=\"T_a284f_level0_col2\" class=\"col_heading level0 col2\" >R2</th>\n",
              "    </tr>\n",
              "  </thead>\n",
              "  <tbody>\n",
              "    <tr>\n",
              "      <th id=\"T_a284f_level0_row0\" class=\"row_heading level0 row0\" >0</th>\n",
              "      <td id=\"T_a284f_row0_col0\" class=\"data row0 col0\" >Linear Regression</td>\n",
              "      <td id=\"T_a284f_row0_col1\" class=\"data row0 col1\" >38688.600000</td>\n",
              "      <td id=\"T_a284f_row0_col2\" class=\"data row0 col2\" >0.340000</td>\n",
              "    </tr>\n",
              "  </tbody>\n",
              "</table>\n"
            ]
          },
          "metadata": {}
        }
      ]
    },
    {
      "cell_type": "code",
      "source": [
        "plt.scatter(y_test, model_linear.predict(X_test), alpha=0.5)\n",
        "plt.plot([0, 1], [0, 1], '--', transform=plt.gca().transAxes)\n",
        "plt.xlabel('True Values')\n",
        "plt.ylabel('Predictions')\n",
        "plt.show()"
      ],
      "metadata": {
        "colab": {
          "base_uri": "https://localhost:8080/",
          "height": 449
        },
        "id": "4vICsuP0o9wq",
        "outputId": "4e6aabe6-94c4-4f0b-94c8-d214e2650e2d"
      },
      "execution_count": 31,
      "outputs": [
        {
          "output_type": "display_data",
          "data": {
            "text/plain": [
              "<Figure size 640x480 with 1 Axes>"
            ],
            "image/png": "[encoded data removed]"
          },
          "metadata": {}
        }
      ]
    },
    {
      "cell_type": "markdown",
      "source": [
        "**Lasso regression**"
      ],
      "metadata": {
        "id": "GRUo2bNo7uHe"
      }
    },
    {
      "cell_type": "code",
      "source": [
        "from sklearn import linear_model"
      ],
      "metadata": {
        "id": "L5nIK69ylzed"
      },
      "execution_count": 32,
      "outputs": []
    },
    {
      "cell_type": "code",
      "source": [
        "clf = linear_model.Lasso()\n",
        "clf.fit(X_train, y_train)"
      ],
      "metadata": {
        "colab": {
          "base_uri": "https://localhost:8080/",
          "height": 74
        },
        "id": "9WbvNTgN70Ph",
        "outputId": "c15bac78-7196-40d5-972a-b9e6f05e3c43"
      },
      "execution_count": 33,
      "outputs": [
        {
          "output_type": "execute_result",
          "data": {
            "text/plain": [
              "Lasso()"
            ],
            "text/html": [
              "<style>#sk-container-id-2 {color: black;background-color: white;}#sk-container-id-2 pre{padding: 0;}#sk-container-id-2 div.sk-toggleable {background-color: white;}#sk-container-id-2 label.sk-toggleable__label {cursor: pointer;display: block;width: 100%;margin-bottom: 0;padding: 0.3em;box-sizing: border-box;text-align: center;}#sk-container-id-2 label.sk-toggleable__label-arrow:before {content: \"▸\";float: left;margin-right: 0.25em;color: #696969;}#sk-container-id-2 label.sk-toggleable__label-arrow:hover:before {color: black;}#sk-container-id-2 div.sk-estimator:hover label.sk-toggleable__label-arrow:before {color: black;}#sk-container-id-2 div.sk-toggleable__content {max-height: 0;max-width: 0;overflow: hidden;text-align: left;background-color: #f0f8ff;}#sk-container-id-2 div.sk-toggleable__content pre {margin: 0.2em;color: black;border-radius: 0.25em;background-color: #f0f8ff;}#sk-container-id-2 input.sk-toggleable__control:checked~div.sk-toggleable__content {max-height: 200px;max-width: 100%;overflow: auto;}#sk-container-id-2 input.sk-toggleable__control:checked~label.sk-toggleable__label-arrow:before {content: \"▾\";}#sk-container-id-2 div.sk-estimator input.sk-toggleable__control:checked~label.sk-toggleable__label {background-color: #d4ebff;}#sk-container-id-2 div.sk-label input.sk-toggleable__control:checked~label.sk-toggleable__label {background-color: #d4ebff;}#sk-container-id-2 input.sk-hidden--visually {border: 0;clip: rect(1px 1px 1px 1px);clip: rect(1px, 1px, 1px, 1px);height: 1px;margin: -1px;overflow: hidden;padding: 0;position: absolute;width: 1px;}#sk-container-id-2 div.sk-estimator {font-family: monospace;background-color: #f0f8ff;border: 1px dotted black;border-radius: 0.25em;box-sizing: border-box;margin-bottom: 0.5em;}#sk-container-id-2 div.sk-estimator:hover {background-color: #d4ebff;}#sk-container-id-2 div.sk-parallel-item::after {content: \"\";width: 100%;border-bottom: 1px solid gray;flex-grow: 1;}#sk-container-id-2 div.sk-label:hover label.sk-toggleable__label {background-color: #d4ebff;}#sk-container-id-2 div.sk-serial::before {content: \"\";position: absolute;border-left: 1px solid gray;box-sizing: border-box;top: 0;bottom: 0;left: 50%;z-index: 0;}#sk-container-id-2 div.sk-serial {display: flex;flex-direction: column;align-items: center;background-color: white;padding-right: 0.2em;padding-left: 0.2em;position: relative;}#sk-container-id-2 div.sk-item {position: relative;z-index: 1;}#sk-container-id-2 div.sk-parallel {display: flex;align-items: stretch;justify-content: center;background-color: white;position: relative;}#sk-container-id-2 div.sk-item::before, #sk-container-id-2 div.sk-parallel-item::before {content: \"\";position: absolute;border-left: 1px solid gray;box-sizing: border-box;top: 0;bottom: 0;left: 50%;z-index: -1;}#sk-container-id-2 div.sk-parallel-item {display: flex;flex-direction: column;z-index: 1;position: relative;background-color: white;}#sk-container-id-2 div.sk-parallel-item:first-child::after {align-self: flex-end;width: 50%;}#sk-container-id-2 div.sk-parallel-item:last-child::after {align-self: flex-start;width: 50%;}#sk-container-id-2 div.sk-parallel-item:only-child::after {width: 0;}#sk-container-id-2 div.sk-dashed-wrapped {border: 1px dashed gray;margin: 0 0.4em 0.5em 0.4em;box-sizing: border-box;padding-bottom: 0.4em;background-color: white;}#sk-container-id-2 div.sk-label label {font-family: monospace;font-weight: bold;display: inline-block;line-height: 1.2em;}#sk-container-id-2 div.sk-label-container {text-align: center;}#sk-container-id-2 div.sk-container {/* jupyter's `normalize.less` sets `[hidden] { display: none; }` but bootstrap.min.css set `[hidden] { display: none !important; }` so we also need the `!important` here to be able to override the default hidden behavior on the sphinx rendered scikit-learn.org. See: https://github.com/scikit-learn/scikit-learn/issues/21755 */display: inline-block !important;position: relative;}#sk-container-id-2 div.sk-text-repr-fallback {display: none;}</style><div id=\"sk-container-id-2\" class=\"sk-top-container\"><div class=\"sk-text-repr-fallback\"><pre>Lasso()</pre><b>In a Jupyter environment, please rerun this cell to show the HTML representation or trust the notebook. <br />On GitHub, the HTML representation is unable to render, please try loading this page with nbviewer.org.</b></div><div class=\"sk-container\" hidden><div class=\"sk-item\"><div class=\"sk-estimator sk-toggleable\"><input class=\"sk-toggleable__control sk-hidden--visually\" id=\"sk-estimator-id-2\" type=\"checkbox\" checked><label for=\"sk-estimator-id-2\" class=\"sk-toggleable__label sk-toggleable__label-arrow\">Lasso</label><div class=\"sk-toggleable__content\"><pre>Lasso()</pre></div></div></div></div></div>"
            ]
          },
          "metadata": {},
          "execution_count": 33
        }
      ]
    },
    {
      "cell_type": "code",
      "source": [
        "y_pred = clf.predict(X_test)\n",
        "\n",
        "MAE_ridge = mae(y_pred, y_test)\n",
        "r2_ridge = r2(y_test, y_pred)\n",
        "print('MAE with Ridge', round(MAE_ridge, 2))\n",
        "print('R2 with Ridge', round(r2_ridge, 2))"
      ],
      "metadata": {
        "colab": {
          "base_uri": "https://localhost:8080/"
        },
        "id": "mQX-6UIT75Wt",
        "outputId": "642f91b2-c79f-4bcb-b328-9e7f216b55a5"
      },
      "execution_count": 34,
      "outputs": [
        {
          "output_type": "stream",
          "name": "stdout",
          "text": [
            "MAE with Ridge 38772.98\n",
            "R2 with Ridge 0.33\n"
          ]
        }
      ]
    },
    {
      "cell_type": "markdown",
      "source": [
        "**Random Forest + TF-IDF**"
      ],
      "metadata": {
        "id": "2O_Yov4xNBUf"
      }
    },
    {
      "cell_type": "code",
      "source": [
        "df = pd.read_csv('/content/drive/MyDrive/cleaned_data_final3.csv')\n",
        "df = df[['mean_salary_all', 'prof_name', 'name','schedule', 'experience_rus','employment', 'city', 'key_skills', 'description']]\n",
        "df = data_processed.get_cleaned_data()\n",
        "df['key_skills'] = df['key_skills'].str.lower()\n",
        "df['name'] = df['name'].str.lower()"
      ],
      "metadata": {
        "colab": {
          "base_uri": "https://localhost:8080/",
          "height": 49,
          "referenced_widgets": [
            "91605fa9774b49a498fa3a896cd4fdae",
            "836a6290e0904922a1d3b09cd375bb50",
            "2c9be6f0dba74232a6341bb81b07895e",
            "5973052f84db4f148b7b7ae4cf4a0e09",
            "e472c9569cdb47b6ae2fea80f193f998",
            "d07ec601b607475fbf6b06e91e320085",
            "2c1764db714042b881e4e844edd4fe7b",
            "dec907b0960d40c8b44e2c6001e0163c",
            "959221bafea04a74bed2b0258b8e03bb",
            "e48aa484d1904e9784b139dab6095598",
            "9db607ca34894fbfad252d9e969e42d4"
          ]
        },
        "id": "PGhNhfxR7EoS",
        "outputId": "04ffa459-98dc-4f3c-f5e3-58e36091e6d6"
      },
      "execution_count": 35,
      "outputs": [
        {
          "output_type": "display_data",
          "data": {
            "text/plain": [
              "  0%|          | 0/14516 [00:00<?, ?it/s]"
            ],
            "application/vnd.jupyter.widget-view+json": {
              "version_major": 2,
              "version_minor": 0,
              "model_id": "91605fa9774b49a498fa3a896cd4fdae"
            }
          },
          "metadata": {}
        }
      ]
    },
    {
      "cell_type": "code",
      "source": [
        "encoder = LabelEncoder()\n",
        "\n",
        "def label_encoder_for_columns(df, columns):\n",
        "\n",
        "  for col in columns:\n",
        "    df[col] = encoder.fit_transform(df[col])\n",
        "\n",
        "  return df\n",
        "X_cat = label_encoder_for_columns(df, cat_features)[cat_features]"
      ],
      "metadata": {
        "id": "Efq7xbQpsHS6"
      },
      "execution_count": 36,
      "outputs": []
    },
    {
      "cell_type": "code",
      "source": [
        "X = pd.concat([pd.DataFrame(pd.DataFrame(X_text_name.toarray()).mean(axis=1)), pd.DataFrame(pd.DataFrame(X_text_skill.toarray().mean(axis=1))), pd.DataFrame(pd.DataFrame(X_text_descr.toarray().mean(axis=1))), pd.DataFrame(X_cat)], axis=1)\n"
      ],
      "metadata": {
        "id": "WYjnRCwisdkT"
      },
      "execution_count": 37,
      "outputs": []
    },
    {
      "cell_type": "code",
      "source": [
        "for col in X.columns:\n",
        "    if str(col).isdigit():\n",
        "        X = X.rename(columns={col: f'col_{col}'})\n",
        "X_train, X_test, y_train, y_test = train_test_split(X.reset_index().drop(columns ='index'), df[y], test_size=0.2, random_state=123)"
      ],
      "metadata": {
        "id": "jvAGPYKxss51"
      },
      "execution_count": 38,
      "outputs": []
    },
    {
      "cell_type": "code",
      "source": [
        "def parameters(prm):\n",
        "  params = {\n",
        "         'n_estimators': prm.suggest_int('n_estimators', 100, 200, 50),\n",
        "         'max_depth': prm.suggest_int('max_depth', 5, 15, 5),\n",
        "         }\n",
        "\n",
        "  model_RF = RandomForestRegressor(**params, random_state=123)\n",
        "  model_RF.fit(X_train, y_train)\n",
        "  score = model_RF.score(X_test, y_test)\n",
        "\n",
        "  return score"
      ],
      "metadata": {
        "id": "f4pPQ0wrjqqP"
      },
      "execution_count": 39,
      "outputs": []
    },
    {
      "cell_type": "code",
      "source": [
        "study = optuna.create_study(direction='maximize')\n",
        "study.optimize(parameters, n_trials=10, timeout=60)\n",
        "\n",
        "best_params = study.best_params\n",
        "best_model_RF = RandomForestRegressor(**best_params, random_state=123)"
      ],
      "metadata": {
        "colab": {
          "base_uri": "https://localhost:8080/"
        },
        "id": "7etMMJrvNLxT",
        "outputId": "5e6bfc90-58b8-458b-e253-f254bbf331ca"
      },
      "execution_count": 40,
      "outputs": [
        {
          "output_type": "stream",
          "name": "stderr",
          "text": [
            "[I 2024-01-31 20:15:07,432] A new study created in memory with name: no-name-0d0fda95-64cc-4b1e-9384-02afb0b60ec6\n",
            "[I 2024-01-31 20:15:10,662] Trial 0 finished with value: 0.4415280610474991 and parameters: {'n_estimators': 200, 'max_depth': 5}. Best is trial 0 with value: 0.4415280610474991.\n",
            "[I 2024-01-31 20:15:13,802] Trial 1 finished with value: 0.5250090760271581 and parameters: {'n_estimators': 100, 'max_depth': 10}. Best is trial 1 with value: 0.5250090760271581.\n",
            "[I 2024-01-31 20:15:17,576] Trial 2 finished with value: 0.5250090760271581 and parameters: {'n_estimators': 100, 'max_depth': 10}. Best is trial 1 with value: 0.5250090760271581.\n",
            "[I 2024-01-31 20:15:25,235] Trial 3 finished with value: 0.5286381734303963 and parameters: {'n_estimators': 200, 'max_depth': 15}. Best is trial 3 with value: 0.5286381734303963.\n",
            "[I 2024-01-31 20:15:32,330] Trial 4 finished with value: 0.5285786379928505 and parameters: {'n_estimators': 150, 'max_depth': 15}. Best is trial 3 with value: 0.5286381734303963.\n",
            "[I 2024-01-31 20:15:35,052] Trial 5 finished with value: 0.5250090760271581 and parameters: {'n_estimators': 100, 'max_depth': 10}. Best is trial 3 with value: 0.5286381734303963.\n",
            "[I 2024-01-31 20:15:36,589] Trial 6 finished with value: 0.44204623045357094 and parameters: {'n_estimators': 100, 'max_depth': 5}. Best is trial 3 with value: 0.5286381734303963.\n",
            "[I 2024-01-31 20:15:40,365] Trial 7 finished with value: 0.5279455144757399 and parameters: {'n_estimators': 100, 'max_depth': 15}. Best is trial 3 with value: 0.5286381734303963.\n",
            "[I 2024-01-31 20:15:44,276] Trial 8 finished with value: 0.5250090760271581 and parameters: {'n_estimators': 100, 'max_depth': 10}. Best is trial 3 with value: 0.5286381734303963.\n",
            "[I 2024-01-31 20:15:47,938] Trial 9 finished with value: 0.44156144482080273 and parameters: {'n_estimators': 150, 'max_depth': 5}. Best is trial 3 with value: 0.5286381734303963.\n"
          ]
        }
      ]
    },
    {
      "cell_type": "code",
      "source": [
        "best_model_RF.fit(X_train, y_train)"
      ],
      "metadata": {
        "colab": {
          "base_uri": "https://localhost:8080/",
          "height": 74
        },
        "id": "FqCMb41rkQKB",
        "outputId": "3a21f920-1998-4e37-9436-7fc8259ac4a3"
      },
      "execution_count": 41,
      "outputs": [
        {
          "output_type": "execute_result",
          "data": {
            "text/plain": [
              "RandomForestRegressor(max_depth=15, n_estimators=200, random_state=123)"
            ],
            "text/html": [
              "<style>#sk-container-id-3 {color: black;background-color: white;}#sk-container-id-3 pre{padding: 0;}#sk-container-id-3 div.sk-toggleable {background-color: white;}#sk-container-id-3 label.sk-toggleable__label {cursor: pointer;display: block;width: 100%;margin-bottom: 0;padding: 0.3em;box-sizing: border-box;text-align: center;}#sk-container-id-3 label.sk-toggleable__label-arrow:before {content: \"▸\";float: left;margin-right: 0.25em;color: #696969;}#sk-container-id-3 label.sk-toggleable__label-arrow:hover:before {color: black;}#sk-container-id-3 div.sk-estimator:hover label.sk-toggleable__label-arrow:before {color: black;}#sk-container-id-3 div.sk-toggleable__content {max-height: 0;max-width: 0;overflow: hidden;text-align: left;background-color: #f0f8ff;}#sk-container-id-3 div.sk-toggleable__content pre {margin: 0.2em;color: black;border-radius: 0.25em;background-color: #f0f8ff;}#sk-container-id-3 input.sk-toggleable__control:checked~div.sk-toggleable__content {max-height: 200px;max-width: 100%;overflow: auto;}#sk-container-id-3 input.sk-toggleable__control:checked~label.sk-toggleable__label-arrow:before {content: \"▾\";}#sk-container-id-3 div.sk-estimator input.sk-toggleable__control:checked~label.sk-toggleable__label {background-color: #d4ebff;}#sk-container-id-3 div.sk-label input.sk-toggleable__control:checked~label.sk-toggleable__label {background-color: #d4ebff;}#sk-container-id-3 input.sk-hidden--visually {border: 0;clip: rect(1px 1px 1px 1px);clip: rect(1px, 1px, 1px, 1px);height: 1px;margin: -1px;overflow: hidden;padding: 0;position: absolute;width: 1px;}#sk-container-id-3 div.sk-estimator {font-family: monospace;background-color: #f0f8ff;border: 1px dotted black;border-radius: 0.25em;box-sizing: border-box;margin-bottom: 0.5em;}#sk-container-id-3 div.sk-estimator:hover {background-color: #d4ebff;}#sk-container-id-3 div.sk-parallel-item::after {content: \"\";width: 100%;border-bottom: 1px solid gray;flex-grow: 1;}#sk-container-id-3 div.sk-label:hover label.sk-toggleable__label {background-color: #d4ebff;}#sk-container-id-3 div.sk-serial::before {content: \"\";position: absolute;border-left: 1px solid gray;box-sizing: border-box;top: 0;bottom: 0;left: 50%;z-index: 0;}#sk-container-id-3 div.sk-serial {display: flex;flex-direction: column;align-items: center;background-color: white;padding-right: 0.2em;padding-left: 0.2em;position: relative;}#sk-container-id-3 div.sk-item {position: relative;z-index: 1;}#sk-container-id-3 div.sk-parallel {display: flex;align-items: stretch;justify-content: center;background-color: white;position: relative;}#sk-container-id-3 div.sk-item::before, #sk-container-id-3 div.sk-parallel-item::before {content: \"\";position: absolute;border-left: 1px solid gray;box-sizing: border-box;top: 0;bottom: 0;left: 50%;z-index: -1;}#sk-container-id-3 div.sk-parallel-item {display: flex;flex-direction: column;z-index: 1;position: relative;background-color: white;}#sk-container-id-3 div.sk-parallel-item:first-child::after {align-self: flex-end;width: 50%;}#sk-container-id-3 div.sk-parallel-item:last-child::after {align-self: flex-start;width: 50%;}#sk-container-id-3 div.sk-parallel-item:only-child::after {width: 0;}#sk-container-id-3 div.sk-dashed-wrapped {border: 1px dashed gray;margin: 0 0.4em 0.5em 0.4em;box-sizing: border-box;padding-bottom: 0.4em;background-color: white;}#sk-container-id-3 div.sk-label label {font-family: monospace;font-weight: bold;display: inline-block;line-height: 1.2em;}#sk-container-id-3 div.sk-label-container {text-align: center;}#sk-container-id-3 div.sk-container {/* jupyter's `normalize.less` sets `[hidden] { display: none; }` but bootstrap.min.css set `[hidden] { display: none !important; }` so we also need the `!important` here to be able to override the default hidden behavior on the sphinx rendered scikit-learn.org. See: https://github.com/scikit-learn/scikit-learn/issues/21755 */display: inline-block !important;position: relative;}#sk-container-id-3 div.sk-text-repr-fallback {display: none;}</style><div id=\"sk-container-id-3\" class=\"sk-top-container\"><div class=\"sk-text-repr-fallback\"><pre>RandomForestRegressor(max_depth=15, n_estimators=200, random_state=123)</pre><b>In a Jupyter environment, please rerun this cell to show the HTML representation or trust the notebook. <br />On GitHub, the HTML representation is unable to render, please try loading this page with nbviewer.org.</b></div><div class=\"sk-container\" hidden><div class=\"sk-item\"><div class=\"sk-estimator sk-toggleable\"><input class=\"sk-toggleable__control sk-hidden--visually\" id=\"sk-estimator-id-3\" type=\"checkbox\" checked><label for=\"sk-estimator-id-3\" class=\"sk-toggleable__label sk-toggleable__label-arrow\">RandomForestRegressor</label><div class=\"sk-toggleable__content\"><pre>RandomForestRegressor(max_depth=15, n_estimators=200, random_state=123)</pre></div></div></div></div></div>"
            ]
          },
          "metadata": {},
          "execution_count": 41
        }
      ]
    },
    {
      "cell_type": "code",
      "source": [
        "y_pred = best_model_RF.predict(X_test)\n",
        "\n",
        "MAE_RF= mae(y_pred, y_test)\n",
        "r2_RF = r2(y_test, y_pred)\n",
        "print('MAE with Random Forest', round(MAE_RF, 2))\n",
        "print('R2 with Random Forest', round(r2_RF, 2))"
      ],
      "metadata": {
        "colab": {
          "base_uri": "https://localhost:8080/"
        },
        "id": "C89CeSuYNLuw",
        "outputId": "7bb35bdc-c957-419e-d4e3-045ca2625523"
      },
      "execution_count": 43,
      "outputs": [
        {
          "output_type": "stream",
          "name": "stdout",
          "text": [
            "MAE with Random Forest 31307.22\n",
            "R2 with Random Forest 0.53\n"
          ]
        }
      ]
    },
    {
      "cell_type": "code",
      "source": [
        "y_pred = best_model_RF.predict(X_test)\n",
        "\n",
        "MAE_RF= mae(y_pred, y_test)\n",
        "r2_RF = r2(y_test, y_pred)\n",
        "\n",
        "results = pd.DataFrame({\n",
        "    'Model': ['Random Forest'],\n",
        "    'MAE': [round(MAE_RF, 2)],\n",
        "    'R2': [round(r2_RF, 2)]\n",
        "})\n",
        "\n",
        "styled_results = results.style.set_table_styles([{\n",
        "    'selector': 'th',\n",
        "    'props': [\n",
        "        ('border', '1px solid black'),\n",
        "        ('background-color', 'lightgrey'),\n",
        "        ('color', 'black'),\n",
        "        ('text-align', 'center')\n",
        "    ]\n",
        "}, {\n",
        "    'selector': 'td',\n",
        "    'props': [\n",
        "        ('border', '1px solid black'),\n",
        "        ('text-align', 'center'),\n",
        "        ('background-color', 'white'),\n",
        "        ('color', 'black')\n",
        "\n",
        "    ]\n",
        "}])\n",
        "\n",
        "display(styled_results)\n",
        "\n"
      ],
      "metadata": {
        "colab": {
          "base_uri": "https://localhost:8080/",
          "height": 82
        },
        "id": "xrGGOaC0-7uh",
        "outputId": "a8759c5c-2bcf-4159-d671-16187c337947"
      },
      "execution_count": 44,
      "outputs": [
        {
          "output_type": "display_data",
          "data": {
            "text/plain": [
              "<pandas.io.formats.style.Styler at 0x7ddd1b879720>"
            ],
            "text/html": [
              "<style type=\"text/css\">\n",
              "#T_9ae8d th {\n",
              "  border: 1px solid black;\n",
              "  background-color: lightgrey;\n",
              "  color: black;\n",
              "  text-align: center;\n",
              "}\n",
              "#T_9ae8d td {\n",
              "  border: 1px solid black;\n",
              "  text-align: center;\n",
              "  background-color: white;\n",
              "  color: black;\n",
              "}\n",
              "</style>\n",
              "<table id=\"T_9ae8d\" class=\"dataframe\">\n",
              "  <thead>\n",
              "    <tr>\n",
              "      <th class=\"blank level0\" >&nbsp;</th>\n",
              "      <th id=\"T_9ae8d_level0_col0\" class=\"col_heading level0 col0\" >Model</th>\n",
              "      <th id=\"T_9ae8d_level0_col1\" class=\"col_heading level0 col1\" >MAE</th>\n",
              "      <th id=\"T_9ae8d_level0_col2\" class=\"col_heading level0 col2\" >R2</th>\n",
              "    </tr>\n",
              "  </thead>\n",
              "  <tbody>\n",
              "    <tr>\n",
              "      <th id=\"T_9ae8d_level0_row0\" class=\"row_heading level0 row0\" >0</th>\n",
              "      <td id=\"T_9ae8d_row0_col0\" class=\"data row0 col0\" >Random Forest</td>\n",
              "      <td id=\"T_9ae8d_row0_col1\" class=\"data row0 col1\" >31307.220000</td>\n",
              "      <td id=\"T_9ae8d_row0_col2\" class=\"data row0 col2\" >0.530000</td>\n",
              "    </tr>\n",
              "  </tbody>\n",
              "</table>\n"
            ]
          },
          "metadata": {}
        }
      ]
    },
    {
      "cell_type": "markdown",
      "source": [
        "**Catboost with categorical features (professional role, city, schedule, employment, experience) and text features (description, job title, key skills)**"
      ],
      "metadata": {
        "id": "qPiI72OhCs9f"
      }
    },
    {
      "cell_type": "code",
      "source": [
        "df = pd.read_csv('/content/drive/MyDrive/cleaned_data_final3.csv')\n",
        "df = df[['mean_salary_all', 'prof_name', 'name','schedule', 'experience_rus','employment', 'city', 'key_skills', 'description']]\n",
        "df = data_processed.get_cleaned_data()\n",
        "df['key_skills'] = df['key_skills'].str.lower()\n",
        "df['name'] = df['name'].str.lower()"
      ],
      "metadata": {
        "colab": {
          "base_uri": "https://localhost:8080/",
          "height": 49,
          "referenced_widgets": [
            "243a0b2210fd4e75ae4d7d6a490da945",
            "29be5d834bae41df889a30cd39e1d2fd",
            "006e3c96a1474a9a95e05a53b8dd9cb7",
            "0fc7e0260bfe4878ac7d795e44211dd0",
            "cef7c9f69cd540678cdb525de3f0091a",
            "b371ccdaee044edebc681c09f840039b",
            "de0b502907ee4aa4ae1279a83b52ee45",
            "4297a43e16c345d1915d5066018b7e74",
            "d2608968c5304bfdbf244a171436ba75",
            "90ed5c913f414234872287bc50c6f30d",
            "9841a8f751ba4b0cb4ff909ec729ba92"
          ]
        },
        "id": "WY66dPRWx_dP",
        "outputId": "c1f6dc7b-b6ad-47a5-bcb0-4dd46eef9eb1"
      },
      "execution_count": null,
      "outputs": [
        {
          "output_type": "display_data",
          "data": {
            "text/plain": [
              "  0%|          | 0/14516 [00:00<?, ?it/s]"
            ],
            "application/vnd.jupyter.widget-view+json": {
              "version_major": 2,
              "version_minor": 0,
              "model_id": "243a0b2210fd4e75ae4d7d6a490da945"
            }
          },
          "metadata": {}
        }
      ]
    },
    {
      "cell_type": "code",
      "source": [
        "X_train, X_test, y_train, y_test = train_test_split(df[cat_features + text_features], df[y], test_size=0.2, random_state=123)"
      ],
      "metadata": {
        "id": "lTzdl6TVCEng"
      },
      "execution_count": 45,
      "outputs": []
    },
    {
      "cell_type": "code",
      "source": [
        "def parameters(prm):\n",
        "  params = {\n",
        "         'n_estimators': prm.suggest_int('n_estimators', 100, 200, 50),\n",
        "         'max_depth': prm.suggest_int('max_depth', 5, 15, 5),\n",
        "         }\n",
        "\n",
        "  model = CatBoostRegressor(**params, random_state=123, task_type='GPU')\n",
        "  model.fit(X_train, y_train, cat_features=cat_features, text_features=['key_skills', 'descr_clean', 'name'], verbose=100)\n",
        "  score = model.score(X_test, y_test)\n",
        "\n",
        "  return score"
      ],
      "metadata": {
        "id": "JNOHdHEFD5QC"
      },
      "execution_count": 47,
      "outputs": []
    },
    {
      "cell_type": "code",
      "source": [
        "study = optuna.create_study(direction='maximize')\n",
        "study.optimize(parameters, n_trials=5, timeout=60)\n",
        "\n",
        "best_params = study.best_params\n",
        "best_model = CatBoostRegressor(**best_params, random_state=123, task_type='GPU')"
      ],
      "metadata": {
        "colab": {
          "base_uri": "https://localhost:8080/"
        },
        "id": "Jf832LteFtpS",
        "outputId": "6467eaf5-a7f3-40a2-92d9-97164bce16ac"
      },
      "execution_count": 48,
      "outputs": [
        {
          "output_type": "stream",
          "name": "stderr",
          "text": [
            "[I 2024-01-31 20:16:31,713] A new study created in memory with name: no-name-23425a0a-e44d-4248-aca9-a62e635e4fcc\n"
          ]
        },
        {
          "output_type": "stream",
          "name": "stdout",
          "text": [
            "Learning rate set to 0.220199\n",
            "0:\tlearn: 55395.8296109\ttotal: 793ms\tremaining: 1m 18s\n",
            "99:\tlearn: 13782.2574892\ttotal: 53.5s\tremaining: 0us\n"
          ]
        },
        {
          "output_type": "stream",
          "name": "stderr",
          "text": [
            "[I 2024-01-31 20:17:33,041] Trial 0 finished with value: 0.6203034328465427 and parameters: {'n_estimators': 100, 'max_depth': 15}. Best is trial 0 with value: 0.6203034328465427.\n"
          ]
        }
      ]
    },
    {
      "cell_type": "code",
      "source": [
        "best_model.fit(X_train, y_train, cat_features=cat_features, text_features=['key_skills', 'descr_clean', 'name'], verbose=100, eval_set=(X_test, y_test))\n"
      ],
      "metadata": {
        "colab": {
          "base_uri": "https://localhost:8080/"
        },
        "id": "q5iH8f9xFEi0",
        "outputId": "c81d9617-003a-4a39-d05e-a15802fb80f4"
      },
      "execution_count": 49,
      "outputs": [
        {
          "output_type": "stream",
          "name": "stdout",
          "text": [
            "Learning rate set to 0.155999\n",
            "0:\tlearn: 56975.7680544\ttest: 58219.3279330\tbest: 58219.3279330 (0)\ttotal: 667ms\tremaining: 1m 6s\n",
            "99:\tlearn: 16446.8144830\ttest: 37959.3901166\tbest: 37959.3901166 (99)\ttotal: 55.2s\tremaining: 0us\n",
            "bestTest = 37959.39012\n",
            "bestIteration = 99\n"
          ]
        },
        {
          "output_type": "execute_result",
          "data": {
            "text/plain": [
              "<catboost.core.CatBoostRegressor at 0x7ddc45c73be0>"
            ]
          },
          "metadata": {},
          "execution_count": 49
        }
      ]
    },
    {
      "cell_type": "code",
      "source": [
        "y_pred = best_model.predict(X_test)\n",
        "\n",
        "MAE_catboost = mae(y_pred, y_test)\n",
        "r2_catboost = r2(y_test, y_pred)"
      ],
      "metadata": {
        "id": "Cn6a6a_zLGqT"
      },
      "execution_count": 50,
      "outputs": []
    },
    {
      "cell_type": "code",
      "source": [
        "y_pred = best_model.predict(X_test)\n",
        "\n",
        "\n",
        "results = pd.DataFrame({\n",
        "    'Model': ['Catboost'],\n",
        "    'MAE': [round(MAE_catboost, 2)],\n",
        "    'R2': [round(r2_catboost, 2)]\n",
        "})\n",
        "\n",
        "styled_results = results.style.set_table_styles([{\n",
        "    'selector': 'th',\n",
        "    'props': [\n",
        "        ('border', '1px solid black'),\n",
        "        ('background-color', 'lightgrey'),\n",
        "        ('color', 'black'),\n",
        "        ('text-align', 'center')\n",
        "    ]\n",
        "}, {\n",
        "    'selector': 'td',\n",
        "    'props': [\n",
        "        ('border', '1px solid black'),\n",
        "        ('text-align', 'center'),\n",
        "        ('background-color', 'white'),\n",
        "        ('color', 'black')\n",
        "\n",
        "    ]\n",
        "}])\n",
        "\n",
        "display(styled_results)\n",
        "\n"
      ],
      "metadata": {
        "colab": {
          "base_uri": "https://localhost:8080/",
          "height": 82
        },
        "id": "Qr-yzx7QxRfR",
        "outputId": "e0890c08-8eac-4b1d-ccad-e54fd4e3e628"
      },
      "execution_count": 51,
      "outputs": [
        {
          "output_type": "display_data",
          "data": {
            "text/plain": [
              "<pandas.io.formats.style.Styler at 0x7ddc45c73d00>"
            ],
            "text/html": [
              "<style type=\"text/css\">\n",
              "#T_7ff1f th {\n",
              "  border: 1px solid black;\n",
              "  background-color: lightgrey;\n",
              "  color: black;\n",
              "  text-align: center;\n",
              "}\n",
              "#T_7ff1f td {\n",
              "  border: 1px solid black;\n",
              "  text-align: center;\n",
              "  background-color: white;\n",
              "  color: black;\n",
              "}\n",
              "</style>\n",
              "<table id=\"T_7ff1f\" class=\"dataframe\">\n",
              "  <thead>\n",
              "    <tr>\n",
              "      <th class=\"blank level0\" >&nbsp;</th>\n",
              "      <th id=\"T_7ff1f_level0_col0\" class=\"col_heading level0 col0\" >Model</th>\n",
              "      <th id=\"T_7ff1f_level0_col1\" class=\"col_heading level0 col1\" >MAE</th>\n",
              "      <th id=\"T_7ff1f_level0_col2\" class=\"col_heading level0 col2\" >R2</th>\n",
              "    </tr>\n",
              "  </thead>\n",
              "  <tbody>\n",
              "    <tr>\n",
              "      <th id=\"T_7ff1f_level0_row0\" class=\"row_heading level0 row0\" >0</th>\n",
              "      <td id=\"T_7ff1f_row0_col0\" class=\"data row0 col0\" >Catboost</td>\n",
              "      <td id=\"T_7ff1f_row0_col1\" class=\"data row0 col1\" >27647.600000</td>\n",
              "      <td id=\"T_7ff1f_row0_col2\" class=\"data row0 col2\" >0.620000</td>\n",
              "    </tr>\n",
              "  </tbody>\n",
              "</table>\n"
            ]
          },
          "metadata": {}
        }
      ]
    },
    {
      "cell_type": "code",
      "source": [
        "best_model.save_model(\"catboost_model.cbm\")"
      ],
      "metadata": {
        "id": "S37ywBCVErGM"
      },
      "execution_count": null,
      "outputs": []
    },
    {
      "cell_type": "markdown",
      "source": [
        "**BERT + Catboost**"
      ],
      "metadata": {
        "id": "0EXEE6FxNkOI"
      }
    },
    {
      "cell_type": "code",
      "source": [
        "from transformers import BertTokenizer, TFBertModel, BertModel,TFAutoModel, AutoTokenizer"
      ],
      "metadata": {
        "id": "nK2t4gsJLWWX"
      },
      "execution_count": 52,
      "outputs": []
    },
    {
      "cell_type": "code",
      "source": [
        "tokenizer = AutoTokenizer.from_pretrained('cointegrated/rubert-tiny2')\n",
        "bert_model = BertModel.from_pretrained('cointegrated/rubert-tiny2')"
      ],
      "metadata": {
        "colab": {
          "base_uri": "https://localhost:8080/",
          "height": 209,
          "referenced_widgets": [
            "4209785407234998b4f38af7311030f5",
            "58a3a30875c245bcb7466b2278291c7f",
            "ae3dc2511949461dab68361a8f0a772f",
            "c87a79bc560547f083883238981aa728",
            "ce098ac2bdff43759ae5f228dda37299",
            "c96267e1a245404c97988108113ebafe",
            "d5812c5b21e441a1b8f544feb3fe9afa",
            "2669ed32ac054722bcd507d7e016a4b3",
            "a55671de657543669bc31b87ce1cc50a",
            "93dd67d30b154b32967f86c3e4be2331",
            "3f8d04497bc94072acc139599bddcfcc",
            "538f7ed97cbf44369a0d526094be5f86",
            "dcaccc4f13514033950789bd4f176644",
            "300b319493774c209f371ae49b2639b8",
            "c732f364f06a47cca3214bce80afb9c9",
            "ea7eea9f5455403591578586f9ca7e58",
            "c9c9052c2f7d4c788abad47d50a67458",
            "efef38ba5baa43268e2b690a8f466fb6",
            "ca5ea967bbc541358f834ef0771cba61",
            "64b8d70285754636b20267a9b3a95410",
            "eb663cc0b7574ad383eae6f4d2edae3b",
            "90dfafea855c45eaadbe060adc433b0d",
            "a337dcb899ee45b1bdc039d538577acd",
            "43976309099f494f86d8cdc466d160ed",
            "e63321fee76e465a8c253b0bca3638cd",
            "45a4617a51e04d6ba4c27b5c360b4fdc",
            "97c83d55fcf14399b203f9e04fdf213a",
            "523b10b013464f388fc64205127295a8",
            "d63a6ee00b79414489d6dabe52d4fb22",
            "8153824c7d5a4cfd8fcfb6b1d66e0b28",
            "28e47e8236ef497c8451e6da9a6ba77b",
            "c20a87e2f03548198ece0cdd6178a698",
            "05aa3afde4cd4f269e6ffdbae265a201",
            "a79dd410c3cd4572a07640ee3a78f46a",
            "ed6580c9b9ba4c74a9cfe1ac1fc29e12",
            "6a15c95d4af944b99ee22252a623e3bf",
            "f9a0dbaec60a4f0b9d7d9698ed12e109",
            "a23c61da7ab0470582d985530c81520e",
            "5bd9377d67424082a3e6bafe54c7460c",
            "550d15183200481fb4e7e83966542430",
            "0241986526c040718430fb124e84001e",
            "fa4620b64c854f2db0c1378a646d2938",
            "775cbb25817f480a96640f1726d5ffa0",
            "36083a8ee52f40639e52de144b4e38b0",
            "753ae3f1a1b34b25b58369e0bc865bd5",
            "054f5fb0d22e42f9abb8ade2297a8d82",
            "b905397e933047a3ad6585b9d76f437b",
            "a698b6cc0eb247c8ae4b3b3cc5740361",
            "145b967e41e8471c810dcf75ecd53fb2",
            "1dee93db2e7a4075a852e52d294f6eec",
            "dbedbdba37014ef4a36d8c7c0df55939",
            "096da8fb0beb4099a20442a4a1a0d3e9",
            "775d01f1d6d3404784d06574d93f56b7",
            "002deb5f87db4ae996f826c5aaf2a6aa",
            "5c8e8e773d004c35ac6d9422712ecc71",
            "1ca287493c614d23a992e7194f3b66b3",
            "4b148e8dc5624a09804c6413ca65b26c",
            "e06b30b67f14480e90d3951a4a7e3282",
            "eac2d34d86134ad6ac0c63a007ff917b",
            "48e3fef1edef42459106028d90733517",
            "6c536d567bcb459c847b89b80156cc3f",
            "fe37577278024425b2dde826fecd7424",
            "b5b788f62eac4630963403be89f8956d",
            "7e95c7fdb2a34874b1974eb294e1b8a5",
            "6f25b889c3fb46ec885b34cb6e1d41e2",
            "0a51e0d1f49648888b0c82772ad84aea"
          ]
        },
        "id": "zBHVzuUyLmZV",
        "outputId": "4c0db51a-9eb4-4745-d165-fec981ded038"
      },
      "execution_count": 53,
      "outputs": [
        {
          "output_type": "display_data",
          "data": {
            "text/plain": [
              "tokenizer_config.json:   0%|          | 0.00/401 [00:00<?, ?B/s]"
            ],
            "application/vnd.jupyter.widget-view+json": {
              "version_major": 2,
              "version_minor": 0,
              "model_id": "4209785407234998b4f38af7311030f5"
            }
          },
          "metadata": {}
        },
        {
          "output_type": "display_data",
          "data": {
            "text/plain": [
              "vocab.txt:   0%|          | 0.00/1.08M [00:00<?, ?B/s]"
            ],
            "application/vnd.jupyter.widget-view+json": {
              "version_major": 2,
              "version_minor": 0,
              "model_id": "538f7ed97cbf44369a0d526094be5f86"
            }
          },
          "metadata": {}
        },
        {
          "output_type": "display_data",
          "data": {
            "text/plain": [
              "tokenizer.json:   0%|          | 0.00/1.74M [00:00<?, ?B/s]"
            ],
            "application/vnd.jupyter.widget-view+json": {
              "version_major": 2,
              "version_minor": 0,
              "model_id": "a337dcb899ee45b1bdc039d538577acd"
            }
          },
          "metadata": {}
        },
        {
          "output_type": "display_data",
          "data": {
            "text/plain": [
              "special_tokens_map.json:   0%|          | 0.00/112 [00:00<?, ?B/s]"
            ],
            "application/vnd.jupyter.widget-view+json": {
              "version_major": 2,
              "version_minor": 0,
              "model_id": "a79dd410c3cd4572a07640ee3a78f46a"
            }
          },
          "metadata": {}
        },
        {
          "output_type": "display_data",
          "data": {
            "text/plain": [
              "config.json:   0%|          | 0.00/693 [00:00<?, ?B/s]"
            ],
            "application/vnd.jupyter.widget-view+json": {
              "version_major": 2,
              "version_minor": 0,
              "model_id": "753ae3f1a1b34b25b58369e0bc865bd5"
            }
          },
          "metadata": {}
        },
        {
          "output_type": "display_data",
          "data": {
            "text/plain": [
              "model.safetensors:   0%|          | 0.00/118M [00:00<?, ?B/s]"
            ],
            "application/vnd.jupyter.widget-view+json": {
              "version_major": 2,
              "version_minor": 0,
              "model_id": "1ca287493c614d23a992e7194f3b66b3"
            }
          },
          "metadata": {}
        }
      ]
    },
    {
      "cell_type": "code",
      "source": [
        "pip install swifter"
      ],
      "metadata": {
        "colab": {
          "base_uri": "https://localhost:8080/"
        },
        "id": "5ZTN_-zKmsTH",
        "outputId": "bb98cdf3-82e9-423d-bf1c-bcf6b514a063"
      },
      "execution_count": 54,
      "outputs": [
        {
          "output_type": "stream",
          "name": "stdout",
          "text": [
            "Collecting swifter\n",
            "  Downloading swifter-1.4.0.tar.gz (1.2 MB)\n",
            "\u001b[2K     \u001b[90m━━━━━━━━━━━━━━━━━━━━━━━━━━━━━━━━━━━━━━━━\u001b[0m \u001b[32m1.2/1.2 MB\u001b[0m \u001b[31m11.7 MB/s\u001b[0m eta \u001b[36m0:00:00\u001b[0m\n",
            "\u001b[?25h  Preparing metadata (setup.py) ... \u001b[?25l\u001b[?25hdone\n",
            "Requirement already satisfied: pandas>=1.0.0 in /usr/local/lib/python3.10/dist-packages (from swifter) (1.5.3)\n",
            "Requirement already satisfied: psutil>=5.6.6 in /usr/local/lib/python3.10/dist-packages (from swifter) (5.9.5)\n",
            "Requirement already satisfied: dask[dataframe]>=2.10.0 in /usr/local/lib/python3.10/dist-packages (from swifter) (2023.8.1)\n",
            "Requirement already satisfied: tqdm>=4.33.0 in /usr/local/lib/python3.10/dist-packages (from swifter) (4.66.1)\n",
            "Requirement already satisfied: click>=8.0 in /usr/local/lib/python3.10/dist-packages (from dask[dataframe]>=2.10.0->swifter) (8.1.7)\n",
            "Requirement already satisfied: cloudpickle>=1.5.0 in /usr/local/lib/python3.10/dist-packages (from dask[dataframe]>=2.10.0->swifter) (2.2.1)\n",
            "Requirement already satisfied: fsspec>=2021.09.0 in /usr/local/lib/python3.10/dist-packages (from dask[dataframe]>=2.10.0->swifter) (2023.6.0)\n",
            "Requirement already satisfied: packaging>=20.0 in /usr/local/lib/python3.10/dist-packages (from dask[dataframe]>=2.10.0->swifter) (23.2)\n",
            "Requirement already satisfied: partd>=1.2.0 in /usr/local/lib/python3.10/dist-packages (from dask[dataframe]>=2.10.0->swifter) (1.4.1)\n",
            "Requirement already satisfied: pyyaml>=5.3.1 in /usr/local/lib/python3.10/dist-packages (from dask[dataframe]>=2.10.0->swifter) (6.0.1)\n",
            "Requirement already satisfied: toolz>=0.10.0 in /usr/local/lib/python3.10/dist-packages (from dask[dataframe]>=2.10.0->swifter) (0.12.1)\n",
            "Requirement already satisfied: importlib-metadata>=4.13.0 in /usr/local/lib/python3.10/dist-packages (from dask[dataframe]>=2.10.0->swifter) (7.0.1)\n",
            "Requirement already satisfied: python-dateutil>=2.8.1 in /usr/local/lib/python3.10/dist-packages (from pandas>=1.0.0->swifter) (2.8.2)\n",
            "Requirement already satisfied: pytz>=2020.1 in /usr/local/lib/python3.10/dist-packages (from pandas>=1.0.0->swifter) (2023.3.post1)\n",
            "Requirement already satisfied: numpy>=1.21.0 in /usr/local/lib/python3.10/dist-packages (from pandas>=1.0.0->swifter) (1.23.5)\n",
            "Requirement already satisfied: zipp>=0.5 in /usr/local/lib/python3.10/dist-packages (from importlib-metadata>=4.13.0->dask[dataframe]>=2.10.0->swifter) (3.17.0)\n",
            "Requirement already satisfied: locket in /usr/local/lib/python3.10/dist-packages (from partd>=1.2.0->dask[dataframe]>=2.10.0->swifter) (1.0.0)\n",
            "Requirement already satisfied: six>=1.5 in /usr/local/lib/python3.10/dist-packages (from python-dateutil>=2.8.1->pandas>=1.0.0->swifter) (1.16.0)\n",
            "Building wheels for collected packages: swifter\n",
            "  Building wheel for swifter (setup.py) ... \u001b[?25l\u001b[?25hdone\n",
            "  Created wheel for swifter: filename=swifter-1.4.0-py3-none-any.whl size=16506 sha256=4358baa351870a19d241949a46574fa771a43bf210b9913ccbe8a7574df30394\n",
            "  Stored in directory: /root/.cache/pip/wheels/e4/cf/51/0904952972ee2c7aa3709437065278dc534ec1b8d2ad41b443\n",
            "Successfully built swifter\n",
            "Installing collected packages: swifter\n",
            "Successfully installed swifter-1.4.0\n"
          ]
        }
      ]
    },
    {
      "cell_type": "code",
      "source": [
        "import torch\n",
        "import swifter"
      ],
      "metadata": {
        "id": "HTzHV9NfmZ2o"
      },
      "execution_count": 55,
      "outputs": []
    },
    {
      "cell_type": "code",
      "source": [
        "df['total'] = df['name'] + ' ' + df['descr_clean'] + ' ' + df['key_skills']"
      ],
      "metadata": {
        "id": "gFh_5wmDkfo8"
      },
      "execution_count": 56,
      "outputs": []
    },
    {
      "cell_type": "code",
      "source": [
        "def getEmbedding(text):\n",
        "\n",
        "    encoded_input = tokenizer(text, return_tensors='pt', truncation=True,\n",
        "                                          max_length=512, add_special_tokens=True)\n",
        "\n",
        "    with torch.no_grad():\n",
        "\n",
        "        output = bert_model(**encoded_input)\n",
        "        output = output[1].detach().cpu().numpy()[0]\n",
        "        torch.cuda.empty_cache()\n",
        "\n",
        "    return output\n"
      ],
      "metadata": {
        "id": "-yHrR3oSl36O"
      },
      "execution_count": 57,
      "outputs": []
    },
    {
      "cell_type": "code",
      "source": [
        "device = 'cuda' if torch.cuda.is_available() else 'cpu'"
      ],
      "metadata": {
        "id": "kF82vBwO_JGX"
      },
      "execution_count": 58,
      "outputs": []
    },
    {
      "cell_type": "code",
      "source": [
        "df['Embedding'] = df['total'].swifter.apply(lambda x: getEmbedding(x))"
      ],
      "metadata": {
        "id": "2kVwsU64mBgN",
        "colab": {
          "base_uri": "https://localhost:8080/",
          "height": 49,
          "referenced_widgets": [
            "6c07c462ab58459a93ecab650e546c26",
            "565ad2a7beda48caa37a9e6bffa2da3e",
            "b77ad4210c074e698164b3bae633c1e1",
            "fb8d21ef1e6942b1ba6d80c3a4d02e4b",
            "9d06885dc1ba4a00a8fbdb6e982702c2",
            "06dc1c2808074f238fe4644d10c66b18",
            "01b4b4032adf4edc9f716a4affe6f85b",
            "74946bbd66484e8797cccc262eafb9d3",
            "24314101484f4b31a91c19e4f31f009b",
            "df3a4f9a329b48e0ba76768b6b654ae9",
            "2503b6e9fb284ca09bb6b9ee9be006bc"
          ]
        },
        "outputId": "84e2273d-ea29-4ece-802f-4b8ab961a2af"
      },
      "execution_count": 59,
      "outputs": [
        {
          "output_type": "display_data",
          "data": {
            "text/plain": [
              "Pandas Apply:   0%|          | 0/14516 [00:00<?, ?it/s]"
            ],
            "application/vnd.jupyter.widget-view+json": {
              "version_major": 2,
              "version_minor": 0,
              "model_id": "6c07c462ab58459a93ecab650e546c26"
            }
          },
          "metadata": {}
        }
      ]
    },
    {
      "cell_type": "code",
      "source": [
        "a = df['Embedding'].apply(pd.Series).reset_index().drop(columns='index').mean(axis=1)"
      ],
      "metadata": {
        "id": "q9sxTGRGORv5"
      },
      "execution_count": 67,
      "outputs": []
    },
    {
      "cell_type": "code",
      "source": [
        "X = pd.concat([df['Embedding'].apply(pd.Series).reset_index().drop(columns='index'), df[cat_features].reset_index().drop(columns='index')], axis = 1)"
      ],
      "metadata": {
        "id": "b-O4BHfNsS4F"
      },
      "execution_count": 81,
      "outputs": []
    },
    {
      "cell_type": "code",
      "source": [
        "X = pd.concat([a, df[cat_features].reset_index().drop(columns='index')], axis = 1)"
      ],
      "metadata": {
        "id": "9tCuqfmvOcfg"
      },
      "execution_count": 68,
      "outputs": []
    },
    {
      "cell_type": "code",
      "source": [
        "X_train, X_test, y_train, y_test = train_test_split(X, df[y], test_size=0.2, random_state=123)"
      ],
      "metadata": {
        "id": "dEEepGoqmnzq"
      },
      "execution_count": 84,
      "outputs": []
    },
    {
      "cell_type": "code",
      "source": [
        "def parameters(prm):\n",
        "  params = {\n",
        "         'n_estimators': prm.suggest_int('n_estimators', 50, 250, 50),\n",
        "         'max_depth': prm.suggest_int('max_depth', 5, 15, 5),\n",
        "         }\n",
        "\n",
        "  model = CatBoostRegressor(**params, random_state=123, task_type='GPU')\n",
        "  model.fit(X_train, y_train, cat_features = cat_features, verbose=100)\n",
        "  score = model.score(X_test, y_test)\n",
        "\n",
        "  return score"
      ],
      "metadata": {
        "id": "IRwYx3ALnGfK"
      },
      "execution_count": 85,
      "outputs": []
    },
    {
      "cell_type": "code",
      "source": [
        "study = optuna.create_study(direction='maximize')\n",
        "study.optimize(parameters, n_trials=7, timeout=60)\n",
        "\n",
        "best_params = study.best_params\n",
        "best_model_catboost_bert = CatBoostRegressor(**best_params, random_state=123, task_type='GPU')"
      ],
      "metadata": {
        "id": "aaNWWeYLnJi7",
        "colab": {
          "base_uri": "https://localhost:8080/"
        },
        "outputId": "49fdaf13-c984-4c2b-e0b7-aa15c13a9dcd"
      },
      "execution_count": null,
      "outputs": [
        {
          "output_type": "stream",
          "name": "stderr",
          "text": [
            "[I 2024-01-31 20:55:13,620] A new study created in memory with name: no-name-48e00216-aaca-487e-907e-de246fe7f508\n"
          ]
        },
        {
          "output_type": "stream",
          "name": "stdout",
          "text": [
            "Learning rate set to 0.172858\n"
          ]
        }
      ]
    },
    {
      "cell_type": "code",
      "source": [
        "best_model_catboost_bert.fit(X_train, y_train, cat_features = cat_features)"
      ],
      "metadata": {
        "colab": {
          "base_uri": "https://localhost:8080/"
        },
        "id": "lzIbLrFqOqKK",
        "outputId": "5509602b-5b14-41f7-c121-56eb8f7dfb2f"
      },
      "execution_count": 65,
      "outputs": [
        {
          "output_type": "stream",
          "name": "stdout",
          "text": [
            "Learning rate set to 0.127422\n",
            "0:\tlearn: 57329.3563311\ttotal: 18ms\tremaining: 4.48s\n",
            "1:\tlearn: 54231.7645718\ttotal: 37.3ms\tremaining: 4.62s\n",
            "2:\tlearn: 51648.9042534\ttotal: 56ms\tremaining: 4.61s\n",
            "3:\tlearn: 49550.3089669\ttotal: 74ms\tremaining: 4.55s\n",
            "4:\tlearn: 47878.0888327\ttotal: 96.9ms\tremaining: 4.75s\n",
            "5:\tlearn: 46466.7674697\ttotal: 114ms\tremaining: 4.62s\n",
            "6:\tlearn: 45428.0699714\ttotal: 139ms\tremaining: 4.84s\n",
            "7:\tlearn: 44480.5196043\ttotal: 158ms\tremaining: 4.78s\n",
            "8:\tlearn: 43710.2817376\ttotal: 178ms\tremaining: 4.77s\n",
            "9:\tlearn: 42934.3741957\ttotal: 198ms\tremaining: 4.76s\n",
            "10:\tlearn: 42375.3014451\ttotal: 217ms\tremaining: 4.71s\n",
            "11:\tlearn: 41891.4676255\ttotal: 235ms\tremaining: 4.66s\n",
            "12:\tlearn: 41420.3231789\ttotal: 252ms\tremaining: 4.6s\n",
            "13:\tlearn: 40990.5930531\ttotal: 272ms\tremaining: 4.58s\n",
            "14:\tlearn: 40723.1989247\ttotal: 293ms\tremaining: 4.6s\n",
            "15:\tlearn: 40478.3453409\ttotal: 308ms\tremaining: 4.5s\n",
            "16:\tlearn: 40223.4131899\ttotal: 325ms\tremaining: 4.45s\n",
            "17:\tlearn: 39968.6737392\ttotal: 347ms\tremaining: 4.47s\n",
            "18:\tlearn: 39773.8225009\ttotal: 363ms\tremaining: 4.41s\n",
            "19:\tlearn: 39593.1178303\ttotal: 378ms\tremaining: 4.35s\n",
            "20:\tlearn: 39409.4124785\ttotal: 396ms\tremaining: 4.32s\n",
            "21:\tlearn: 39242.2954102\ttotal: 415ms\tremaining: 4.3s\n",
            "22:\tlearn: 39104.2133348\ttotal: 432ms\tremaining: 4.27s\n",
            "23:\tlearn: 38952.5322196\ttotal: 449ms\tremaining: 4.23s\n",
            "24:\tlearn: 38845.4414172\ttotal: 465ms\tremaining: 4.19s\n",
            "25:\tlearn: 38748.6221891\ttotal: 490ms\tremaining: 4.22s\n",
            "26:\tlearn: 38637.4864290\ttotal: 505ms\tremaining: 4.17s\n",
            "27:\tlearn: 38530.2828451\ttotal: 519ms\tremaining: 4.12s\n",
            "28:\tlearn: 38436.1939061\ttotal: 551ms\tremaining: 4.2s\n",
            "29:\tlearn: 38350.8544115\ttotal: 567ms\tremaining: 4.16s\n",
            "30:\tlearn: 38296.9832685\ttotal: 582ms\tremaining: 4.11s\n",
            "31:\tlearn: 38230.4144984\ttotal: 598ms\tremaining: 4.07s\n",
            "32:\tlearn: 38161.7644758\ttotal: 611ms\tremaining: 4.02s\n",
            "33:\tlearn: 38084.3313423\ttotal: 625ms\tremaining: 3.97s\n",
            "34:\tlearn: 38003.3249085\ttotal: 640ms\tremaining: 3.93s\n",
            "35:\tlearn: 37927.7397050\ttotal: 653ms\tremaining: 3.88s\n",
            "36:\tlearn: 37848.1243272\ttotal: 673ms\tremaining: 3.87s\n",
            "37:\tlearn: 37807.5426176\ttotal: 688ms\tremaining: 3.84s\n",
            "38:\tlearn: 37745.7294028\ttotal: 702ms\tremaining: 3.8s\n",
            "39:\tlearn: 37685.4250627\ttotal: 715ms\tremaining: 3.75s\n",
            "40:\tlearn: 37607.9656109\ttotal: 730ms\tremaining: 3.72s\n",
            "41:\tlearn: 37563.1148432\ttotal: 746ms\tremaining: 3.69s\n",
            "42:\tlearn: 37490.5466460\ttotal: 764ms\tremaining: 3.68s\n",
            "43:\tlearn: 37449.5087330\ttotal: 778ms\tremaining: 3.64s\n",
            "44:\tlearn: 37379.1527698\ttotal: 792ms\tremaining: 3.61s\n",
            "45:\tlearn: 37334.0525183\ttotal: 812ms\tremaining: 3.6s\n",
            "46:\tlearn: 37283.4025653\ttotal: 829ms\tremaining: 3.58s\n",
            "47:\tlearn: 37239.1199456\ttotal: 843ms\tremaining: 3.54s\n",
            "48:\tlearn: 37167.5093262\ttotal: 856ms\tremaining: 3.51s\n",
            "49:\tlearn: 37122.5739899\ttotal: 882ms\tremaining: 3.53s\n",
            "50:\tlearn: 37059.3393096\ttotal: 897ms\tremaining: 3.5s\n",
            "51:\tlearn: 37006.9225450\ttotal: 910ms\tremaining: 3.46s\n",
            "52:\tlearn: 36974.9408069\ttotal: 922ms\tremaining: 3.43s\n",
            "53:\tlearn: 36927.8760713\ttotal: 938ms\tremaining: 3.4s\n",
            "54:\tlearn: 36875.9238189\ttotal: 951ms\tremaining: 3.37s\n",
            "55:\tlearn: 36825.9507392\ttotal: 971ms\tremaining: 3.36s\n",
            "56:\tlearn: 36788.5604637\ttotal: 985ms\tremaining: 3.33s\n",
            "57:\tlearn: 36735.7511925\ttotal: 1s\tremaining: 3.31s\n",
            "58:\tlearn: 36703.6697146\ttotal: 1.02s\tremaining: 3.29s\n",
            "59:\tlearn: 36656.4069531\ttotal: 1.03s\tremaining: 3.27s\n",
            "60:\tlearn: 36639.7576696\ttotal: 1.04s\tremaining: 3.23s\n",
            "61:\tlearn: 36598.1482038\ttotal: 1.06s\tremaining: 3.21s\n",
            "62:\tlearn: 36562.0253938\ttotal: 1.07s\tremaining: 3.18s\n",
            "63:\tlearn: 36539.5519070\ttotal: 1.08s\tremaining: 3.15s\n",
            "64:\tlearn: 36508.0301665\ttotal: 1.1s\tremaining: 3.12s\n",
            "65:\tlearn: 36475.8102930\ttotal: 1.11s\tremaining: 3.1s\n",
            "66:\tlearn: 36428.7092528\ttotal: 1.13s\tremaining: 3.08s\n",
            "67:\tlearn: 36392.2073470\ttotal: 1.14s\tremaining: 3.05s\n",
            "68:\tlearn: 36349.3742387\ttotal: 1.15s\tremaining: 3.02s\n",
            "69:\tlearn: 36320.3701842\ttotal: 1.17s\tremaining: 3s\n",
            "70:\tlearn: 36275.0762581\ttotal: 1.18s\tremaining: 2.97s\n",
            "71:\tlearn: 36230.8223711\ttotal: 1.19s\tremaining: 2.95s\n",
            "72:\tlearn: 36183.6707053\ttotal: 1.21s\tremaining: 2.92s\n",
            "73:\tlearn: 36151.2466739\ttotal: 1.22s\tremaining: 2.9s\n",
            "74:\tlearn: 36111.8450526\ttotal: 1.24s\tremaining: 2.89s\n",
            "75:\tlearn: 36064.3575539\ttotal: 1.25s\tremaining: 2.86s\n",
            "76:\tlearn: 36023.4032632\ttotal: 1.26s\tremaining: 2.84s\n",
            "77:\tlearn: 35981.2680069\ttotal: 1.28s\tremaining: 2.82s\n",
            "78:\tlearn: 35944.3255391\ttotal: 1.29s\tremaining: 2.79s\n",
            "79:\tlearn: 35904.9609207\ttotal: 1.3s\tremaining: 2.77s\n",
            "80:\tlearn: 35851.2480750\ttotal: 1.32s\tremaining: 2.75s\n",
            "81:\tlearn: 35816.0675175\ttotal: 1.33s\tremaining: 2.72s\n",
            "82:\tlearn: 35793.7816059\ttotal: 1.34s\tremaining: 2.7s\n",
            "83:\tlearn: 35747.4049382\ttotal: 1.36s\tremaining: 2.68s\n",
            "84:\tlearn: 35708.3568247\ttotal: 1.37s\tremaining: 2.67s\n",
            "85:\tlearn: 35667.3013720\ttotal: 1.39s\tremaining: 2.65s\n",
            "86:\tlearn: 35631.2270607\ttotal: 1.4s\tremaining: 2.62s\n",
            "87:\tlearn: 35604.5318978\ttotal: 1.41s\tremaining: 2.6s\n",
            "88:\tlearn: 35565.2177425\ttotal: 1.43s\tremaining: 2.58s\n",
            "89:\tlearn: 35520.9819541\ttotal: 1.44s\tremaining: 2.56s\n",
            "90:\tlearn: 35478.8952245\ttotal: 1.45s\tremaining: 2.54s\n",
            "91:\tlearn: 35456.1388826\ttotal: 1.46s\tremaining: 2.51s\n",
            "92:\tlearn: 35432.3765551\ttotal: 1.48s\tremaining: 2.49s\n",
            "93:\tlearn: 35400.6431320\ttotal: 1.49s\tremaining: 2.47s\n",
            "94:\tlearn: 35372.2090752\ttotal: 1.5s\tremaining: 2.45s\n",
            "95:\tlearn: 35340.3781876\ttotal: 1.54s\tremaining: 2.46s\n",
            "96:\tlearn: 35306.3612983\ttotal: 1.55s\tremaining: 2.45s\n",
            "97:\tlearn: 35277.6861485\ttotal: 1.56s\tremaining: 2.42s\n",
            "98:\tlearn: 35237.8625541\ttotal: 1.58s\tremaining: 2.41s\n",
            "99:\tlearn: 35213.5798187\ttotal: 1.6s\tremaining: 2.4s\n",
            "100:\tlearn: 35181.7709627\ttotal: 1.61s\tremaining: 2.38s\n",
            "101:\tlearn: 35149.4606175\ttotal: 1.62s\tremaining: 2.36s\n",
            "102:\tlearn: 35114.2352861\ttotal: 1.64s\tremaining: 2.34s\n",
            "103:\tlearn: 35068.1277083\ttotal: 1.65s\tremaining: 2.32s\n",
            "104:\tlearn: 35040.0423256\ttotal: 1.67s\tremaining: 2.3s\n",
            "105:\tlearn: 35012.2142505\ttotal: 1.68s\tremaining: 2.28s\n",
            "106:\tlearn: 34992.0189930\ttotal: 1.69s\tremaining: 2.26s\n",
            "107:\tlearn: 34966.1232221\ttotal: 1.7s\tremaining: 2.24s\n",
            "108:\tlearn: 34929.7888048\ttotal: 1.72s\tremaining: 2.22s\n",
            "109:\tlearn: 34887.5635003\ttotal: 1.73s\tremaining: 2.2s\n",
            "110:\tlearn: 34840.6777650\ttotal: 1.74s\tremaining: 2.18s\n",
            "111:\tlearn: 34821.5266631\ttotal: 1.75s\tremaining: 2.16s\n",
            "112:\tlearn: 34782.2075879\ttotal: 1.77s\tremaining: 2.14s\n",
            "113:\tlearn: 34748.6421834\ttotal: 1.78s\tremaining: 2.13s\n",
            "114:\tlearn: 34730.2619611\ttotal: 1.8s\tremaining: 2.11s\n",
            "115:\tlearn: 34705.6787111\ttotal: 1.81s\tremaining: 2.09s\n",
            "116:\tlearn: 34666.9562932\ttotal: 1.82s\tremaining: 2.08s\n",
            "117:\tlearn: 34629.5322271\ttotal: 1.84s\tremaining: 2.06s\n",
            "118:\tlearn: 34595.1805017\ttotal: 1.85s\tremaining: 2.04s\n",
            "119:\tlearn: 34575.7380274\ttotal: 1.86s\tremaining: 2.02s\n",
            "120:\tlearn: 34555.1922965\ttotal: 1.88s\tremaining: 2s\n",
            "121:\tlearn: 34534.5205983\ttotal: 1.89s\tremaining: 1.98s\n",
            "122:\tlearn: 34491.8061689\ttotal: 1.9s\tremaining: 1.96s\n",
            "123:\tlearn: 34456.2256157\ttotal: 1.92s\tremaining: 1.95s\n",
            "124:\tlearn: 34415.6167896\ttotal: 1.93s\tremaining: 1.93s\n",
            "125:\tlearn: 34384.5863892\ttotal: 1.94s\tremaining: 1.91s\n",
            "126:\tlearn: 34355.2220396\ttotal: 1.96s\tremaining: 1.9s\n",
            "127:\tlearn: 34337.7383819\ttotal: 1.97s\tremaining: 1.88s\n",
            "128:\tlearn: 34310.9579835\ttotal: 1.99s\tremaining: 1.87s\n",
            "129:\tlearn: 34285.4564715\ttotal: 2.01s\tremaining: 1.85s\n",
            "130:\tlearn: 34261.3210428\ttotal: 2.02s\tremaining: 1.83s\n",
            "131:\tlearn: 34240.3295164\ttotal: 2.03s\tremaining: 1.82s\n",
            "132:\tlearn: 34215.2345875\ttotal: 2.04s\tremaining: 1.8s\n",
            "133:\tlearn: 34177.7452351\ttotal: 2.06s\tremaining: 1.78s\n",
            "134:\tlearn: 34154.1338666\ttotal: 2.07s\tremaining: 1.76s\n",
            "135:\tlearn: 34132.4467723\ttotal: 2.08s\tremaining: 1.74s\n",
            "136:\tlearn: 34099.5354178\ttotal: 2.09s\tremaining: 1.73s\n",
            "137:\tlearn: 34053.5137455\ttotal: 2.1s\tremaining: 1.71s\n",
            "138:\tlearn: 34030.5127393\ttotal: 2.12s\tremaining: 1.7s\n",
            "139:\tlearn: 34004.8646441\ttotal: 2.14s\tremaining: 1.68s\n",
            "140:\tlearn: 33981.7244156\ttotal: 2.15s\tremaining: 1.66s\n",
            "141:\tlearn: 33950.1165751\ttotal: 2.16s\tremaining: 1.64s\n",
            "142:\tlearn: 33926.2349959\ttotal: 2.17s\tremaining: 1.63s\n",
            "143:\tlearn: 33903.6776722\ttotal: 2.19s\tremaining: 1.61s\n",
            "144:\tlearn: 33869.6122254\ttotal: 2.21s\tremaining: 1.6s\n",
            "145:\tlearn: 33848.3270880\ttotal: 2.22s\tremaining: 1.58s\n",
            "146:\tlearn: 33821.1925387\ttotal: 2.24s\tremaining: 1.57s\n",
            "147:\tlearn: 33783.4810920\ttotal: 2.25s\tremaining: 1.55s\n",
            "148:\tlearn: 33757.6787470\ttotal: 2.26s\tremaining: 1.53s\n",
            "149:\tlearn: 33720.4800618\ttotal: 2.28s\tremaining: 1.52s\n",
            "150:\tlearn: 33690.9134698\ttotal: 2.29s\tremaining: 1.5s\n",
            "151:\tlearn: 33665.5940756\ttotal: 2.3s\tremaining: 1.48s\n",
            "152:\tlearn: 33648.8362878\ttotal: 2.31s\tremaining: 1.47s\n",
            "153:\tlearn: 33624.9233456\ttotal: 2.33s\tremaining: 1.45s\n",
            "154:\tlearn: 33609.8594645\ttotal: 2.34s\tremaining: 1.44s\n",
            "155:\tlearn: 33580.8664016\ttotal: 2.35s\tremaining: 1.42s\n",
            "156:\tlearn: 33558.7953860\ttotal: 2.37s\tremaining: 1.4s\n",
            "157:\tlearn: 33540.3352400\ttotal: 2.38s\tremaining: 1.39s\n",
            "158:\tlearn: 33519.4444651\ttotal: 2.4s\tremaining: 1.37s\n",
            "159:\tlearn: 33484.4177565\ttotal: 2.41s\tremaining: 1.36s\n",
            "160:\tlearn: 33439.2454063\ttotal: 2.43s\tremaining: 1.34s\n",
            "161:\tlearn: 33414.0785276\ttotal: 2.44s\tremaining: 1.32s\n",
            "162:\tlearn: 33387.2793917\ttotal: 2.45s\tremaining: 1.31s\n",
            "163:\tlearn: 33354.8727175\ttotal: 2.47s\tremaining: 1.29s\n",
            "164:\tlearn: 33322.4534967\ttotal: 2.48s\tremaining: 1.28s\n",
            "165:\tlearn: 33296.1189614\ttotal: 2.52s\tremaining: 1.27s\n",
            "166:\tlearn: 33257.6302147\ttotal: 2.53s\tremaining: 1.26s\n",
            "167:\tlearn: 33239.2839886\ttotal: 2.54s\tremaining: 1.24s\n",
            "168:\tlearn: 33212.4484882\ttotal: 2.56s\tremaining: 1.22s\n",
            "169:\tlearn: 33181.7148646\ttotal: 2.57s\tremaining: 1.21s\n",
            "170:\tlearn: 33155.4551085\ttotal: 2.58s\tremaining: 1.19s\n",
            "171:\tlearn: 33119.4790729\ttotal: 2.59s\tremaining: 1.18s\n",
            "172:\tlearn: 33090.7385783\ttotal: 2.61s\tremaining: 1.16s\n",
            "173:\tlearn: 33065.3583316\ttotal: 2.63s\tremaining: 1.15s\n",
            "174:\tlearn: 33040.3958797\ttotal: 2.64s\tremaining: 1.13s\n",
            "175:\tlearn: 33009.2202973\ttotal: 2.65s\tremaining: 1.11s\n",
            "176:\tlearn: 32971.4688781\ttotal: 2.66s\tremaining: 1.1s\n",
            "177:\tlearn: 32953.2250327\ttotal: 2.68s\tremaining: 1.08s\n",
            "178:\tlearn: 32937.3056404\ttotal: 2.69s\tremaining: 1.07s\n",
            "179:\tlearn: 32914.0554816\ttotal: 2.7s\tremaining: 1.05s\n",
            "180:\tlearn: 32886.9202759\ttotal: 2.72s\tremaining: 1.04s\n",
            "181:\tlearn: 32868.7242844\ttotal: 2.73s\tremaining: 1.02s\n",
            "182:\tlearn: 32829.1073348\ttotal: 2.74s\tremaining: 1s\n",
            "183:\tlearn: 32801.9871967\ttotal: 2.76s\tremaining: 989ms\n",
            "184:\tlearn: 32781.7842175\ttotal: 2.77s\tremaining: 973ms\n",
            "185:\tlearn: 32749.2567821\ttotal: 2.79s\tremaining: 959ms\n",
            "186:\tlearn: 32724.8189477\ttotal: 2.8s\tremaining: 943ms\n",
            "187:\tlearn: 32705.8397671\ttotal: 2.82s\tremaining: 929ms\n",
            "188:\tlearn: 32679.9091495\ttotal: 2.83s\tremaining: 913ms\n",
            "189:\tlearn: 32659.7536924\ttotal: 2.84s\tremaining: 898ms\n",
            "190:\tlearn: 32641.6897295\ttotal: 2.85s\tremaining: 882ms\n",
            "191:\tlearn: 32614.7210763\ttotal: 2.87s\tremaining: 866ms\n",
            "192:\tlearn: 32586.6313790\ttotal: 2.88s\tremaining: 851ms\n",
            "193:\tlearn: 32566.7329064\ttotal: 2.89s\tremaining: 835ms\n",
            "194:\tlearn: 32545.2754494\ttotal: 2.9s\tremaining: 819ms\n",
            "195:\tlearn: 32525.7500767\ttotal: 2.92s\tremaining: 804ms\n",
            "196:\tlearn: 32504.7072848\ttotal: 2.93s\tremaining: 790ms\n",
            "197:\tlearn: 32479.0067185\ttotal: 2.95s\tremaining: 774ms\n",
            "198:\tlearn: 32455.8706331\ttotal: 2.96s\tremaining: 759ms\n",
            "199:\tlearn: 32432.0205792\ttotal: 2.97s\tremaining: 743ms\n",
            "200:\tlearn: 32402.6034447\ttotal: 2.98s\tremaining: 728ms\n",
            "201:\tlearn: 32381.0330436\ttotal: 3s\tremaining: 712ms\n",
            "202:\tlearn: 32351.4788309\ttotal: 3.01s\tremaining: 697ms\n",
            "203:\tlearn: 32334.6864992\ttotal: 3.03s\tremaining: 683ms\n",
            "204:\tlearn: 32313.5905460\ttotal: 3.05s\tremaining: 669ms\n",
            "205:\tlearn: 32284.4542902\ttotal: 3.06s\tremaining: 654ms\n",
            "206:\tlearn: 32263.1127765\ttotal: 3.08s\tremaining: 639ms\n",
            "207:\tlearn: 32232.3410437\ttotal: 3.09s\tremaining: 624ms\n",
            "208:\tlearn: 32213.8916463\ttotal: 3.1s\tremaining: 609ms\n",
            "209:\tlearn: 32194.4149281\ttotal: 3.11s\tremaining: 593ms\n",
            "210:\tlearn: 32168.8369978\ttotal: 3.13s\tremaining: 579ms\n",
            "211:\tlearn: 32156.6813718\ttotal: 3.14s\tremaining: 563ms\n",
            "212:\tlearn: 32124.4528319\ttotal: 3.15s\tremaining: 548ms\n",
            "213:\tlearn: 32098.0314409\ttotal: 3.17s\tremaining: 533ms\n",
            "214:\tlearn: 32082.6109081\ttotal: 3.18s\tremaining: 518ms\n",
            "215:\tlearn: 32054.6746808\ttotal: 3.2s\tremaining: 503ms\n",
            "216:\tlearn: 32040.4480104\ttotal: 3.21s\tremaining: 488ms\n",
            "217:\tlearn: 32016.6241297\ttotal: 3.22s\tremaining: 473ms\n",
            "218:\tlearn: 31998.3015188\ttotal: 3.24s\tremaining: 459ms\n",
            "219:\tlearn: 31978.8572744\ttotal: 3.25s\tremaining: 444ms\n",
            "220:\tlearn: 31954.4166415\ttotal: 3.27s\tremaining: 429ms\n",
            "221:\tlearn: 31935.2086480\ttotal: 3.28s\tremaining: 414ms\n",
            "222:\tlearn: 31904.7985220\ttotal: 3.29s\tremaining: 399ms\n",
            "223:\tlearn: 31882.5344638\ttotal: 3.31s\tremaining: 384ms\n",
            "224:\tlearn: 31859.9955092\ttotal: 3.32s\tremaining: 369ms\n",
            "225:\tlearn: 31838.9891897\ttotal: 3.33s\tremaining: 354ms\n",
            "226:\tlearn: 31818.9736565\ttotal: 3.35s\tremaining: 339ms\n",
            "227:\tlearn: 31796.8355202\ttotal: 3.36s\tremaining: 324ms\n",
            "228:\tlearn: 31773.1657599\ttotal: 3.38s\tremaining: 310ms\n",
            "229:\tlearn: 31742.8009508\ttotal: 3.39s\tremaining: 295ms\n",
            "230:\tlearn: 31723.1929853\ttotal: 3.4s\tremaining: 280ms\n",
            "231:\tlearn: 31702.6642743\ttotal: 3.41s\tremaining: 265ms\n",
            "232:\tlearn: 31685.2701748\ttotal: 3.43s\tremaining: 250ms\n",
            "233:\tlearn: 31671.7286488\ttotal: 3.44s\tremaining: 236ms\n",
            "234:\tlearn: 31643.1856856\ttotal: 3.46s\tremaining: 221ms\n",
            "235:\tlearn: 31615.3795775\ttotal: 3.47s\tremaining: 206ms\n",
            "236:\tlearn: 31589.0012063\ttotal: 3.48s\tremaining: 191ms\n",
            "237:\tlearn: 31561.0944293\ttotal: 3.52s\tremaining: 177ms\n",
            "238:\tlearn: 31535.3192364\ttotal: 3.53s\tremaining: 163ms\n",
            "239:\tlearn: 31507.5898946\ttotal: 3.54s\tremaining: 148ms\n",
            "240:\tlearn: 31476.8928709\ttotal: 3.56s\tremaining: 133ms\n",
            "241:\tlearn: 31453.1431153\ttotal: 3.57s\tremaining: 118ms\n",
            "242:\tlearn: 31430.6884117\ttotal: 3.58s\tremaining: 103ms\n",
            "243:\tlearn: 31407.4787509\ttotal: 3.59s\tremaining: 88.4ms\n",
            "244:\tlearn: 31381.2910719\ttotal: 3.61s\tremaining: 73.7ms\n",
            "245:\tlearn: 31357.1060606\ttotal: 3.63s\tremaining: 59ms\n",
            "246:\tlearn: 31335.6026886\ttotal: 3.64s\tremaining: 44.2ms\n",
            "247:\tlearn: 31320.6875739\ttotal: 3.66s\tremaining: 29.5ms\n",
            "248:\tlearn: 31297.6430269\ttotal: 3.67s\tremaining: 14.7ms\n",
            "249:\tlearn: 31272.8995655\ttotal: 3.68s\tremaining: 0us\n"
          ]
        },
        {
          "output_type": "execute_result",
          "data": {
            "text/plain": [
              "<catboost.core.CatBoostRegressor at 0x7ddc4012c760>"
            ]
          },
          "metadata": {},
          "execution_count": 65
        }
      ]
    },
    {
      "cell_type": "code",
      "source": [
        "y_pred = best_model_catboost_bert.predict(X_test)\n",
        "\n",
        "MAE_catboost_bert = mae(y_pred, y_test)\n",
        "r2_catboost_bert = r2(y_test, y_pred)\n",
        "print('MAE with catboost', round(MAE_catboost_bert, 2))\n",
        "print('R2 with catboost', round(r2_catboost_bert, 2))"
      ],
      "metadata": {
        "id": "2dMkiC3SqMYn",
        "colab": {
          "base_uri": "https://localhost:8080/"
        },
        "outputId": "ff07e25c-ad1d-476d-85fa-d987adb89aac"
      },
      "execution_count": 66,
      "outputs": [
        {
          "output_type": "stream",
          "name": "stdout",
          "text": [
            "MAE with catboost 28152.34\n",
            "R2 with catboost 0.61\n"
          ]
        }
      ]
    },
    {
      "cell_type": "code",
      "source": [],
      "metadata": {
        "id": "l7IhMs9RL5Ei"
      },
      "execution_count": null,
      "outputs": []
    }
  ]
}